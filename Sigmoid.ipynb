{
 "cells": [
  {
   "cell_type": "code",
   "execution_count": 1,
   "metadata": {},
   "outputs": [],
   "source": [
    "import numpy as np\n",
    "import random as random\n",
    "import matplotlib.pyplot as plt\n",
    "import time\n",
    "import pandas as pd\n",
    "import multiprocessing\n",
    "import itertools\n",
    "from scipy.spatial import distance\n",
    "from matplotlib import animation\n",
    "\n",
    "PATH = '../StudyGroup/'"
   ]
  },
  {
   "cell_type": "code",
   "execution_count": 2,
   "metadata": {},
   "outputs": [],
   "source": [
    "#Import Data\n",
    "farmData = pd.read_csv(PATH +'Farms_2010_RSG', sep = '\\s+', header = None, names = ['County Number', 'Parish Number', 'Holding Number',\n",
    "                                                                              'X Coordinate', 'Y Coordinate', 'Number of Cattle', \n",
    "                                                                              'Number of Sheep'])\n",
    "cumbData = farmData[farmData['County Number'] == 8]\n",
    "cumbData = cumbData.reset_index(drop=True)\n",
    "xCumb = cumbData['X Coordinate']/100000\n",
    "yCumb = cumbData['Y Coordinate']/100000\n",
    "xmax = np.max(xCumb)\n",
    "xmin = np.min(xCumb)\n",
    "ymax = np.max(yCumb)\n",
    "ymin = np.min(yCumb)\n",
    "sizex = xmax-xmin\n",
    "sizey = ymax-ymin\n",
    "cattleFrame = cumbData['Number of Cattle']\n",
    "sheepFrame = cumbData['Number of Sheep']\n",
    "xcoord = xCumb - xmin #Shift to start from (0, 0)\n",
    "ycoord = yCumb - ymin #Shift to start from (0, 0)\n",
    "N=np.size(xcoord)"
   ]
  },
  {
   "cell_type": "code",
   "execution_count": 3,
   "metadata": {},
   "outputs": [],
   "source": [
    "#Calculate Euclidean distances\n",
    "xinput = xcoord.values\n",
    "yinput = ycoord.values\n",
    "joinedinput = np.column_stack((xinput, yinput))\n",
    "dist = distance.cdist(joinedinput, joinedinput, 'euclidean')"
   ]
  },
  {
   "cell_type": "code",
   "execution_count": 11,
   "metadata": {},
   "outputs": [],
   "source": [
    "#Parameter values\n",
    "        \n",
    "psi = 0.00657\n",
    "nu = 1.99*(10**(-7))\n",
    "xi = 2.65\n",
    "zeta = 1.80\n",
    "chi = 0.403\n",
    "s = np.random.negative_binomial(50, 50/55, N) #Draw latent periods\n",
    "r = np.random.negative_binomial(30, 30/39, N) #Draw infectious periods\n",
    "\n",
    "t = 0\n",
    "A = np.zeros(shape=(N,4))\n",
    "output = np.zeros(shape=(N,6))\n",
    "mycolumns = ['Farm Number', 'Status', 'Time of Exposure', 'Time of Culling',\n",
    "                                       'Latent Period', 'Infectious Period', 'X coordinate', 'Y coordinate']\n",
    "InfectedFarms  = pd.DataFrame(columns =mycolumns)\n",
    "resourceNum=10 #Number of farms that can be culled each day"
   ]
  },
  {
   "cell_type": "code",
   "execution_count": 5,
   "metadata": {},
   "outputs": [],
   "source": [
    "InfectedFarms['Farm Number']= cumbData.index                                                                                               \n",
    "InfectedFarms['Status' ] = np.zeros(N)\n",
    "InfectedFarms['Latent Period'] = s\n",
    "InfectedFarms['Infectious Period'] = r\n",
    "InfectedFarms['X coordinate'] = xinput\n",
    "InfectedFarms['Y coordinate'] = yinput\n",
    "InfectedFarms[['Time of Exposure', 'Time of Culling']]=[-100,-100]"
   ]
  },
  {
   "cell_type": "code",
   "execution_count": 7,
   "metadata": {},
   "outputs": [],
   "source": [
    "#Calculate distance kernel\n",
    "cattle = abs(cattleFrame.values)\n",
    "sheep = abs(sheepFrame.values)\n",
    "K = psi/(psi**2 + dist**2)\n",
    "\n",
    "K[np.where(dist > 0.2)] = 0\n",
    "\n",
    "beta1 = np.zeros(N)\n",
    "beta1 = nu*(xi*(cattle)**chi + (sheep)**chi)"
   ]
  },
  {
   "cell_type": "code",
   "execution_count": 8,
   "metadata": {},
   "outputs": [],
   "source": [
    "#Choose initial case\n",
    "\n",
    "initial1 = random.randint(0,N)\n",
    "initial2=initial1+1\n",
    "initial3=initial2+1\n",
    "initial4=initial3+1"
   ]
  },
  {
   "cell_type": "code",
   "execution_count": 9,
   "metadata": {},
   "outputs": [],
   "source": [
    "InfectedFarms.loc[initial1,['Status', 'Time of Exposure']] =[1,t]\n",
    "InfectedFarms.loc[initial2,['Status', 'Time of Exposure']] =[1,t]\n",
    "InfectedFarms.loc[initial3,['Status', 'Time of Exposure']] =[1,t]\n",
    "InfectedFarms.loc[initial4,['Status', 'Time of Exposure']] =[1,t]"
   ]
  },
  {
   "cell_type": "markdown",
   "metadata": {},
   "source": [
    "## movements"
   ]
  },
  {
   "cell_type": "code",
   "execution_count": 10,
   "metadata": {},
   "outputs": [],
   "source": [
    "CumbNum=cumbData.index.values+1 \n",
    "Movement=pd.read_csv(PATH + 'movements_unique', \n",
    "                       names = [\"From\", \"To\", \"Weight\"], delim_whitespace=True)\n",
    "Movement=np.absolute(Movement);\n",
    "# take movement from CumbNum to CumbNum\n",
    "CumbMoveInt=Movement[Movement['From'].isin(CumbNum)]\n",
    "CumbMove=CumbMoveInt[CumbMoveInt['To'].isin(CumbNum)]\n",
    "\n",
    "CumbMoveFrom=CumbMove['From'].values\n",
    "CumbMoveTo=CumbMove['To'].values\n",
    "CumbMoveW=CumbMove['Weight'].values"
   ]
  },
  {
   "cell_type": "code",
   "execution_count": null,
   "metadata": {},
   "outputs": [],
   "source": [
    "start_time = time.time()\n",
    "infectind=[]\n",
    "while sum(I == 1) + sum(I == 2) > 0:\n",
    "\n",
    "#Calculate transmission rate\n",
    "\n",
    "    t = t + 1\n",
    "    #print(\"Day\", t, \"Exposed\", sum(I == 1), \"Infected\", sum(I == 2), \"Culled\", sum(I == 3))\n",
    "\n",
    "    beta = np.zeros(N)\n",
    "    for j in range(N):\n",
    "        beta[j] = beta1[j]*(np.sum((zeta*(cattle[I == 2]**chi) + sheep[I == 2]**chi)*K[I == 2, j]))   \n",
    "\n",
    "#Calculate probability of infection\n",
    "    \n",
    "    prob_inf = 1 - np.exp(-beta)\n",
    "    \n",
    "#Infect if probability is less that a uniform sample\n",
    "\n",
    "    unif = np.random.uniform(0, 1, N)\n",
    "\n",
    "#Infection based on distance kernel\n",
    "    for i in range(0,N):\n",
    "        if (unif[i] <= prob_inf[i] and I[i] == 0):\n",
    "            I[i] =  1\n",
    "            A[i, ] = [i, t, s[i], r[i], A[i,4], A[i,5]]\n",
    "            #print(\"Farm\", i, \"Day\", t)\n",
    "            \n",
    "#Infection based on movement data\n",
    "    for j in range(len(infectind)):\n",
    "        possible_contacts=farm_to[farm_from==infectind[j]]\n",
    "        weight_contacts=weights[farm_from==infectind[j]]\n",
    "        for i in range(len(possible_contacts)):\n",
    "            if (weight_contacts[i]>np.random.rand()) and (I[possible_contacts[i]]==0):\n",
    "                I[possible_contacts[i]]=1 \n",
    "                A[possible_contacts[i], ] = [possible_contacts[i], t, s[possible_contacts[i]], r[possible_contacts[i]], A[possible_contacts[i],4], A[possible_contacts[i],5]]\n",
    "                movement_infection=movement_infection+1\n",
    "#Update states\n",
    "        \n",
    "    inf = A[:,0][A[:,1] + A[:,2] == t] #Move to I state once latent period is over\n",
    "    I[inf.astype(np.int64)] = 2\n",
    "    \n",
    "    #We have a limited number of resources available.\n",
    "    #Determine which animals are past their infectious period \n",
    "    #and should be added to the list of animals that need to be culled.\n",
    "    a = [A[i,0] for i in range(N)  if ((A[i,1]+A[i,2]+A[i,3] <= t) and (I[A[i,0]]==2))]\n",
    "    A[a,4] = 1\n",
    "    A[a,5] = t-A[a,3]-A[a,2]-A[a,1]\n",
    "    toBeCulled = np.zeros(shape=(np.size(a),2), dtype=np.int64)\n",
    "    toBeCulled[:,0] = a\n",
    "    toBeCulled[:,1] = A[a,5]\n",
    "    toBeCulledOrder = toBeCulled[np.argsort((-1*toBeCulled[:, 1]))][:,0]\n",
    "    culling = A[toBeCulledOrder[0:resourceNum],0]\n",
    "    I[culling] = 3\n",
    "    #out = sum(output[:,1] != 0)\n",
    "    \n",
    "    \n",
    "#Store output\n",
    "\n",
    "    #if len(rem) > 0:\n",
    "        #for i in range(0,len(rem)):\n",
    "            #output[out + i,] = [rem[i], t - A[i,2] - A[i,3], xcoord[rem.astype(np.int64)[i]], ycoord[rem.astype(np.int64)[i]], cattle[rem.astype(np.int64)[i]], sheep[rem.astype(np.int64)[i]]]\n",
    "     \n",
    "print(\"--- %s seconds ---\" % (time.time() - start_time))\n"
   ]
  },
  {
   "cell_type": "code",
   "execution_count": 84,
   "metadata": {},
   "outputs": [
    {
     "data": {
      "text/plain": [
       "[<matplotlib.lines.Line2D at 0x7fdaf6bff4a8>]"
      ]
     },
     "execution_count": 84,
     "metadata": {},
     "output_type": "execute_result"
    },
    {
     "data": {
      "image/png": "[encoded data removed]",
      "text/plain": [
       "<matplotlib.figure.Figure at 0x7fdac8dea940>"
      ]
     },
     "metadata": {},
     "output_type": "display_data"
    }
   ],
   "source": [
    "# probability_report \n",
    "import math\n",
    "\n",
    "def sigmoid(x):\n",
    "    return 0.8*(1 / (1 + np.exp(-(x/10-6))))\n",
    "plt.plot(np.arange(300), sigmoid(np.arange(300)))\n"
   ]
  },
  {
   "cell_type": "code",
   "execution_count": null,
   "metadata": {},
   "outputs": [],
   "source": [
    "start_time = time.time()\n",
    "IP = InfectedFarms['Status']\n",
    "T = 0\n",
    "while sum(IP == 1) + sum(IP == 2) > 0:\n",
    "    T = T+1\n",
    "#     print(\"Day\", T, \"Exposed\", sum(IP == 1), \"Infected\", sum(IP == 2), \"Culled\", sum(IP == 3))\n",
    "    \n",
    "    beta = np.zeros(N)\n",
    "    for j in range(N):\n",
    "        beta[j] = beta1[j]*(np.sum((zeta*(cattle[IP == 2]**chi) + sheep[IP == 2]**chi)*K[IP == 2, j]))  \n",
    "    \n",
    "    prob_inf = 1 - np.exp(-beta)\n",
    "    unif = np.random.uniform(0, 1, N)\n",
    "    for i in range(0,N):\n",
    "        if (unif[i] <= prob_inf[i] and IP[i] == 0):\n",
    "            InfectedFarms.loc[i,['Status', 'Time of Exposure']] =[1,T]\n",
    "    \n",
    "    InfectedFarms.loc[InfectedFarms['Time of Exposure']+InfectedFarms['Latent Period'] == T, 'Status'] =2\n",
    "\n",
    "    InfectedFarms.loc[InfectedFarms['Time of Exposure']+\n",
    "                      InfectedFarms['Latent Period'] + InfectedFarms['Infectious Period']==T, 'Status'] =3\n",
    "\n",
    "    #We have a limited number of resources available.\n",
    "    #Determine which animals are past their infectious period \n",
    "    #and should be added to the list of animals that need to be culled.\n",
    "    for i in range(N):\n",
    "        if IP.values == 2:\n",
    "            prob_report = np.random.uniform(0,1)\n",
    "    a = [InfectedFarms['Farm Number'] for i in range(N)  if ((A[i,1]+A[i,2]+A[i,3] <= t) and (I[A[i,0]]==2))]\n",
    "    A[a,4] = 1\n",
    "    A[a,5] = t-A[a,3]-A[a,2]-A[a,1]\n",
    "    toBeCulled = np.zeros(shape=(np.size(a),2), dtype=np.int64)\n",
    "    toBeCulled[:,0] = a\n",
    "    toBeCulled[:,1] = A[a,5]\n",
    "    toBeCulledOrder = toBeCulled[np.argsort((-1*toBeCulled[:, 1]))][:,0]\n",
    "    culling = A[toBeCulledOrder[0:resourceNum],0]\n",
    "    I[culling] = 3\n",
    "    #out = sum(output[:,1] != 0)\n",
    "    \n",
    "    \n",
    "print(\"--- %s seconds ---\" % (time.time() - start_time))"
   ]
  }
 ],
 "metadata": {
  "kernelspec": {
   "display_name": "Python 3",
   "language": "python",
   "name": "python3"
  },
  "language_info": {
   "codemirror_mode": {
    "name": "ipython",
    "version": 3
   },
   "file_extension": ".py",
   "mimetype": "text/x-python",
   "name": "python",
   "nbconvert_exporter": "python",
   "pygments_lexer": "ipython3",
   "version": "3.5.2"
  }
 },
 "nbformat": 4,
 "nbformat_minor": 2
}
