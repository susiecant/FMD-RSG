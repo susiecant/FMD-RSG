{
 "cells": [
  {
   "cell_type": "markdown",
   "metadata": {},
   "source": [
    "10 simulations of control policies under a random seed"
   ]
  },
  {
   "cell_type": "markdown",
   "metadata": {},
   "source": [
    "Note: error in local movement control with farm-size based radius"
   ]
  },
  {
   "cell_type": "markdown",
   "metadata": {},
   "source": [
    "# 1. no control"
   ]
  },
  {
   "cell_type": "code",
   "execution_count": 1,
   "metadata": {
    "collapsed": true
   },
   "outputs": [],
   "source": [
    "import numpy as np"
   ]
  },
  {
   "cell_type": "code",
   "execution_count": 2,
   "metadata": {},
   "outputs": [],
   "source": [
    "duration1=np.array([124, 127, 130, 152, 119, 121, 128, 122, 157, 136])\n",
    "cullfarm1=np.array([4036, 4082, 4068, 4065, 4054, 4076, 4071, 4080, 4081, 4065])\n",
    "cullani1=np.array([2267092.2400000002, 2268202.8999999999, 2275593.73, 2276153.73, 2280372.2400000002, 2285852.6299999999, 2277170.9900000002, 2272609.6499999999, 2288178.9900000002, 2282381.7400000002])\n",
    "movecount1=np.array([201, 207, 208, 208, 219, 223, 221, 227, 223, 222])"
   ]
  },
  {
   "cell_type": "markdown",
   "metadata": {},
   "source": [
    "# 2. global movement control"
   ]
  },
  {
   "cell_type": "code",
   "execution_count": 3,
   "metadata": {
    "collapsed": true
   },
   "outputs": [],
   "source": [
    "duration2=np.array([232, 248, 257, 230, 233, 193, 203, 228, 278, 255])\n",
    "cullfarm2=np.array([4026, 4005, 4032, 4013, 4038, 3975, 3983, 4017, 3961, 4026])\n",
    "cullani2=np.array([2243939.75, 2209911.3999999999, 2254917.8300000001, 2258833.7599999998, 2249645.4199999999, 2182089.7400000002, 2209283.2599999998, 2229947.3900000001, 2194311.7599999998, 2253977.25])\n",
    "movecount2=np.array([0, 0, 0, 0, 0, 0, 0, 0, 0, 0])"
   ]
  },
  {
   "cell_type": "markdown",
   "metadata": {},
   "source": [
    "# 3. local movement control (radius 0)"
   ]
  },
  {
   "cell_type": "code",
   "execution_count": 4,
   "metadata": {
    "collapsed": true
   },
   "outputs": [],
   "source": [
    "duration3=np.array([151, 167, 200, 179, 129, 206, 248, 170, 166, 189])\n",
    "cullfarm3=np.array([4027, 4006, 4027, 3972, 4003, 4049, 4034, 4028, 3999, 4032])\n",
    "cullani3=np.array([2253698.0899999999, 2234462.96, 2243439.8999999999, 2192764.8900000001, 2230736.2199999997, 2268549.2999999998, 2247705.1299999999, 2235524.1499999999, 2236387.6400000001, 2248247.9100000001])\n",
    "movecount3=np.array([43, 31, 42, 38, 40, 40, 30, 44, 38, 34])"
   ]
  },
  {
   "cell_type": "markdown",
   "metadata": {},
   "source": [
    "# 4. local movement control (radius 1000)"
   ]
  },
  {
   "cell_type": "code",
   "execution_count": 5,
   "metadata": {
    "collapsed": true
   },
   "outputs": [],
   "source": [
    "duration4=np.array([194, 165, 184, 221, 172, 188, 163, 168, 164, 175])\n",
    "cullfarm4=np.array([3985, 3988, 3982, 4007, 4007, 3996, 4019, 3997, 4024, 3989])\n",
    "cullani4=np.array([2216305.1400000001, 2215382.3999999999, 2202350.3900000001, 2239184.2200000002, 2230966.6400000001, 2236143.2199999997, 2226583.3399999999, 2219209.5600000001, 2233798.3900000001, 2209959.9199999999])\n",
    "movecount4=np.array([23, 22, 26, 17, 23, 21, 24, 25, 18, 22])"
   ]
  },
  {
   "cell_type": "markdown",
   "metadata": {},
   "source": [
    "# 5. local movement control (radius 3000)"
   ]
  },
  {
   "cell_type": "code",
   "execution_count": 6,
   "metadata": {
    "collapsed": true
   },
   "outputs": [],
   "source": [
    "duration5=np.array([251, 199, 207, 205, 225, 225, 202, 152, 242, 249])\n",
    "cullfarm5=np.array([4027, 3979, 4023, 4017, 4012, 3976, 3975, 3984, 4028, 3982])\n",
    "cullani5=np.array([2253257.0800000001, 2212371.73, 2246347.98, 2244751.0800000001, 2238650.1800000002, 2207465.5699999998, 2202710.6600000001, 2200282.7400000002, 2255830.4900000002, 2212987.6499999999])\n",
    "movecount5=np.array([4, 5, 3, 2, 1, 4, 2, 4, 2, 2])"
   ]
  },
  {
   "cell_type": "markdown",
   "metadata": {},
   "source": [
    "# 6. local movement control (radius 5000)"
   ]
  },
  {
   "cell_type": "code",
   "execution_count": 7,
   "metadata": {
    "collapsed": true
   },
   "outputs": [],
   "source": [
    "duration6=np.array([248, 198, 191, 266, 229, 269, 202, 261, 236, 188])\n",
    "cullfarm6=np.array([3989, 4002, 4012, 3980, 3979, 4023, 3990, 4036, 4021, 3993])\n",
    "cullani6=np.array([2212016.23, 2235760.29, 2231502.25, 2205333.8799999999, 2194614.9900000002, 2239250.98, 2222591.96, 2256607.3900000001, 2257417.9900000002, 2214037.0099999998])\n",
    "movecount6=np.array([0, 1, 4, 1, 1, 0, 1, 1, 2, 2])"
   ]
  },
  {
   "cell_type": "markdown",
   "metadata": {},
   "source": [
    "# 7. local movement control(radius based on farm size)"
   ]
  },
  {
   "cell_type": "code",
   "execution_count": 8,
   "metadata": {
    "collapsed": true
   },
   "outputs": [],
   "source": [
    "duration7=np.array([250, 240, 187, 248, 198, 238, 259, 203, 269, 218])\n",
    "cullfarm7=np.array([4036, 3904, 3996, 4030, 3968, 4016, 3996, 4032, 4000, 4025])\n",
    "cullani7=np.array([2257769.52, 2139896.2800000003, 2215014.2400000002, 2252057.3900000001, 2190135.8700000001, 2242699.2400000002, 2220551.98, 2256589.5699999998, 2212289.3900000001, 2237278.4399999999])\n",
    "movecount7=np.array([0, 0, 0, 0, 0, 0, 0, 0, 0, 0])"
   ]
  },
  {
   "cell_type": "markdown",
   "metadata": {},
   "source": [
    "# 8. ring cull (radius 1000)"
   ]
  },
  {
   "cell_type": "code",
   "execution_count": 9,
   "metadata": {
    "collapsed": true
   },
   "outputs": [],
   "source": [
    "duration8=np.array([156, 137, 154, 141, 130, 125, 146, 123, 130, 153])\n",
    "cullfarm8=np.array([4216, 4205, 4238, 4207, 4215, 4209, 4195, 4167, 4166, 4235])\n",
    "cullani8=np.array([2249572.2999999998, 2247289.3300000001, 2258630.3100000001, 2230722.52, 2251457.9900000002, 2235669.5, 2228382.0499999998, 2198096.3300000001, 2197468.7199999997, 2264249.4500000002])\n",
    "movecount8=np.array([160, 173, 200, 175, 157, 172, 174, 163, 176, 171])"
   ]
  },
  {
   "cell_type": "markdown",
   "metadata": {},
   "source": [
    "# 9. ring cull (radius 3000)"
   ]
  },
  {
   "cell_type": "code",
   "execution_count": 10,
   "metadata": {
    "collapsed": true
   },
   "outputs": [],
   "source": [
    "duration9=np.array([132, 175, 157, 145, 121, 173, 20, 180, 153, 128])\n",
    "cullfarm9=np.array([3789, 3619, 3761, 3983, 3964, 3711, 61, 3708, 3834, 3632])\n",
    "cullani9=np.array([1913769.24, 1728679.3700000001, 1919425.6600000001, 2052036.1400000001, 2040948.8700000001, 1898211.27, 22498.919999999998, 1835176.25, 1960325.5600000001, 1798532.3200000001])\n",
    "movecount9=np.array([60, 62, 68, 74, 73, 49, 0, 64, 61, 61])"
   ]
  },
  {
   "cell_type": "markdown",
   "metadata": {},
   "source": [
    "# 10. ring cull (radius 5000)"
   ]
  },
  {
   "cell_type": "code",
   "execution_count": 11,
   "metadata": {
    "collapsed": true
   },
   "outputs": [],
   "source": [
    "duration10=np.array([60, 6, 10, 19, 35, 144, 92, 27, 26, 135])\n",
    "cullfarm10=np.array([549, 71, 43, 164, 320, 3527, 2456, 285, 258, 3372])\n",
    "cullani10=np.array([261889.03999999998, 22595.23, 25409.220000000001, 40288.220000000001, 168016.54999999999, 1747829.8799999999, 1142872.4199999999, 109144.95999999999, 131875.79999999999, 1662284.5600000001])\n",
    "movecount10=np.array([4, 0, 0, 0, 1, 42, 26, 1, 2, 33])"
   ]
  },
  {
   "cell_type": "markdown",
   "metadata": {},
   "source": [
    "# 11. ring cull (radius 1000, limited resource 20)"
   ]
  },
  {
   "cell_type": "code",
   "execution_count": 12,
   "metadata": {},
   "outputs": [],
   "source": [
    "duration11=np.array([236, 237, 235, 240, 235, 237, 254, 239, 235, 238])\n",
    "cullfarm11=np.array([4201, 4196, 4194, 4198, 4191, 4203, 4201, 4194, 4194, 4184])\n",
    "cullani11=np.array([2311226.8199999998, 2312110.98, 2311118.8999999999, 2311237.3999999999, 2309846.73, 2311311.73, 2311937.3300000001, 2311327.5600000001, 2310856.73, 2310072.8199999998])\n",
    "movecount11=np.array([295, 267, 292, 259, 265, 258, 273, 299, 267, 296])"
   ]
  },
  {
   "cell_type": "markdown",
   "metadata": {},
   "source": [
    "# 12. ring cull (radius 3000, limited resource 20)"
   ]
  },
  {
   "cell_type": "code",
   "execution_count": 13,
   "metadata": {
    "collapsed": true
   },
   "outputs": [],
   "source": [
    "duration12=np.array([236, 10, 244, 236, 236, 12, 235, 17, 243, 247])\n",
    "cullfarm12=np.array([4191, 27, 4198, 4212, 4205, 33, 4207, 59, 4200, 4207])\n",
    "cullani12=np.array([2309353.4900000002, 5750.8299999999999, 2309198.0699999998, 2311329.3100000001, 2311175.98, 13623.82, 2311274.48, 28537.330000000002, 2306410.1400000001, 2309247.1499999999])\n",
    "movecount12=np.array([278, 0, 293, 261, 297, 0, 269, 0, 287, 241])"
   ]
  },
  {
   "cell_type": "markdown",
   "metadata": {},
   "source": [
    "# 13. ring cull (radius 5000, limited resource 20)"
   ]
  },
  {
   "cell_type": "code",
   "execution_count": 14,
   "metadata": {
    "collapsed": true
   },
   "outputs": [],
   "source": [
    "duration13=np.array([233, 242, 231, 239, 246, 239, 228, 234, 230, 18])\n",
    "cullfarm13=np.array([4198, 4203, 4211, 4199, 4199, 4185, 4194, 4213, 4203, 156])\n",
    "cullani13=np.array([2311034.48, 2312153.9900000002, 2312179.3999999999, 2311132.4100000001, 2312015.8100000001, 2309863.3199999998, 2311249.0700000003, 2309970.48, 2309039.8900000001, 64218.410000000003])\n",
    "movecount13=np.array([272, 241, 264, 250, 262, 259, 271, 239, 251, 0])"
   ]
  },
  {
   "cell_type": "code",
   "execution_count": 15,
   "metadata": {
    "collapsed": true
   },
   "outputs": [],
   "source": [
    "import matplotlib.pyplot as plt "
   ]
  },
  {
   "cell_type": "code",
   "execution_count": 16,
   "metadata": {
    "collapsed": true
   },
   "outputs": [],
   "source": [
    "data_to_plot_duration = [duration1,duration2,duration3,duration4,duration5,duration6,duration7,duration8,duration9,duration10,duration11,duration12,duration13]"
   ]
  },
  {
   "cell_type": "code",
   "execution_count": 17,
   "metadata": {},
   "outputs": [
    {
     "data": {
      "image/png": "[encoded data removed]",
      "text/plain": [
       "<matplotlib.figure.Figure at 0x11150e750>"
      ]
     },
     "metadata": {},
     "output_type": "display_data"
    }
   ],
   "source": [
    "plt.figure(1, figsize=(9, 6))\n",
    "plt.boxplot(data_to_plot_duration)\n",
    "plt.title('Boxplot for durations under different control strategies')\n",
    "plt.show()"
   ]
  },
  {
   "cell_type": "markdown",
   "metadata": {},
   "source": [
    "Movement control policies tend to increase duration. A possible reason may be that less farms are culled after being infected and reported.       \n",
    "\n",
    "Ring cull policied tend to shorten duration and 5km ring cull effectively reduce the duration of disease. However, resources might be limited and 5km ring cull may not be realistic.\n",
    "\n",
    "Ring cull with limited resources tend to lead to longer duration."
   ]
  },
  {
   "cell_type": "code",
   "execution_count": 18,
   "metadata": {
    "collapsed": true
   },
   "outputs": [],
   "source": [
    "data_to_plot_cullfarm1 = [cullfarm1,cullfarm2,cullfarm3,cullfarm4,cullfarm5,cullfarm6,cullfarm7,cullfarm8,cullfarm9,cullfarm10,cullfarm11,cullfarm12,cullfarm13]\n",
    "\n",
    "data_to_plot_cullfarm2 = [cullfarm1,cullfarm2,cullfarm3,cullfarm4,cullfarm5,cullfarm6,cullfarm7,cullfarm8]#,cullfarm9,cullfarm10]"
   ]
  },
  {
   "cell_type": "code",
   "execution_count": 19,
   "metadata": {},
   "outputs": [
    {
     "data": {
      "image/png": "[encoded data removed]",
      "text/plain": [
       "<matplotlib.figure.Figure at 0x119b531d0>"
      ]
     },
     "metadata": {},
     "output_type": "display_data"
    }
   ],
   "source": [
    "plt.figure(1, figsize=(9, 6))\n",
    "plt.boxplot(data_to_plot_cullfarm1)\n",
    "plt.title('Boxplot for culled farms under different control strategies')\n",
    "plt.show()"
   ]
  },
  {
   "cell_type": "markdown",
   "metadata": {},
   "source": [
    "zoom in"
   ]
  },
  {
   "cell_type": "code",
   "execution_count": 20,
   "metadata": {},
   "outputs": [
    {
     "data": {
      "image/png": "[encoded data removed]",
      "text/plain": [
       "<matplotlib.figure.Figure at 0x119ea8110>"
      ]
     },
     "metadata": {},
     "output_type": "display_data"
    }
   ],
   "source": [
    "plt.figure(1, figsize=(9, 6))\n",
    "plt.boxplot(data_to_plot_cullfarm2)\n",
    "plt.title('Boxplot for culled farms under different control strategies')\n",
    "plt.show()"
   ]
  },
  {
   "cell_type": "markdown",
   "metadata": {},
   "source": [
    "Movement control policies tend to reduce the number of culled farms.\n",
    "\n",
    "1km ring cull increase the number of culled farms.\n",
    "\n",
    "3km ring cull and 5km ring cull reduce the number of culled farms, and 5km ring cull has better performance. The variance of the number of culled farms for 5km ring cull is large.\n",
    "\n",
    "Ring cull with limited resources lead to high number of farms culled."
   ]
  },
  {
   "cell_type": "code",
   "execution_count": 21,
   "metadata": {
    "collapsed": true
   },
   "outputs": [],
   "source": [
    "data_to_plot_cullani1 = [cullani1,cullani2,cullani3,cullani4,cullani5,cullani6,cullani7,cullani8,cullani9,cullani10,cullani11,cullani12,cullani13]"
   ]
  },
  {
   "cell_type": "code",
   "execution_count": 22,
   "metadata": {},
   "outputs": [
    {
     "data": {
      "image/png": "[encoded data removed]",
      "text/plain": [
       "<matplotlib.figure.Figure at 0x119b5ee90>"
      ]
     },
     "metadata": {},
     "output_type": "display_data"
    }
   ],
   "source": [
    "plt.figure(1, figsize=(9, 6))\n",
    "plt.boxplot(data_to_plot_cullani1)\n",
    "plt.title('Boxplot for culled animals under different control strategies')\n",
    "plt.show()"
   ]
  },
  {
   "cell_type": "markdown",
   "metadata": {},
   "source": [
    "zoom in"
   ]
  },
  {
   "cell_type": "code",
   "execution_count": 23,
   "metadata": {
    "collapsed": true
   },
   "outputs": [],
   "source": [
    "data_to_plot_cullani2 = [cullani1,cullani2,cullani3,cullani4,cullani5,cullani6,cullani7,cullani8]#,cullani9,cullani10]"
   ]
  },
  {
   "cell_type": "code",
   "execution_count": 24,
   "metadata": {},
   "outputs": [
    {
     "data": {
      "image/png": "[encoded data removed]",
      "text/plain": [
       "<matplotlib.figure.Figure at 0x11150e350>"
      ]
     },
     "metadata": {},
     "output_type": "display_data"
    }
   ],
   "source": [
    "plt.figure(1, figsize=(9, 6))\n",
    "plt.boxplot(data_to_plot_cullani2)\n",
    "plt.title('Boxplot for culled animals under different control strategies')\n",
    "plt.show()"
   ]
  },
  {
   "cell_type": "markdown",
   "metadata": {},
   "source": [
    "The number of culled animals performs similarly as the number of culled farms."
   ]
  },
  {
   "cell_type": "code",
   "execution_count": 25,
   "metadata": {
    "collapsed": true
   },
   "outputs": [],
   "source": [
    "data_to_plot_movecount = [movecount1,movecount2,movecount3,movecount4,movecount5,movecount6,movecount7,movecount8,movecount9,movecount10]"
   ]
  },
  {
   "cell_type": "code",
   "execution_count": 26,
   "metadata": {},
   "outputs": [
    {
     "data": {
      "image/png": "[encoded data removed]",
      "text/plain": [
       "<matplotlib.figure.Figure at 0x119a795d0>"
      ]
     },
     "metadata": {},
     "output_type": "display_data"
    }
   ],
   "source": [
    "plt.figure(1, figsize=(9, 6))\n",
    "plt.boxplot(data_to_plot_movecount)\n",
    "plt.title('Boxplot for movement count under different control strategies')\n",
    "plt.show()"
   ]
  },
  {
   "cell_type": "markdown",
   "metadata": {},
   "source": [
    "This counts the movement number causing infection. As the random seed is same, 10 simulations are conducted in the same condition. The differences of movement counts between the case with no control and the case with control may indicate how many movements restricted for each conrol policy. However, it refers to the number of restricted movement causing infection. We may be more interested in the number of all restricted movements as they influence farmers' life and can be regarded as cost."
   ]
  },
  {
   "cell_type": "code",
   "execution_count": null,
   "metadata": {
    "collapsed": true
   },
   "outputs": [],
   "source": []
  }
 ],
 "metadata": {
  "kernelspec": {
   "display_name": "Python 2",
   "language": "python",
   "name": "python2"
  },
  "language_info": {
   "codemirror_mode": {
    "name": "ipython",
    "version": 2
   },
   "file_extension": ".py",
   "mimetype": "text/x-python",
   "name": "python",
   "nbconvert_exporter": "python",
   "pygments_lexer": "ipython2",
   "version": "2.7.14"
  }
 },
 "nbformat": 4,
 "nbformat_minor": 2
}
