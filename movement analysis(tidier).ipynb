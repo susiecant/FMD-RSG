{
 "cells": [
  {
   "cell_type": "code",
   "execution_count": 1,
   "metadata": {},
   "outputs": [],
   "source": [
    "import pandas as pd\n",
    "from numpy  import *\n",
    "import numpy as np\n",
    "import matplotlib.pyplot as plt"
   ]
  },
  {
   "cell_type": "code",
   "execution_count": null,
   "metadata": {},
   "outputs": [],
   "source": [
    "movement_data=pd.read_csv(\"movements_unique\",header=None, delim_whitespace=True)\n",
    "farmnum_from=movement_data.values[:,0]\n",
    "farmnum_to=movement_data.values[:,1]\n",
    "weight_link=movement_data.values[:,2]\n",
    "farms_2010=pd.read_csv(\"Farms_2010_RSG\",names=[\"county number\", \"parish number\", \"holding number\", \n",
    "                                               \"X coordinate\", \"Y coordinate\", \"number of cattle\", \n",
    "                                               \"number of sheep\"],delim_whitespace=True)\n",
    "Cumbparish=pd.DataFrame()\n",
    "Cumbparish.columns=['parish from','parish to','weight link']\n"
   ]
  },
  {
   "cell_type": "code",
   "execution_count": null,
   "metadata": {},
   "outputs": [],
   "source": [
    "county_2010=farms_2010.values[:,0]\n",
    "county_to=np.zeros(len(farmnum_to))\n",
    "for i in range(len(farmnum_to)):\n",
    "    county_to[i]=county_2010[int(farmnum_to[i])-1]\n",
    "    \n",
    "county_from=np.zeros(len(farmnum_from))\n",
    "for i in range(len(farmnum_from)):\n",
    "    county_from[i]=county_2010[int(farmnum_from[i])-1]\n",
    "movement_data[3]=county_from\n",
    "movement_data[4]=county_to"
   ]
  },
  {
   "cell_type": "code",
   "execution_count": null,
   "metadata": {},
   "outputs": [],
   "source": [
    "parish_2010=farms_2010.values[:,1]\n",
    "parish_to=np.zeros(len(farmnum_to))\n",
    "for i in range(len(farmnum_to)):\n",
    "    parish_to[i]=parish_2010[int(farmnum_to[i])-1]\n",
    "    \n",
    "parish_from=np.zeros(len(farmnum_from))\n",
    "for i in range(len(farmnum_from)):\n",
    "    parish_from[i]=parish_2010[int(farmnum_from[i])-1]\n",
    "movement_data[5]=parish_from\n",
    "movement_data[6]=parish_to"
   ]
  },
  {
   "cell_type": "code",
   "execution_count": null,
   "metadata": {},
   "outputs": [],
   "source": [
    "cumbData = farms_2010[farms_2010['county number'] == 8]\n",
    "Cumbonlymov=[]\n",
    "for i in range(len(county_to)):\n",
    "    if ((county_to[i]==8) and (county_from[i]==8)):\n",
    "        Cumbonlymov.append(i)\n",
    "cumbparishmov=movement_data[(movement_data[3]==8) & (movement_data[4]==8)]\n",
    "cumbparishmov.columns=['farm number from','farm number to','weight link'\n",
    "                       ,'county from','county to','parish from','parish to']\n"
   ]
  },
  {
   "cell_type": "code",
   "execution_count": null,
   "metadata": {},
   "outputs": [],
   "source": [
    "cumbparishmov2=cumbparishmov.drop(['farm number from','farm number to','county from','county to'],axis=1)\n",
    "cumparwl=cumbparishmov2.values[:,0]\n",
    "cumparf=cumbparishmov2.values[:,1]\n",
    "cumpart=cumbparishmov2.values[:,2]"
   ]
  },
  {
   "cell_type": "code",
   "execution_count": null,
   "metadata": {},
   "outputs": [],
   "source": [
    "cumparf2=cumparf[0]\n",
    "cumpart2=cumpart[0]\n",
    "cumparwl2=cumparwl[0]\n",
    "for i in range(len(cumparf)-1):\n",
    "    a=cumparf[i+1]\n",
    "    b=cumpart[i+1]\n",
    "    [stat1]=np.where((cumparf2==a) & (cumpart2==b))\n",
    "    if stat1.size:\n",
    "        cumparwl2[cumparf2==cumparf[i+1]]=cumparwl2[cumparf2==cumparf[i+1]]+cumparwl[i+1]\n",
    "        \n",
    "    else:\n",
    "        cumparf2=np.append(cumparf2,cumparf[i+1])\n",
    "        cumpart2=np.append(cumpart2,cumpart[i+1])\n",
    "        cumparwl2=np.append(cumparwl2,cumparwl[i+1])"
   ]
  },
  {
   "cell_type": "code",
   "execution_count": null,
   "metadata": {},
   "outputs": [],
   "source": [
    "Cumbparish['parish from']=cumparf2\n",
    "Cumbparish['parish to']=cumpart2\n",
    "Cumbparish['weight link']=cumparwl2"
   ]
  },
  {
   "cell_type": "code",
   "execution_count": null,
   "metadata": {},
   "outputs": [],
   "source": [
    "Cumbparish.to_csv(\"Cumbparish.csv\",index=False)"
   ]
  },
  {
   "cell_type": "code",
   "execution_count": null,
   "metadata": {},
   "outputs": [],
   "source": [
    "unweightedCumbparish=Cumbparish.drop('weight link',axis=1)"
   ]
  },
  {
   "cell_type": "code",
   "execution_count": null,
   "metadata": {},
   "outputs": [],
   "source": [
    "unweightedCumbparish.to_csv(\"unweightedCumbparish.csv\",index=False)"
   ]
  }
 ],
 "metadata": {
  "kernelspec": {
   "display_name": "Python 3",
   "language": "python",
   "name": "python3"
  },
  "language_info": {
   "codemirror_mode": {
    "name": "ipython",
    "version": 3
   },
   "file_extension": ".py",
   "mimetype": "text/x-python",
   "name": "python",
   "nbconvert_exporter": "python",
   "pygments_lexer": "ipython3",
   "version": "3.5.2"
  }
 },
 "nbformat": 4,
 "nbformat_minor": 2
}
