{
 "cells": [
  {
   "cell_type": "markdown",
   "metadata": {},
   "source": [
    "50 simulations for control policies"
   ]
  },
  {
   "cell_type": "code",
   "execution_count": 78,
   "metadata": {},
   "outputs": [],
   "source": [
    "import os\n",
    "import pandas as pd\n",
    "import numpy as np\n",
    "\n",
    "os.chdir('/home/emma/StudyGroup/');\n",
    "countyNumber = 8\n",
    "farmData=pd.read_csv(\"Farms_2010_RSG\",names=[\"County Number\", \"Parish Number\", \"Holding Number\", \n",
    "                                               \"X Coordinate\", \"Y Coordinate\", \"Number of Cattle\", \n",
    "                                               \"Number of Sheep\"],delim_whitespace=True)\n",
    "cumbData = farmData[farmData['County Number'] == countyNumber]\n",
    "CumbNum=cumbData.index.values+1\n",
    "CumbFarmNum=len(CumbNum)"
   ]
  },
  {
   "cell_type": "code",
   "execution_count": 79,
   "metadata": {},
   "outputs": [],
   "source": [
    "directfarmcost = []\n",
    "directfarmcost_std = []\n",
    "welfarecost = []\n",
    "welfarecost_std = []\n",
    "agsectorloss = []\n",
    "agsectorloss_std = []\n",
    "exportloss = []\n",
    "exportloss_std = []\n",
    "tourismcost = []\n",
    "tourismcost_std = []"
   ]
  },
  {
   "cell_type": "code",
   "execution_count": null,
   "metadata": {},
   "outputs": [],
   "source": []
  },
  {
   "cell_type": "code",
   "execution_count": null,
   "metadata": {},
   "outputs": [],
   "source": []
  },
  {
   "cell_type": "markdown",
   "metadata": {},
   "source": [
    "# 1. 3km ring cull, no movement ban"
   ]
  },
  {
   "cell_type": "code",
   "execution_count": 80,
   "metadata": {},
   "outputs": [],
   "source": [
    "duration1=np.array([43, 16, 15, 46, 177, 24, 16, 30, 36, 233, 177, 8, 15, 193, 239, 197, 176, 12, 39, 18, 176, 169, 192, 8, 205, 33, 60, 225, 152, 185, 16, 15, 19, 22, 33, 15, 36, 16, 8, 169, 15, 24, 162, 151, 171, 18, 12, 178, 166, 183])\n",
    "cullfarmnum1=np.array([163, 81, 20, 266, 3339, 85, 53, 37, 158, 3641, 1620, 32, 62, 3449, 3756, 3404, 3137, 26, 161, 105, 3103, 3147, 3294, 34, 3055, 128, 194, 3133, 2896, 3101, 64, 61, 109, 42, 173, 36, 131, 53, 30, 3028, 58, 49, 2895, 2838, 2882, 90, 44, 3046, 3112, 3173])\n",
    "cullsheepnum1=np.array([29230.0, 29776.0, 5855.0, 65370.0, 1653928.0, 37236.0, 19110.0, 7595.0, 75800.0, 1663415.0, 633114.0, 5265.0, 3486.0, 1662463.0, 1559494.0, 1666899.0, 1623109.0, 13134.0, 65248.0, 26778.0, 1634574.0, 1665935.0, 1692964.0, 6328.0, 1641771.0, 64521.0, 102330.0, 1606724.0, 1643682.0, 1606845.0, 19319.0, 35526.0, 50764.0, 24528.0, 62525.0, 15292.0, 61337.0, 33083.0, 13347.0, 1647193.0, 22558.0, 11576.0, 1639172.0, 1591496.0, 1624952.0, 56474.0, 20940.0, 1600376.0, 1663109.0, 1671910.0])\n",
    "cullcattlenum1=np.array([22485.099999999999, 9207.7600000000002, 2266.3299999999995, 36610.849999999999, 437878.84999999998, 9484.0, 7259.0, 2176.73, 13981.42, 441493.22999999998, 175527.22, 4750.0699999999997, 10100.17, 445716.07999999996, 429754.53999999998, 441854.29999999999, 433714.92999999999, 1025.3299999999999, 13370.650000000001, 14046.869999999999, 434146.30999999994, 436972.33999999997, 443495.20999999996, 4534.2299999999996, 435919.23999999999, 13456.67, 12349.900000000001, 431644.35999999999, 435628.43000000005, 436550.68999999994, 2561.3399999999997, 3800.77, 11219.57, 1120.02, 13434.689999999999, 2634.0900000000001, 21708.900000000001, 15704.82, 2348.5799999999999, 435814.35999999999, 4740.8999999999996, 2415.6799999999998, 439886.66000000003, 434211.90000000002, 436230.65999999997, 12207.139999999999, 3876.8500000000004, 429414.92000000004, 440566.43000000005, 445493.27000000002])\n",
    "movecount1=np.array([0, 0, 0, 0, 3, 0, 0, 0, 0, 6, 2, 0, 0, 4, 5, 3, 4, 0, 0, 0, 4, 5, 6, 0, 3, 0, 0, 5, 7, 0, 0, 0, 0, 0, 0, 0, 0, 0, 0, 1, 0, 0, 2, 1, 2, 0, 0, 5, 3, 3])"
   ]
  },
  {
   "cell_type": "code",
   "execution_count": 81,
   "metadata": {},
   "outputs": [],
   "source": [
    "directfarmcost1=cullsheepnum1*320+cullcattlenum1*1200\n",
    "welfarecost1=0\n",
    "agsectorloss1=0\n",
    "exportloss1=401000*(duration1+100)\n",
    "tourismcost1=0\n",
    "\n",
    "cost1=directfarmcost1+welfarecost1+agsectorloss1+exportloss1+tourismcost1\n",
    "directfarmcost.append(np.mean(directfarmcost1))\n",
    "directfarmcost_std.append(np.std(directfarmcost1))\n",
    "welfarecost.append(np.mean(welfarecost1))\n",
    "welfarecost_std.append(np.std(welfarecost1))\n",
    "agsectorloss.append(np.mean(agsectorloss1))\n",
    "agsectorloss_std.append(np.std(agsectorloss1))\n",
    "exportloss.append(np.mean(exportloss1))\n",
    "exportloss_std.append(np.std(exportloss1))\n",
    "tourismcost.append(np.mean(tourismcost1))\n",
    "tourismcost_std.append(np.std(tourismcost1))"
   ]
  },
  {
   "cell_type": "markdown",
   "metadata": {},
   "source": [
    "# 2. 3km ring cull, complete movement ban"
   ]
  },
  {
   "cell_type": "code",
   "execution_count": 110,
   "metadata": {},
   "outputs": [],
   "source": [
    "duration2=np.array([32, 64, 45, 38, 31, 85, 204, 15, 11, 9, 43, 16, 12, 12, 10, 9, 17, 9, 24, 295, 29, 36, 51, 12, 11, 29, 152, 30, 30, 180, 33, 85, 17, 31, 10, 44, 15, 16, 16, 15, 40, 12, 22, 16, 183, 32, 214, 208, 31, 17])\n",
    "cullfarmnum2=np.array([172, 276, 137, 218, 239, 711, 3470, 46, 42, 30, 184, 84, 32, 28, 15, 36, 69, 18, 107, 3707, 106, 167, 171, 41, 15, 86, 2994, 224, 158, 3234, 167, 701, 80, 120, 47, 308, 73, 37, 67, 50, 229, 34, 124, 57, 3144, 109, 3444, 3433, 134, 25])\n",
    "cullsheepnum2=np.array([21103.0, 168507.0, 58702.0, 74366.0, 91828.0, 269918.0, 1563255.0, 14086.0, 3701.0, 13771.0, 77053.0, 22928.0, 11445.0, 24891.0, 19558.0, 10768.0, 26170.0, 2516.0, 29719.0, 1619042.0, 20582.0, 78492.0, 107190.0, 12222.0, 740.0, 47051.0, 1643394.0, 90914.0, 46618.0, 1635999.0, 13868.0, 354130.0, 21718.0, 24502.0, 11552.0, 112825.0, 27078.0, 4932.0, 26085.0, 14023.0, 62073.0, 3604.0, 54322.0, 27734.0, 1632643.0, 32983.0, 1571374.0, 1656971.0, 36953.0, 21802.0])\n",
    "cullcattlenum2=np.array([28038.059999999998, 23653.7, 18700.89, 21039.35, 17008.78, 84945.88999999998, 429094.77, 6525.0, 3631.34, 1330.5499999999997, 16637.989999999998, 5868.25, 1604.6599999999999, 1873.2500000000002, 2633.09, 969.5100000000001, 7450.15, 3940.9, 7124.219999999999, 433918.51, 15155.51, 14584.1, 9890.2, 5477.0, 1907.5, 8492.04, 429999.99, 21469.489999999998, 28733.579999999998, 435281.49, 25425.77, 65850.5, 6161.0, 19218.43, 7348.34, 36420.25, 4688.09, 3043.67, 4105.3099999999995, 1784.66, 27205.870000000003, 1932.08, 15535.18, 8118.32, 433565.12, 19793.160000000003, 432660.68999999994, 438501.54000000004, 21084.55, 1336.74])\n",
    "movecount2=np.array([0, 0, 0, 0, 0, 0, 0, 0, 0, 0, 0, 0, 0, 0, 0, 0, 0, 0, 0, 0, 0, 0, 0, 0, 0, 0, 0, 0, 0, 0, 0, 0, 0, 0, 0, 0, 0, 0, 0, 0, 0, 0, 0, 0, 0, 0, 0, 0, 0, 0])\n",
    "MoveConsDayV2=np.array([0, 4, 1, 3, 2, 7, 69, 0, 0, 0, 3, 2, 0, 0, 0, 0, 0, 0, 0, 77, 2, 6, 2, 0, 0, 2, 103, 1, 2, 101, 2, 9, 0, 1, 0, 4, 2, 0, 0, 2, 0, 0, 3, 1, 89, 2, 75, 89, 0, 0]) # number of day that we impose complete movement ban\n",
    "GlobalNumMoveBan2=np.array([0, 516, 136, 408, 261, 827, 2388, 0, 0, 0, 365, 279, 0, 0, 0, 0, 0, 0, 0, 3109, 269, 821, 270, 0, 0, 261, 3801, 138, 256, 3842, 249, 1009, 0, 121, 0, 481, 279, 0, 0, 245, 0, 0, 363, 141, 2488, 276, 3291, 3884, 0, 0])  # number of movements blocked by movement ban"
   ]
  },
  {
   "cell_type": "code",
   "execution_count": 111,
   "metadata": {},
   "outputs": [],
   "source": [
    "farmdayres2=CumbFarmNum*MoveConsDayV2\n",
    "animovres2=GlobalNumMoveBan2\n",
    "\n",
    "directfarmcost2=cullsheepnum2*320+cullcattlenum2*1200\n",
    "welfarecost2=farmdayres2*4.9\n",
    "agsectorloss2=animovres2*139\n",
    "exportloss2=401000*(duration2+100)\n",
    "tourismcost2=166*farmdayres2\n",
    "\n",
    "cost2=directfarmcost2+welfarecost2+agsectorloss2+exportloss2+tourismcost2\n",
    "\n",
    "directfarmcost.append(np.mean(directfarmcost2))\n",
    "directfarmcost_std.append(np.std(directfarmcost2))\n",
    "welfarecost.append(np.mean(welfarecost2))\n",
    "welfarecost_std.append(np.std(welfarecost2))\n",
    "agsectorloss.append(np.mean(agsectorloss2))\n",
    "agsectorloss_std.append(np.std(agsectorloss2))\n",
    "exportloss.append(np.mean(exportloss2))\n",
    "exportloss_std.append(np.std(exportloss2))\n",
    "tourismcost.append(np.mean(tourismcost2))\n",
    "tourismcost_std.append(np.std(tourismcost2))"
   ]
  },
  {
   "cell_type": "markdown",
   "metadata": {},
   "source": [
    "# 3. 3km ring cull, 5km movement ban"
   ]
  },
  {
   "cell_type": "code",
   "execution_count": 84,
   "metadata": {},
   "outputs": [
    {
     "ename": "TypeError",
     "evalue": "Required argument 'object' (pos 1) not found",
     "output_type": "error",
     "traceback": [
      "\u001b[0;31m---------------------------------------------------------------------------\u001b[0m",
      "\u001b[0;31mTypeError\u001b[0m                                 Traceback (most recent call last)",
      "\u001b[0;32m<ipython-input-84-246d5a55b983>\u001b[0m in \u001b[0;36m<module>\u001b[0;34m()\u001b[0m\n\u001b[0;32m----> 1\u001b[0;31m \u001b[0mduration3\u001b[0m\u001b[0;34m=\u001b[0m\u001b[0mnp\u001b[0m\u001b[0;34m.\u001b[0m\u001b[0marray\u001b[0m\u001b[0;34m(\u001b[0m\u001b[0;34m)\u001b[0m\u001b[0;34m\u001b[0m\u001b[0m\n\u001b[0m\u001b[1;32m      2\u001b[0m \u001b[0mcullfarmnum3\u001b[0m\u001b[0;34m=\u001b[0m\u001b[0mnp\u001b[0m\u001b[0;34m.\u001b[0m\u001b[0marray\u001b[0m\u001b[0;34m(\u001b[0m\u001b[0;34m)\u001b[0m\u001b[0;34m\u001b[0m\u001b[0m\n\u001b[1;32m      3\u001b[0m \u001b[0mcullsheepnum3\u001b[0m\u001b[0;34m=\u001b[0m\u001b[0mnp\u001b[0m\u001b[0;34m.\u001b[0m\u001b[0marray\u001b[0m\u001b[0;34m(\u001b[0m\u001b[0;34m)\u001b[0m\u001b[0;34m\u001b[0m\u001b[0m\n\u001b[1;32m      4\u001b[0m \u001b[0mcullcattlenum3\u001b[0m\u001b[0;34m=\u001b[0m\u001b[0mnp\u001b[0m\u001b[0;34m.\u001b[0m\u001b[0marray\u001b[0m\u001b[0;34m(\u001b[0m\u001b[0;34m)\u001b[0m\u001b[0;34m\u001b[0m\u001b[0m\n\u001b[1;32m      5\u001b[0m \u001b[0mmovecount3\u001b[0m\u001b[0;34m=\u001b[0m\u001b[0mnp\u001b[0m\u001b[0;34m.\u001b[0m\u001b[0marray\u001b[0m\u001b[0;34m(\u001b[0m\u001b[0;34m)\u001b[0m\u001b[0;34m\u001b[0m\u001b[0m\n",
      "\u001b[0;31mTypeError\u001b[0m: Required argument 'object' (pos 1) not found"
     ]
    }
   ],
   "source": [
    "duration3=np.array()\n",
    "cullfarmnum3=np.array()\n",
    "cullsheepnum3=np.array()\n",
    "cullcattlenum3=np.array()\n",
    "movecount3=np.array()\n",
    "LocalNumMoveBan3=np.array()\n",
    "LocalFarmBan3=np.array()"
   ]
  },
  {
   "cell_type": "code",
   "execution_count": 85,
   "metadata": {},
   "outputs": [
    {
     "ename": "NameError",
     "evalue": "name 'LocalFarmBan3' is not defined",
     "output_type": "error",
     "traceback": [
      "\u001b[0;31m---------------------------------------------------------------------------\u001b[0m",
      "\u001b[0;31mNameError\u001b[0m                                 Traceback (most recent call last)",
      "\u001b[0;32m<ipython-input-85-e2c7ed58643b>\u001b[0m in \u001b[0;36m<module>\u001b[0;34m()\u001b[0m\n\u001b[0;32m----> 1\u001b[0;31m \u001b[0mfarmdayres3\u001b[0m\u001b[0;34m=\u001b[0m\u001b[0mLocalFarmBan3\u001b[0m\u001b[0;34m\u001b[0m\u001b[0m\n\u001b[0m\u001b[1;32m      2\u001b[0m \u001b[0manimovres3\u001b[0m\u001b[0;34m=\u001b[0m\u001b[0mLocalNumMoveBan3\u001b[0m\u001b[0;34m\u001b[0m\u001b[0m\n\u001b[1;32m      3\u001b[0m \u001b[0;34m\u001b[0m\u001b[0m\n\u001b[1;32m      4\u001b[0m \u001b[0mdirectfarmcost3\u001b[0m\u001b[0;34m=\u001b[0m\u001b[0mcullsheepnum3\u001b[0m\u001b[0;34m*\u001b[0m\u001b[0;36m320\u001b[0m\u001b[0;34m+\u001b[0m\u001b[0mcullcattlenum3\u001b[0m\u001b[0;34m*\u001b[0m\u001b[0;36m1200\u001b[0m\u001b[0;34m\u001b[0m\u001b[0m\n\u001b[1;32m      5\u001b[0m \u001b[0mwelfarecost3\u001b[0m\u001b[0;34m=\u001b[0m\u001b[0mfarmdayres3\u001b[0m\u001b[0;34m*\u001b[0m\u001b[0;36m4.9\u001b[0m\u001b[0;34m\u001b[0m\u001b[0m\n",
      "\u001b[0;31mNameError\u001b[0m: name 'LocalFarmBan3' is not defined"
     ]
    }
   ],
   "source": [
    "farmdayres3=LocalFarmBan3\n",
    "animovres3=LocalNumMoveBan3\n",
    "\n",
    "directfarmcost3=cullsheepnum3*320+cullcattlenum3*1200\n",
    "welfarecost3=farmdayres3*4.9\n",
    "agsectorloss3=animovres3*139\n",
    "exportloss3=401000*(duration3+100)\n",
    "tourismcost3=166*farmdayres3\n",
    "\n",
    "cost3=directfarmcost3+welfarecost3+agsectorloss3+exportloss3+tourismcost3\n",
    "directfarmcost.append(np.mean(directfarmcost3))\n",
    "directfarmcost_std.append(np.std(directfarmcost3))\n",
    "welfarecost.append(np.mean(welfarecost3))\n",
    "welfarecost_std.append(np.std(welfarecost3))\n",
    "agsectorloss.append(np.mean(agsectorloss3))\n",
    "agsectorloss_std.append(np.std(agsectorloss3))\n",
    "exportloss.append(np.mean(exportloss3))\n",
    "exportloss_std.append(np.std(exportloss3))\n",
    "tourismcost.append(np.mean(tourismcost3))\n",
    "tourismcost_std.append(np.std(tourismcost3))"
   ]
  },
  {
   "cell_type": "markdown",
   "metadata": {},
   "source": [
    "# 4. 5km ring cull, no movement ban"
   ]
  },
  {
   "cell_type": "code",
   "execution_count": 86,
   "metadata": {},
   "outputs": [],
   "source": [
    "duration4=np.array([15, 86, 10, 92, 192, 12, 15, 190, 171, 192, 10, 16, 17, 184, 173, 50, 156, 177, 166, 16, 176, 162, 159, 19, 166, 166, 152, 180, 17, 11, 17, 176, 190, 29, 138, 171, 33, 15, 179, 15, 10, 33, 11, 142, 184, 16, 19, 12, 15, 11, 204, 39, 33, 143, 16])\n",
    "cullfarmnum4=np.array([33, 455, 28, 294, 3318, 74, 57, 3394, 3213, 3326, 28, 78, 27, 3292, 3097, 198, 3030, 3198, 3141, 31, 3217, 3146, 3005, 73, 3121, 2929, 2934, 3109, 19, 45, 66, 3037, 3296, 99, 2726, 3009, 102, 29, 2933, 43, 49, 122, 13, 2753, 2983, 42, 51, 18, 29, 29, 3354, 253, 138, 2639, 48])\n",
    "cullsheepnum4=np.array([25942.0, 208122.0, 3701.0, 148823.0, 1618551.0, 28387.0, 39098.0, 1690967.0, 1607701.0, 1615722.0, 9357.0, 9800.0, 27872.0, 1663617.0, 1622532.0, 69748.0, 1638280.0, 1690252.0, 1689606.0, 8290.0, 1684305.0, 1689517.0, 1671554.0, 22812.0, 1658026.0, 1652464.0, 1698269.0, 1614102.0, 12490.0, 6502.0, 40256.0, 1640335.0, 1714960.0, 30282.0, 1643424.0, 1654152.0, 39254.0, 2620.0, 1642056.0, 7837.0, 7127.0, 28472.0, 6284.0, 1679482.0, 1698814.0, 12252.0, 20059.0, 5619.0, 17684.0, 12919.0, 1712863.0, 103274.0, 78316.0, 1675203.0, 28997.0])\n",
    "cullcattlenum4=np.array([3167.09, 37203.43, 5160.17, 28147.14, 434098.41000000003, 4535.16, 6530.0, 443167.37, 437738.4, 433645.12, 1553.3200000000002, 13582.26, 3173.33, 440650.9, 432731.22, 16838.73, 435768.45999999996, 445574.85, 445349.39, 1437.9100000000003, 444424.85000000003, 442192.82000000007, 438808.41000000003, 1810.92, 440525.3, 439346.93000000005, 440290.05000000005, 433688.5, 1127.0000000000002, 3956.09, 10327.8, 437816.81000000006, 449193.63, 7127.68, 436751.41, 439852.9099999999, 9460.65, 9179.65, 440916.98, 2121.92, 6783.91, 7018.93, 406.58, 438842.25, 444871.32, 1661.7299999999998, 4660.56, 577.6600000000001, 997.8300000000002, 1722.25, 446831.57999999996, 25796.309999999998, 15095.06, 436987.39, 4212.39])\n",
    "movecount4=np.array([0, 0, 0, 0, 0, 0, 0, 0, 0, 0, 0, 0, 0, 0, 0, 0, 0, 0, 0, 0, 0, 0, 0, 0, 0, 0, 0, 0, 0, 0, 0, 0, 0, 0, 0, 0, 0, 0, 0, 0, 0, 0, 0, 0, 0, 0, 0, 0, 0, 0, 0, 0, 0, 0, 0]\n",
    ")"
   ]
  },
  {
   "cell_type": "code",
   "execution_count": 87,
   "metadata": {},
   "outputs": [],
   "source": [
    "directfarmcost4=cullsheepnum4*320+cullcattlenum4*1200\n",
    "welfarecost4=0\n",
    "agsectorloss4=0\n",
    "exportloss4=401000*(duration4+100)\n",
    "tourismcost4=0\n",
    "\n",
    "cost4=directfarmcost4+welfarecost4+agsectorloss4+exportloss4+tourismcost4\n",
    "directfarmcost.append(np.mean(directfarmcost4))\n",
    "directfarmcost_std.append(np.std(directfarmcost4))\n",
    "welfarecost.append(np.mean(welfarecost4))\n",
    "welfarecost_std.append(np.std(welfarecost4))\n",
    "agsectorloss.append(np.mean(agsectorloss4))\n",
    "agsectorloss_std.append(np.std(agsectorloss4))\n",
    "exportloss.append(np.mean(exportloss4))\n",
    "exportloss_std.append(np.std(exportloss4))\n",
    "tourismcost.append(np.mean(tourismcost4))\n",
    "tourismcost_std.append(np.std(tourismcost4))"
   ]
  },
  {
   "cell_type": "markdown",
   "metadata": {},
   "source": [
    "# 5. 5km ring cull, complete movement ban"
   ]
  },
  {
   "cell_type": "code",
   "execution_count": 116,
   "metadata": {},
   "outputs": [],
   "source": [
    "duration5=np.array([15, 9, 78, 22, 38, 9, 17, 17, 12, 19, 19, 16, 17, 10, 200, 152, 17, 11, 25, 23, 10, 16, 61, 16, 15, 12, 15, 162, 8, 15, 10, 16, 17, 12, 10, 25, 15, 9, 16, 22, 15, 11, 33, 53, 10, 15, 30, 38, 16, 22])\n",
    "cullfarmnum5=np.array([92, 70, 885, 203, 341, 74, 49, 50, 69, 153, 216, 66, 88, 77, 3710, 2804, 117, 64, 280, 175, 94, 61, 565, 125, 85, 72, 99, 3300, 33, 108, 50, 66, 96, 67, 37, 208, 96, 48, 91, 140, 86, 79, 365, 308, 43, 123, 170, 470, 65, 84])\n",
    "cullsheepnum5=np.array([20302.0, 27568.0, 241626.0, 59222.0, 169714.0, 6975.0, 1964.0, 1983.0, 30963.0, 43500.0, 59491.0, 9430.0, 62062.0, 19554.0, 1643581.0, 1215631.0, 48990.0, 13501.0, 130571.0, 81727.0, 45376.0, 29763.0, 191359.0, 45473.0, 26991.0, 38527.0, 34819.0, 1672325.0, 20992.0, 42659.0, 32454.0, 37962.0, 52206.0, 21912.0, 28060.0, 48817.0, 56696.0, 5658.0, 25253.0, 58659.0, 23605.0, 37933.0, 127496.0, 145679.0, 19325.0, 57902.0, 69576.0, 137574.0, 20375.0, 49020.0])\n",
    "cullcattlenum5=np.array([13590.08, 7742.7399999999998, 127911.56, 23298.339999999997, 37534.959999999999, 12492.84, 6967.9799999999996, 7315.4800000000005, 4230.7700000000004, 21603.669999999998, 27752.689999999999, 12426.43, 10021.539999999999, 11055.24, 436899.03000000003, 299818.40999999997, 8518.9099999999999, 6715.0900000000001, 37225.169999999998, 16801.959999999999, 7533.2600000000002, 3366.9499999999998, 53023.660000000003, 14893.019999999999, 7491.4000000000015, 4569.1700000000001, 5972.5599999999995, 439167.46999999997, 1960.8, 17733.149999999998, 2704.0799999999999, 4260.8699999999999, 7692.3100000000004, 4310.25, 2724.9099999999999, 29085.52, 6758.2799999999997, 5549.2799999999988, 15747.5, 9900.0799999999999, 5656.0900000000001, 5649.3299999999999, 36167.07, 33823.410000000003, 2088.1800000000003, 9421.2600000000002, 15751.620000000001, 53811.019999999997, 4687.3000000000002, 3908.4399999999996])\n",
    "movecount5=np.array([0, 0, 0, 0, 0, 0, 0, 0, 0, 0, 0, 0, 0, 0, 0, 0, 0, 0, 0, 0, 0, 0, 0, 0, 0, 0, 0, 0, 0, 0, 0, 0, 0, 0, 0, 0, 0, 0, 0, 0, 0, 0, 0, 0, 0, 0, 0, 0, 0, 0])\n",
    "MoveConsDayV5=np.array([0, 0, 5, 2, 1, 2, 0, 0, 0, 2, 0, 2, 1, 0, 80, 30, 0, 0, 1, 2, 0, 2, 2, 1, 2, 0, 0, 96, 0, 0, 0, 0, 0, 0, 0, 0, 0, 0, 2, 0, 0, 0, 1, 3, 0, 0, 2, 0, 2, 2]) # number of day that we impose complete movement ban\n",
    "GlobalNumMoveBan5=np.array([0, 0, 537, 256, 109, 258, 0, 0, 0, 263, 0, 253, 133, 0, 2959, 1973, 0, 0, 146, 257, 0, 261, 225, 131, 263, 0, 0, 2944, 0, 0, 0, 0, 0, 0, 0, 0, 0, 0, 269, 0, 0, 0, 117, 386, 0, 0, 273, 0, 257, 288]) # number of movements blocked by movement ban"
   ]
  },
  {
   "cell_type": "code",
   "execution_count": 117,
   "metadata": {},
   "outputs": [],
   "source": [
    "farmdayres5=CumbFarmNum*MoveConsDayV5\n",
    "animovres5=GlobalNumMoveBan5\n",
    "\n",
    "directfarmcost5=cullsheepnum5*320+cullcattlenum5*1200\n",
    "welfarecost5=farmdayres5*4.9\n",
    "agsectorloss5=animovres5*139\n",
    "exportloss5=401000*(duration5+100)\n",
    "tourismcost5=166*farmdayres5\n",
    "\n",
    "cost5=directfarmcost5+welfarecost5+agsectorloss5+exportloss5+tourismcost5\n",
    "directfarmcost.append(np.mean(directfarmcost5))\n",
    "directfarmcost_std.append(np.std(directfarmcost5))\n",
    "welfarecost.append(np.mean(welfarecost5))\n",
    "welfarecost_std.append(np.std(welfarecost5))\n",
    "agsectorloss.append(np.mean(agsectorloss5))\n",
    "agsectorloss_std.append(np.std(agsectorloss5))\n",
    "exportloss.append(np.mean(exportloss5))\n",
    "exportloss_std.append(np.std(exportloss5))\n",
    "tourismcost.append(np.mean(tourismcost5))\n",
    "tourismcost_std.append(np.std(tourismcost5))"
   ]
  },
  {
   "cell_type": "markdown",
   "metadata": {},
   "source": [
    "# 6. 5km ring cull, 5km local movement ban"
   ]
  },
  {
   "cell_type": "code",
   "execution_count": 90,
   "metadata": {},
   "outputs": [],
   "source": [
    "duration6=np.array([16, 29, 36, 30, 16, 18, 12, 17, 11, 31, 53, 9, 12, 22, 12, 19, 43, 78, 221, 170, 17, 10, 32, 12, 16, 33, 22, 17, 22, 16, 212, 40, 25, 19, 184, 92, 15, 18, 15, 22, 227, 12, 15, 155, 11, 15, 36, 151, 17, 11])\n",
    "cullfarmnum6=np.array([32, 142, 255, 180, 82, 177, 62, 116, 122, 150, 777, 86, 70, 195, 67, 107, 426, 1284, 4124, 3593, 60, 71, 161, 95, 27, 197, 177, 99, 165, 55, 3863, 444, 158, 166, 3333, 1513, 69, 163, 59, 130, 3984, 81, 100, 3158, 82, 46, 121, 3192, 66, 33])\n",
    "cullsheepnum6=np.array([30357.0, 43319.0, 160717.0, 112518.0, 51104.0, 93936.0, 32624.0, 39712.0, 39292.0, 83399.0, 154528.0, 12438.0, 21300.0, 79947.0, 26388.0, 33756.0, 201248.0, 527029.0, 1750038.0, 1647565.0, 26387.0, 43207.0, 19497.0, 58640.0, 26644.0, 73415.0, 38279.0, 36917.0, 61865.0, 24571.0, 1671545.0, 197565.0, 33662.0, 64050.0, 1677695.0, 466096.0, 34571.0, 34366.0, 29848.0, 64018.0, 1740370.0, 49276.0, 50914.0, 1674036.0, 28842.0, 21334.0, 54181.0, 1670559.0, 15872.0, 20709.0])\n",
    "cullcattlenum6=np.array([1123.24, 9963.6399999999994, 20526.050000000003, 14122.380000000001, 4689.2700000000004, 19890.360000000001, 3475.54, 9343.9899999999998, 13933.75, 8537.9099999999999, 117765.75, 14171.51, 6272.0799999999999, 18165.269999999997, 7318.9899999999998, 7525.4799999999996, 50882.130000000005, 153445.07000000001, 447102.17999999999, 427765.88, 7206.0, 6895.1800000000003, 29934.18, 6962.8099999999995, 1478.3199999999997, 17537.23, 26476.739999999998, 11796.960000000001, 18398.73, 4939.4799999999996, 439859.92000000004, 35071.659999999996, 30942.73, 20660.889999999999, 442210.97999999998, 212213.37, 5972.9200000000001, 27355.82, 4388.3299999999999, 15259.33, 448785.5, 10693.01, 14373.15, 442274.03000000003, 5038.5599999999995, 2165.7199999999998, 4982.4099999999999, 442465.48999999999, 3383.75, 2199.5499999999997])\n",
    "movecount6=np.array([0, 0, 0, 0, 0, 0, 0, 0, 0, 0, 0, 0, 0, 0, 0, 0, 0, 0, 0, 0, 0, 0, 0, 0, 0, 0, 0, 0, 0, 0, 0, 0, 0, 0, 0, 0, 0, 0, 0, 0, 0, 0, 0, 0, 0, 0, 0, 0, 0, 0])\n",
    "LocalNumMoveBan6=np.array([17, 75, 28, 86, 16, 66, 10, 13, 18, 24, 713, 15, 6, 136, 9, 76, 389, 2268, 73470, 52786, 17, 8, 136, 10, 2, 22, 110, 37, 91, 17, 101645, 357, 75, 32, 119422, 2873, 15, 155, 11, 49, 99235, 42, 114, 133574, 16, 2, 118, 100829, 12, 3])\n",
    "LocalFarmBan6=np.array([97, 82, 255, 264, 63, 301, 62, 93, 96, 133, 1291, 172, 70, 285, 47, 114, 444, 1998, 53565, 52864, 86, 71, 204, 70, 27, 53, 312, 211, 65, 104, 70652, 325, 165, 181, 117463, 1695, 59, 494, 113, 165, 72613, 118, 336, 133023, 139, 46, 260, 106403, 130, 38])"
   ]
  },
  {
   "cell_type": "code",
   "execution_count": 91,
   "metadata": {},
   "outputs": [],
   "source": [
    "farmdayres6=LocalFarmBan6\n",
    "animovres6=LocalNumMoveBan6\n",
    "\n",
    "directfarmcost6=cullsheepnum6*320+cullcattlenum6*1200\n",
    "welfarecost6=farmdayres6*4.9\n",
    "agsectorloss6=animovres6*139\n",
    "exportloss6=401000*(duration6+100)\n",
    "tourismcost6=166*farmdayres6\n",
    "\n",
    "cost6=directfarmcost6+welfarecost6+agsectorloss6+exportloss6+tourismcost6\n",
    "directfarmcost.append(np.mean(directfarmcost6))\n",
    "directfarmcost_std.append(np.std(directfarmcost6))\n",
    "welfarecost.append(np.mean(welfarecost6))\n",
    "welfarecost_std.append(np.std(welfarecost6))\n",
    "agsectorloss.append(np.mean(agsectorloss6))\n",
    "agsectorloss_std.append(np.std(agsectorloss6))\n",
    "exportloss.append(np.mean(exportloss6))\n",
    "exportloss_std.append(np.std(exportloss6))\n",
    "tourismcost.append(np.mean(tourismcost6))\n",
    "tourismcost_std.append(np.std(tourismcost6))"
   ]
  },
  {
   "cell_type": "code",
   "execution_count": 92,
   "metadata": {},
   "outputs": [],
   "source": [
    "import matplotlib.pyplot as plt "
   ]
  },
  {
   "cell_type": "code",
   "execution_count": 93,
   "metadata": {},
   "outputs": [],
   "source": [
    "data_to_plot_cost = [cost1, cost6]"
   ]
  },
  {
   "cell_type": "code",
   "execution_count": 94,
   "metadata": {},
   "outputs": [
    {
     "data": {
      "image/png": "[encoded data removed]",
      "text/plain": [
       "<matplotlib.figure.Figure at 0x7f223b009978>"
      ]
     },
     "metadata": {},
     "output_type": "display_data"
    }
   ],
   "source": [
    "plt.figure(1, figsize=(9, 6))\n",
    "plt.boxplot(data_to_plot_cost,0,'')\n",
    "plt.title('Boxplot for cost under different control strategies')\n",
    "plt.show()"
   ]
  },
  {
   "cell_type": "markdown",
   "metadata": {
    "collapsed": true
   },
   "source": [
    "# Prettier Box plots"
   ]
  },
  {
   "cell_type": "code",
   "execution_count": 95,
   "metadata": {},
   "outputs": [],
   "source": [
    "import pandas as pd\n",
    "import seaborn as sns"
   ]
  },
  {
   "cell_type": "code",
   "execution_count": 127,
   "metadata": {},
   "outputs": [],
   "source": [
    "box = pd.DataFrame()\n",
    "box['Cost'] = cost1\n",
    "box['Movement Control'] = 'No Movement Ban'\n",
    "box['Ring Cull'] = '3km'\n",
    "box = box.append(pd.DataFrame({'Cost': cost6, 'Movement Control': '5km Local Ban', 'Ring Cull': '5km'}), ignore_index=True)\n",
    "box = box.append(pd.DataFrame({'Cost': cost4, 'Movement Control': 'No Movement Ban', 'Ring Cull': '5km'}), ignore_index=True)\n",
    "box = box.append(pd.DataFrame({'Cost': cost2, 'Movement Control': 'Full Restriction', 'Ring Cull': '3km'}), ignore_index=True)\n",
    "box = box.append(pd.DataFrame({'Cost': cost5, 'Movement Control': 'Full Restriction', 'Ring Cull': '5km'}), ignore_index=True)\n",
    "# # box['Resource'] = 'livestock'\n",
    "# box['Ring cull'] = '3km'\n",
    "# box['Movement ban'] = 'fully'\n",
    "# box"
   ]
  },
  {
   "cell_type": "code",
   "execution_count": 97,
   "metadata": {},
   "outputs": [],
   "source": [
    "# box = box.append(pd.DataFrame({'Cost': confsmb_l, 'Priority to:': 'livestock', 'Movement ban': 'Farmsize', 'Ring cull': '3km'}), ignore_index=True)\n",
    "# box = box.append(pd.DataFrame({'Cost': confsmb_t, 'Priority to:': 'time', 'Movement ban': 'Farmsize', 'Ring cull': '3km'}), ignore_index=True)"
   ]
  },
  {
   "cell_type": "code",
   "execution_count": 98,
   "metadata": {},
   "outputs": [
    {
     "ename": "NameError",
     "evalue": "name 'tips' is not defined",
     "output_type": "error",
     "traceback": [
      "\u001b[0;31m---------------------------------------------------------------------------\u001b[0m",
      "\u001b[0;31mNameError\u001b[0m                                 Traceback (most recent call last)",
      "\u001b[0;32m<ipython-input-98-3a950ad0d8db>\u001b[0m in \u001b[0;36m<module>\u001b[0;34m()\u001b[0m\n\u001b[1;32m      1\u001b[0m g = sns.factorplot(x=\"sex\", y=\"total_bill\",\n\u001b[1;32m      2\u001b[0m                    \u001b[0mhue\u001b[0m\u001b[0;34m=\u001b[0m\u001b[0;34m\"smoker\"\u001b[0m\u001b[0;34m,\u001b[0m \u001b[0mcol\u001b[0m\u001b[0;34m=\u001b[0m\u001b[0;34m\"time\"\u001b[0m\u001b[0;34m,\u001b[0m\u001b[0;34m\u001b[0m\u001b[0m\n\u001b[0;32m----> 3\u001b[0;31m                    \u001b[0mdata\u001b[0m\u001b[0;34m=\u001b[0m\u001b[0mtips\u001b[0m\u001b[0;34m,\u001b[0m \u001b[0mkind\u001b[0m\u001b[0;34m=\u001b[0m\u001b[0;34m\"box\"\u001b[0m\u001b[0;34m,\u001b[0m\u001b[0;34m\u001b[0m\u001b[0m\n\u001b[0m\u001b[1;32m      4\u001b[0m                    size=4, aspect=.7);\n",
      "\u001b[0;31mNameError\u001b[0m: name 'tips' is not defined"
     ]
    }
   ],
   "source": [
    "g = sns.factorplot(x=\"sex\", y=\"total_bill\",\n",
    "...                    hue=\"smoker\", col=\"time\",\n",
    "...                    data=tips, kind=\"box\",\n",
    "...                    size=4, aspect=.7);"
   ]
  },
  {
   "cell_type": "code",
   "execution_count": 128,
   "metadata": {},
   "outputs": [
    {
     "data": {
      "text/plain": [
       "<matplotlib.axes._subplots.AxesSubplot at 0x7f223aee8c88>"
      ]
     },
     "execution_count": 128,
     "metadata": {},
     "output_type": "execute_result"
    },
    {
     "data": {
      "image/png": "[encoded data removed]",
      "text/plain": [
       "<matplotlib.figure.Figure at 0x7f2226f7b860>"
      ]
     },
     "metadata": {},
     "output_type": "display_data"
    }
   ],
   "source": [
    "plt.figure(figsize = (20,8))\n",
    "# sns.set(font_scale=3)\n",
    "sns.set_style(\"dark\")\n",
    "sns.boxplot(x=\"Movement Control\", y=\"Cost\", hue=\"Ring Cull\", data=box, palette=\"BuPu\")\n",
    "# plt.legend(loc = 'upper right')\n",
    "# plt.subplots_adjust(hspace = 18)"
   ]
  },
  {
   "cell_type": "code",
   "execution_count": null,
   "metadata": {},
   "outputs": [],
   "source": []
  },
  {
   "cell_type": "code",
   "execution_count": 100,
   "metadata": {},
   "outputs": [],
   "source": [
    "farmdayres6=LocalFarmBan6\n",
    "animovres6=LocalNumMoveBan6\n",
    "\n",
    "directfarmcost6=cullsheepnum6*320+cullcattlenum6*1200\n",
    "welfarecost6=farmdayres6*4.9\n",
    "agsectorloss6=animovres6*139\n",
    "exportloss6=401000*(duration6+100)\n",
    "tourismcost6=166*farmdayres6\n",
    "\n",
    "cost6=directfarmcost6+welfarecost6+agsectorloss6+exportloss6+tourismcost6\n"
   ]
  },
  {
   "cell_type": "code",
   "execution_count": null,
   "metadata": {},
   "outputs": [],
   "source": []
  },
  {
   "cell_type": "code",
   "execution_count": 121,
   "metadata": {},
   "outputs": [
    {
     "data": {
      "image/png": "[encoded data removed]",
      "text/plain": [
       "<matplotlib.figure.Figure at 0x7f223aefb5c0>"
      ]
     },
     "metadata": {},
     "output_type": "display_data"
    }
   ],
   "source": [
    "N = 5\n",
    "plt.figure(figsize = (20,8))\n",
    "# menMeans = (20, 35, 30, 35, 27)\n",
    "# womenMeans = (25, 32, 34, 20, 25)\n",
    "# menStd = (2, 3, 4, 1, 2)\n",
    "# womenStd = (3, 5, 2, 3, 3)\n",
    "ind = np.arange(N)    # the x locations for the groups\n",
    "width = 0.35       # the width of the bars: can also be len(x) sequence\n",
    "\n",
    "p1 = plt.bar(ind,directfarmcost, width, yerr=directfarmcost_std, bottom  = 0.0)\n",
    "p2 = plt.bar(ind, welfarecost, width,\n",
    "             bottom=directfarmcost, yerr=welfarecost_std)\n",
    "p3 = plt.bar(ind, agsectorloss, width, yerr = agsectorloss_std, bottom =np.array(directfarmcost)+np.array(welfarecost))\n",
    "p4 = plt.bar(ind, exportloss, width, yerr = exportloss_std, bottom = np.array(agsectorloss)+np.array(directfarmcost)+np.array(welfarecost) )\n",
    "p5 = plt.bar(ind, tourismcost, width, yerr = tourismcost_std, bottom = np.array(exportloss)+ np.array(agsectorloss)+np.array(directfarmcost)+np.array(welfarecost))\n",
    "\n",
    "plt.ylabel('Cost')\n",
    "# plt.title('Scores by group and genhttp://localhost:8888/notebooks/FMD-RSG/cost-analysis-box-plot.ipynb#der')\n",
    "plt.xticks(ind, ('3km Ring Cull \\n No movement Ban', '3km Ring Cull \\n Local movement Ban', '3km Ring Cull \\n Full movement ban', '5km Ring Cull \\n No movement ban', '5km Ring Cull \\n Local movement ban', '5km Ring Cull \\n Full movement ban'))\n",
    "# plt.ylim((0,1))\n",
    "# plt.yticks(np.arange(0, 1.2e9, 10))\n",
    "plt.legend((p1[0], p2[0], p3[0], p4[0], p5[0]), ('Direct Farm Cost', 'Welfare Cost', 'Agricultural Loss', 'Export Loss', 'Tourism Loss'), fontsize = 20)\n",
    "\n",
    "plt.show()"
   ]
  },
  {
   "cell_type": "code",
   "execution_count": 102,
   "metadata": {},
   "outputs": [
    {
     "data": {
      "text/plain": [
       "[440738735.04, 493159826.6181818, 195311571.68]"
      ]
     },
     "execution_count": 102,
     "metadata": {},
     "output_type": "execute_result"
    }
   ],
   "source": [
    "directfarmcost"
   ]
  },
  {
   "cell_type": "code",
   "execution_count": null,
   "metadata": {},
   "outputs": [],
   "source": []
  }
 ],
 "metadata": {
  "kernelspec": {
   "display_name": "Python 2",
   "language": "python",
   "name": "python2"
  },
  "language_info": {
   "codemirror_mode": {
    "name": "ipython",
    "version": 3
   },
   "file_extension": ".py",
   "mimetype": "text/x-python",
   "name": "python",
   "nbconvert_exporter": "python",
   "pygments_lexer": "ipython3",
   "version": "3.5.2"
  }
 },
 "nbformat": 4,
 "nbformat_minor": 2
}
