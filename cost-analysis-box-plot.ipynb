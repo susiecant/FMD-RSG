{
 "cells": [
  {
   "cell_type": "markdown",
   "metadata": {},
   "source": [
    "50 simulations for control policies"
   ]
  },
  {
   "cell_type": "code",
   "execution_count": 2,
   "metadata": {
    "collapsed": true
   },
   "outputs": [],
   "source": [
    "import os\n",
    "import pandas as pd\n",
    "import numpy as np\n",
    "\n",
    "os.chdir('/Users/apple/Desktop/group/data');\n",
    "countyNumber = 8\n",
    "farmData=pd.read_csv(\"Farms_2010_RSG\",names=[\"County Number\", \"Parish Number\", \"Holding Number\", \n",
    "                                               \"X Coordinate\", \"Y Coordinate\", \"Number of Cattle\", \n",
    "                                               \"Number of Sheep\"],delim_whitespace=True)\n",
    "cumbData = farmData[farmData['County Number'] == countyNumber]\n",
    "CumbNum=cumbData.index.values+1\n",
    "CumbFarmNum=len(CumbNum)"
   ]
  },
  {
   "cell_type": "markdown",
   "metadata": {},
   "source": [
    "# 1. 3km ring cull, no movement ban"
   ]
  },
  {
   "cell_type": "code",
   "execution_count": null,
   "metadata": {},
   "outputs": [],
   "source": [
    "duration1=np.array()\n",
    "cullfarmnum1=np.array()\n",
    "cullsheepnum1=np.array()\n",
    "cullcattlenum1=np.array()\n",
    "movecount1=np.array()"
   ]
  },
  {
   "cell_type": "code",
   "execution_count": null,
   "metadata": {},
   "outputs": [],
   "source": [
    "directfarmcost1=cullsheepnum1*320+cullcattlenum1*1200\n",
    "welfarecost1=0\n",
    "agsectorloss1=0\n",
    "exportloss1=401000*(duration1+100)\n",
    "tourismcost1=0\n",
    "\n",
    "cost1=directfarmcost1+welfarecost1+agsectorloss1+exportloss1+tourismcost1"
   ]
  },
  {
   "cell_type": "markdown",
   "metadata": {},
   "source": [
    "# 2. 3km ring cull, complete movement ban"
   ]
  },
  {
   "cell_type": "code",
   "execution_count": null,
   "metadata": {},
   "outputs": [],
   "source": [
    "duration2=np.array()\n",
    "cullfarmnum2=np.array()\n",
    "cullsheepnum2=np.array()\n",
    "cullcattlenum2=np.array()\n",
    "movecount2=np.array()\n",
    "MoveConsDayV2=np.array() # number of day that we impose complete movement ban\n",
    "GlobalNumMoveBan2=np.array()  # number of movements blocked by movement ban"
   ]
  },
  {
   "cell_type": "code",
   "execution_count": null,
   "metadata": {},
   "outputs": [],
   "source": [
    "farmdayres2=CumbFarmNum*MoveConsDayV2\n",
    "animovres2=GlobalNumMoveBan2\n",
    "\n",
    "directfarmcost2=cullsheepnum2*320+cullcattlenum2*1200\n",
    "welfarecost2=farmdayres2*4.9\n",
    "agsectorloss2=animovres2*139\n",
    "exportloss2=401000*(duration2+100)\n",
    "tourismcost2=166*farmdayres2\n",
    "\n",
    "cost2=directfarmcost2+welfarecost2+agsectorloss2+exportloss2+tourismcost2"
   ]
  },
  {
   "cell_type": "markdown",
   "metadata": {},
   "source": [
    "# 3. 3km ring cull, 5km movement ban"
   ]
  },
  {
   "cell_type": "code",
   "execution_count": null,
   "metadata": {},
   "outputs": [],
   "source": [
    "duration3=np.array()\n",
    "cullfarmnum3=np.array()\n",
    "cullsheepnum3=np.array()\n",
    "cullcattlenum3=np.array()\n",
    "movecount3=np.array()\n",
    "LocalNumMoveBan3=np.array()\n",
    "LocalFarmBan3=np.array()"
   ]
  },
  {
   "cell_type": "code",
   "execution_count": null,
   "metadata": {
    "collapsed": true
   },
   "outputs": [],
   "source": [
    "farmdayres3=LocalFarmBan3\n",
    "animovres3=LocalNumMoveBan3\n",
    "\n",
    "directfarmcost3=cullsheepnum3*320+cullcattlenum3*1200\n",
    "welfarecost3=farmdayres3*4.9\n",
    "agsectorloss3=animovres3*139\n",
    "exportloss3=401000*(duration3+100)\n",
    "tourismcost3=166*farmdayres3\n",
    "\n",
    "cost3=directfarmcost3+welfarecost3+agsectorloss3+exportloss3+tourismcost3"
   ]
  },
  {
   "cell_type": "markdown",
   "metadata": {},
   "source": [
    "# 4. 5km ring cull, no movement ban"
   ]
  },
  {
   "cell_type": "code",
   "execution_count": null,
   "metadata": {
    "collapsed": true
   },
   "outputs": [],
   "source": [
    "duration4=np.array()\n",
    "cullfarmnum4=np.array()\n",
    "cullsheepnum4=np.array()\n",
    "cullcattlenum4=np.array()\n",
    "movecount4=np.array()"
   ]
  },
  {
   "cell_type": "code",
   "execution_count": null,
   "metadata": {
    "collapsed": true
   },
   "outputs": [],
   "source": [
    "directfarmcost4=cullsheepnum4*320+cullcattlenum4*1200\n",
    "welfarecost4=0\n",
    "agsectorloss4=0\n",
    "exportloss4=401000*(duration4+100)\n",
    "tourismcost4=0\n",
    "\n",
    "cost4=directfarmcost4+welfarecost4+agsectorloss4+exportloss4+tourismcost4"
   ]
  },
  {
   "cell_type": "markdown",
   "metadata": {},
   "source": [
    "# 5. 5km ring cull, complete movement ban"
   ]
  },
  {
   "cell_type": "code",
   "execution_count": null,
   "metadata": {
    "collapsed": true
   },
   "outputs": [],
   "source": [
    "duration5=np.array()\n",
    "cullfarmnum5=np.array()\n",
    "cullsheepnum5=np.array()\n",
    "cullcattlenum5=np.array()\n",
    "movecount5=np.array()\n",
    "MoveConsDayV5=np.array() # number of day that we impose complete movement ban\n",
    "GlobalNumMoveBan5=np.array() # number of movements blocked by movement ban"
   ]
  },
  {
   "cell_type": "code",
   "execution_count": null,
   "metadata": {
    "collapsed": true
   },
   "outputs": [],
   "source": [
    "farmdayres5=CumbFarmNum*MoveConsDayV5\n",
    "animovres5=GlobalNumMoveBan5\n",
    "\n",
    "directfarmcost5=cullsheepnum5*320+cullcattlenum5*1200\n",
    "welfarecost5=farmdayres5*4.9\n",
    "agsectorloss5=animovres5*139\n",
    "exportloss5=401000*(duration5+100)\n",
    "tourismcost5=166*farmdayres5\n",
    "\n",
    "cost5=directfarmcost5+welfarecost5+agsectorloss5+exportloss5+tourismcost5"
   ]
  },
  {
   "cell_type": "markdown",
   "metadata": {},
   "source": [
    "# 6. 5km ring cull, 5km local movement ban"
   ]
  },
  {
   "cell_type": "code",
   "execution_count": 3,
   "metadata": {},
   "outputs": [],
   "source": [
    "duration6=np.array([282, 20, 11, 16, 55, 18, 13, 237, 16, 16, 226, 25, 83, 34, 18, 76, 11, 230, 16, 221, 13, 18, 11, 11, 18, 228, 4, 6, 221, 219, 20, 11, 9, 30, 219, 48, 205, 16, 34, 202, 209, 18, 18, 23, 207, 209, 214, 9, 9, 23])\n",
    "cullfarmnum6=np.array([3431, 143, 77, 48, 381, 81, 67, 3345, 92, 93, 3221, 219, 796, 291, 64, 486, 37, 3241, 94, 3167, 81, 66, 50, 37, 72, 3132, 50, 33, 3080, 3049, 64, 50, 48, 159, 3121, 417, 3016, 85, 228, 2917, 3028, 120, 91, 168, 2928, 3017, 2919, 45, 50, 179])\n",
    "cullsheepnum6=np.array([1671472.0, 77632.0, 8199.0, 36787.0, 132235.0, 16807.0, 6341.0, 1741949.0, 24586.0, 33317.0, 1740264.0, 30083.0, 357791.0, 97093.0, 6433.0, 246161.0, 28293.0, 1749650.0, 46702.0, 1748189.0, 8539.0, 31477.0, 34123.0, 20641.0, 21528.0, 1687279.0, 15714.0, 10148.0, 1710365.0, 1693253.0, 47351.0, 32397.0, 25288.0, 62580.0, 1732731.0, 157486.0, 1733164.0, 28389.0, 59639.0, 1720501.0, 1741754.0, 14711.0, 45752.0, 82389.0, 1702551.0, 1761321.0, 1724694.0, 4928.0, 23069.0, 58932.0])\n",
    "cullcattlenum6=np.array([440874.76000000001, 14744.039999999999, 13481.52, 3631.5999999999995, 31689.450000000001, 12482.91, 8510.2700000000004, 440699.76000000001, 6186.5600000000004, 11476.49, 445967.09999999998, 38085.770000000004, 94754.260000000009, 24509.449999999997, 7272.9200000000001, 45098.559999999998, 2217.25, 444285.11000000004, 8053.8400000000001, 442390.55000000005, 9567.0799999999999, 5099.6599999999999, 3917.5900000000001, 1563.9200000000001, 5990.9099999999999, 438155.85999999999, 3225.9099999999999, 2260.3199999999997, 439460.98999999999, 441775.63, 3803.5599999999999, 3851.75, 2799.1099999999997, 11158.309999999999, 443491.76000000001, 39260.989999999998, 443509.29999999999, 16940.330000000002, 39262.440000000002, 445025.67000000004, 447439.25, 20278.650000000001, 7958.3199999999997, 19643.82, 445077.26000000001, 449640.37, 443155.23999999999, 3777.52, 4509.2800000000007, 12036.0])\n",
    "movecount6=np.array([0, 0, 0, 0, 0, 0, 0, 0, 0, 0, 0, 0, 0, 0, 0, 0, 0, 0, 0, 0, 0, 0, 0, 0, 0, 0, 0, 0, 0, 0, 0, 0, 0, 0, 0, 0, 0, 0, 0, 0, 0, 0, 0, 0, 0, 0, 0, 0, 0, 0])\n",
    "LocalNumMoveBan6=np.array([151678, 54, 10, 19, 813, 24, 21, 376793, 49, 89, 303082, 115, 2281, 375, 19, 672, 3, 326506, 2, 318322, 8, 11, 3, 6, 14, 223099, 9, 9, 257714, 249453, 29, 3, 3, 166, 189518, 1228, 238961, 30, 282, 235758, 274918, 32, 29, 180, 228440, 264347, 220361, 1, 4, 79])\n",
    "LocalFarmBan6=np.array([160853, 156, 154, 186, 628, 166, 134, 297396, 384, 130, 322125, 208, 1244, 1023, 115, 1108, 37, 342465, 194, 311182, 124, 182, 51, 37, 144, 188800, 136, 150, 289734, 255049, 133, 51, 48, 286, 247711, 1996, 283185, 68, 380, 267608, 306786, 81, 172, 384, 223421, 336616, 226570, 48, 65, 193])"
   ]
  },
  {
   "cell_type": "code",
   "execution_count": 4,
   "metadata": {
    "collapsed": true
   },
   "outputs": [],
   "source": [
    "farmdayres6=LocalFarmBan6\n",
    "animovres6=LocalNumMoveBan6\n",
    "\n",
    "directfarmcost6=cullsheepnum6*320+cullcattlenum6*1200\n",
    "welfarecost6=farmdayres6*4.9\n",
    "agsectorloss6=animovres6*139\n",
    "exportloss6=401000*(duration6+100)\n",
    "tourismcost6=166*farmdayres6\n",
    "\n",
    "cost6=directfarmcost6+welfarecost6+agsectorloss6+exportloss6+tourismcost6"
   ]
  },
  {
   "cell_type": "code",
   "execution_count": null,
   "metadata": {
    "collapsed": true
   },
   "outputs": [],
   "source": [
    "import matplotlib.pyplot as plt "
   ]
  },
  {
   "cell_type": "code",
   "execution_count": null,
   "metadata": {
    "collapsed": true
   },
   "outputs": [],
   "source": [
    "data_to_plot_cost = [cost1,cost2,cost3,cost4,cost5,cost6]"
   ]
  },
  {
   "cell_type": "code",
   "execution_count": null,
   "metadata": {},
   "outputs": [],
   "source": [
    "plt.figure(1, figsize=(9, 6))\n",
    "plt.boxplot(data_to_plot_cost,0,'')\n",
    "plt.title('Boxplot for cost under different control strategies')\n",
    "plt.show()"
   ]
  },
  {
   "cell_type": "code",
   "execution_count": null,
   "metadata": {
    "collapsed": true
   },
   "outputs": [],
   "source": []
  }
 ],
 "metadata": {
  "kernelspec": {
   "display_name": "Python 2",
   "language": "python",
   "name": "python2"
  },
  "language_info": {
   "codemirror_mode": {
    "name": "ipython",
    "version": 2
   },
   "file_extension": ".py",
   "mimetype": "text/x-python",
   "name": "python",
   "nbconvert_exporter": "python",
   "pygments_lexer": "ipython2",
   "version": "2.7.14"
  }
 },
 "nbformat": 4,
 "nbformat_minor": 2
}
