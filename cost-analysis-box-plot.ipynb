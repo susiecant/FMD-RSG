{
 "cells": [
  {
   "cell_type": "markdown",
   "metadata": {},
   "source": [
    "50 simulations for control policies"
   ]
  },
  {
   "cell_type": "code",
   "execution_count": 2,
   "metadata": {
    "collapsed": true
   },
   "outputs": [],
   "source": [
    "import os\n",
    "import pandas as pd\n",
    "import numpy as np\n",
    "\n",
    "os.chdir('/Users/apple/Desktop/group/data');\n",
    "countyNumber = 8\n",
    "farmData=pd.read_csv(\"Farms_2010_RSG\",names=[\"County Number\", \"Parish Number\", \"Holding Number\", \n",
    "                                               \"X Coordinate\", \"Y Coordinate\", \"Number of Cattle\", \n",
    "                                               \"Number of Sheep\"],delim_whitespace=True)\n",
    "cumbData = farmData[farmData['County Number'] == countyNumber]\n",
    "CumbNum=cumbData.index.values+1\n",
    "CumbFarmNum=len(CumbNum)"
   ]
  },
  {
   "cell_type": "markdown",
   "metadata": {},
   "source": [
    "# 1. 3km ring cull, no movement ban"
   ]
  },
  {
   "cell_type": "code",
   "execution_count": null,
   "metadata": {},
   "outputs": [],
   "source": [
    "duration1=np.array()\n",
    "cullfarmnum1=np.array()\n",
    "cullsheepnum1=np.array()\n",
    "cullcattlenum1=np.array()\n",
    "movecount1=np.array()"
   ]
  },
  {
   "cell_type": "code",
   "execution_count": null,
   "metadata": {},
   "outputs": [],
   "source": [
    "directfarmcost1=cullsheepnum1*320+cullcattlenum1*1200\n",
    "welfarecost1=0\n",
    "agsectorloss1=0\n",
    "exportloss1=401000*(duration1+100)\n",
    "tourismcost1=0\n",
    "\n",
    "cost1=directfarmcost1+welfarecost1+agsectorloss1+exportloss1+tourismcost1"
   ]
  },
  {
   "cell_type": "markdown",
   "metadata": {},
   "source": [
    "# 2. 3km ring cull, complete movement ban"
   ]
  },
  {
   "cell_type": "code",
   "execution_count": null,
   "metadata": {},
   "outputs": [],
   "source": [
    "duration2=np.array()\n",
    "cullfarmnum2=np.array()\n",
    "cullsheepnum2=np.array()\n",
    "cullcattlenum2=np.array()\n",
    "movecount2=np.array()\n",
    "MoveConsDayV2=np.array() # number of day that we impose complete movement ban\n",
    "GlobalNumMoveBan2=np.array()  # number of movements blocked by movement ban"
   ]
  },
  {
   "cell_type": "code",
   "execution_count": null,
   "metadata": {},
   "outputs": [],
   "source": [
    "farmdayres2=CumbFarmNum*MoveConsDayV2\n",
    "animovres2=GlobalNumMoveBan2\n",
    "\n",
    "directfarmcost2=cullsheepnum2*320+cullcattlenum2*1200\n",
    "welfarecost2=farmdayres2*4.9\n",
    "agsectorloss2=animovres2*139\n",
    "exportloss2=401000*(duration2+100)\n",
    "tourismcost2=166*farmdayres2\n",
    "\n",
    "cost2=directfarmcost2+welfarecost2+agsectorloss2+exportloss2+tourismcost2"
   ]
  },
  {
   "cell_type": "markdown",
   "metadata": {},
   "source": [
    "# 3. 3km ring cull, 5km movement ban"
   ]
  },
  {
   "cell_type": "code",
   "execution_count": null,
   "metadata": {},
   "outputs": [],
   "source": [
    "duration3=np.array()\n",
    "cullfarmnum3=np.array()\n",
    "cullsheepnum3=np.array()\n",
    "cullcattlenum3=np.array()\n",
    "movecount3=np.array()\n",
    "LocalNumMoveBan3=np.array()\n",
    "LocalFarmBan3=np.array()"
   ]
  },
  {
   "cell_type": "code",
   "execution_count": null,
   "metadata": {
    "collapsed": true
   },
   "outputs": [],
   "source": [
    "farmdayres3=LocalFarmBan3\n",
    "animovres3=LocalNumMoveBan3\n",
    "\n",
    "directfarmcost3=cullsheepnum3*320+cullcattlenum3*1200\n",
    "welfarecost3=farmdayres3*4.9\n",
    "agsectorloss3=animovres3*139\n",
    "exportloss3=401000*(duration3+100)\n",
    "tourismcost3=166*farmdayres3\n",
    "\n",
    "cost3=directfarmcost3+welfarecost3+agsectorloss3+exportloss3+tourismcost3"
   ]
  },
  {
   "cell_type": "markdown",
   "metadata": {},
   "source": [
    "# 4. 5km ring cull, no movement ban"
   ]
  },
  {
   "cell_type": "code",
   "execution_count": null,
   "metadata": {
    "collapsed": true
   },
   "outputs": [],
   "source": [
    "duration4=np.array()\n",
    "cullfarmnum4=np.array()\n",
    "cullsheepnum4=np.array()\n",
    "cullcattlenum4=np.array()\n",
    "movecount4=np.array()"
   ]
  },
  {
   "cell_type": "code",
   "execution_count": null,
   "metadata": {
    "collapsed": true
   },
   "outputs": [],
   "source": [
    "directfarmcost4=cullsheepnum4*320+cullcattlenum4*1200\n",
    "welfarecost4=0\n",
    "agsectorloss4=0\n",
    "exportloss4=401000*(duration4+100)\n",
    "tourismcost4=0\n",
    "\n",
    "cost4=directfarmcost4+welfarecost4+agsectorloss4+exportloss4+tourismcost4"
   ]
  },
  {
   "cell_type": "markdown",
   "metadata": {},
   "source": [
    "# 5. 5km ring cull, complete movement ban"
   ]
  },
  {
   "cell_type": "code",
   "execution_count": null,
   "metadata": {
    "collapsed": true
   },
   "outputs": [],
   "source": [
    "duration5=np.array()\n",
    "cullfarmnum5=np.array()\n",
    "cullsheepnum5=np.array()\n",
    "cullcattlenum5=np.array()\n",
    "movecount5=np.array()\n",
    "MoveConsDayV5=np.array() # number of day that we impose complete movement ban\n",
    "GlobalNumMoveBan5=np.array() # number of movements blocked by movement ban"
   ]
  },
  {
   "cell_type": "code",
   "execution_count": null,
   "metadata": {
    "collapsed": true
   },
   "outputs": [],
   "source": [
    "farmdayres5=CumbFarmNum*MoveConsDayV5\n",
    "animovres5=GlobalNumMoveBan5\n",
    "\n",
    "directfarmcost5=cullsheepnum5*320+cullcattlenum5*1200\n",
    "welfarecost5=farmdayres5*4.9\n",
    "agsectorloss5=animovres5*139\n",
    "exportloss5=401000*(duration5+100)\n",
    "tourismcost5=166*farmdayres5\n",
    "\n",
    "cost5=directfarmcost5+welfarecost5+agsectorloss5+exportloss5+tourismcost5"
   ]
  },
  {
   "cell_type": "markdown",
   "metadata": {},
   "source": [
    "# 6. 5km ring cull, 5km local movement ban"
   ]
  },
  {
   "cell_type": "code",
   "execution_count": 5,
   "metadata": {},
   "outputs": [],
   "source": [
    "duration6=np.array([16, 29, 36, 30, 16, 18, 12, 17, 11, 31, 53, 9, 12, 22, 12, 19, 43, 78, 221, 170, 17, 10, 32, 12, 16, 33, 22, 17, 22, 16, 212, 40, 25, 19, 184, 92, 15, 18, 15, 22, 227, 12, 15, 155, 11, 15, 36, 151, 17, 11])\n",
    "cullfarmnum6=np.array([32, 142, 255, 180, 82, 177, 62, 116, 122, 150, 777, 86, 70, 195, 67, 107, 426, 1284, 4124, 3593, 60, 71, 161, 95, 27, 197, 177, 99, 165, 55, 3863, 444, 158, 166, 3333, 1513, 69, 163, 59, 130, 3984, 81, 100, 3158, 82, 46, 121, 3192, 66, 33])\n",
    "cullsheepnum6=np.array([30357.0, 43319.0, 160717.0, 112518.0, 51104.0, 93936.0, 32624.0, 39712.0, 39292.0, 83399.0, 154528.0, 12438.0, 21300.0, 79947.0, 26388.0, 33756.0, 201248.0, 527029.0, 1750038.0, 1647565.0, 26387.0, 43207.0, 19497.0, 58640.0, 26644.0, 73415.0, 38279.0, 36917.0, 61865.0, 24571.0, 1671545.0, 197565.0, 33662.0, 64050.0, 1677695.0, 466096.0, 34571.0, 34366.0, 29848.0, 64018.0, 1740370.0, 49276.0, 50914.0, 1674036.0, 28842.0, 21334.0, 54181.0, 1670559.0, 15872.0, 20709.0])\n",
    "cullcattlenum6=np.array([1123.24, 9963.6399999999994, 20526.050000000003, 14122.380000000001, 4689.2700000000004, 19890.360000000001, 3475.54, 9343.9899999999998, 13933.75, 8537.9099999999999, 117765.75, 14171.51, 6272.0799999999999, 18165.269999999997, 7318.9899999999998, 7525.4799999999996, 50882.130000000005, 153445.07000000001, 447102.17999999999, 427765.88, 7206.0, 6895.1800000000003, 29934.18, 6962.8099999999995, 1478.3199999999997, 17537.23, 26476.739999999998, 11796.960000000001, 18398.73, 4939.4799999999996, 439859.92000000004, 35071.659999999996, 30942.73, 20660.889999999999, 442210.97999999998, 212213.37, 5972.9200000000001, 27355.82, 4388.3299999999999, 15259.33, 448785.5, 10693.01, 14373.15, 442274.03000000003, 5038.5599999999995, 2165.7199999999998, 4982.4099999999999, 442465.48999999999, 3383.75, 2199.5499999999997])\n",
    "movecount6=np.array([0, 0, 0, 0, 0, 0, 0, 0, 0, 0, 0, 0, 0, 0, 0, 0, 0, 0, 0, 0, 0, 0, 0, 0, 0, 0, 0, 0, 0, 0, 0, 0, 0, 0, 0, 0, 0, 0, 0, 0, 0, 0, 0, 0, 0, 0, 0, 0, 0, 0])\n",
    "LocalNumMoveBan6=np.array([17, 75, 28, 86, 16, 66, 10, 13, 18, 24, 713, 15, 6, 136, 9, 76, 389, 2268, 73470, 52786, 17, 8, 136, 10, 2, 22, 110, 37, 91, 17, 101645, 357, 75, 32, 119422, 2873, 15, 155, 11, 49, 99235, 42, 114, 133574, 16, 2, 118, 100829, 12, 3])\n",
    "LocalFarmBan6=np.array([97, 82, 255, 264, 63, 301, 62, 93, 96, 133, 1291, 172, 70, 285, 47, 114, 444, 1998, 53565, 52864, 86, 71, 204, 70, 27, 53, 312, 211, 65, 104, 70652, 325, 165, 181, 117463, 1695, 59, 494, 113, 165, 72613, 118, 336, 133023, 139, 46, 260, 106403, 130, 38])"
   ]
  },
  {
   "cell_type": "code",
   "execution_count": 6,
   "metadata": {
    "collapsed": true
   },
   "outputs": [],
   "source": [
    "farmdayres6=LocalFarmBan6\n",
    "animovres6=LocalNumMoveBan6\n",
    "\n",
    "directfarmcost6=cullsheepnum6*320+cullcattlenum6*1200\n",
    "welfarecost6=farmdayres6*4.9\n",
    "agsectorloss6=animovres6*139\n",
    "exportloss6=401000*(duration6+100)\n",
    "tourismcost6=166*farmdayres6\n",
    "\n",
    "cost6=directfarmcost6+welfarecost6+agsectorloss6+exportloss6+tourismcost6"
   ]
  },
  {
   "cell_type": "code",
   "execution_count": null,
   "metadata": {
    "collapsed": true
   },
   "outputs": [],
   "source": [
    "import matplotlib.pyplot as plt "
   ]
  },
  {
   "cell_type": "code",
   "execution_count": null,
   "metadata": {
    "collapsed": true
   },
   "outputs": [],
   "source": [
    "data_to_plot_cost = [cost1,cost2,cost3,cost4,cost5,cost6]"
   ]
  },
  {
   "cell_type": "code",
   "execution_count": null,
   "metadata": {},
   "outputs": [],
   "source": [
    "plt.figure(1, figsize=(9, 6))\n",
    "plt.boxplot(data_to_plot_cost,0,'')\n",
    "plt.title('Boxplot for cost under different control strategies')\n",
    "plt.show()"
   ]
  },
  {
   "cell_type": "code",
   "execution_count": null,
   "metadata": {
    "collapsed": true
   },
   "outputs": [],
   "source": []
  }
 ],
 "metadata": {
  "kernelspec": {
   "display_name": "Python 2",
   "language": "python",
   "name": "python2"
  },
  "language_info": {
   "codemirror_mode": {
    "name": "ipython",
    "version": 2
   },
   "file_extension": ".py",
   "mimetype": "text/x-python",
   "name": "python",
   "nbconvert_exporter": "python",
   "pygments_lexer": "ipython2",
   "version": "2.7.14"
  }
 },
 "nbformat": 4,
 "nbformat_minor": 2
}
