{
 "cells": [
  {
   "cell_type": "code",
   "execution_count": 29,
   "metadata": {},
   "outputs": [],
   "source": [
    "import numpy as np\n",
    "import random as random\n",
    "import matplotlib.pyplot as plt\n",
    "import time\n",
    "import pandas as pd\n",
    "import math\n",
    "from scipy.spatial import distance\n",
    "from scipy.stats import mode\n",
    "from pyproj import Proj,transform\n",
    "import seaborn as sns\n",
    "import copy\n",
    "from scipy import sparse\n",
    "from sklearn.metrics.pairwise import euclidean_distances\n",
    "from sklearn.model_selection import cross_val_score\n",
    "from sklearn.tree import DecisionTreeClassifier\n",
    "v84 = Proj(proj=\"latlong\",towgs84=\"0,0,0\",ellps=\"WGS84\")\n",
    "v36 = Proj(proj=\"latlong\", k=0.9996012717, ellps=\"airy\", towgs84=\"446.448,-125.157,542.060,0.1502,0.2470,0.8421,-20.4894\")\n",
    "vgrid = Proj(init=\"world:bng\")"
   ]
  },
  {
   "cell_type": "code",
   "execution_count": 30,
   "metadata": {},
   "outputs": [
    {
     "data": {
      "text/plain": [
       "5.991666666666666"
      ]
     },
     "execution_count": 30,
     "metadata": {},
     "output_type": "execute_result"
    }
   ],
   "source": [
    "21570/60/60"
   ]
  },
  {
   "cell_type": "code",
   "execution_count": 33,
   "metadata": {},
   "outputs": [],
   "source": [
    "Data=pd.read_csv(\"All_data\",sep = '\\t', header = 0)"
   ]
  },
  {
   "cell_type": "code",
   "execution_count": 35,
   "metadata": {},
   "outputs": [],
   "source": [
    "Copy1 = pd.read_csv('All_data', sep = '\\t', header = 0)"
   ]
  },
  {
   "cell_type": "code",
   "execution_count": 36,
   "metadata": {},
   "outputs": [],
   "source": [
    "copy2 = Copy1.values\n",
    "true_cattle =  copy.deepcopy(copy2[:,3])\n",
    "true_sheep =  copy.deepcopy(copy2[:,13])\n",
    "cattle = copy2[:,3]\n",
    "sheep = copy2[:,13]"
   ]
  },
  {
   "cell_type": "code",
   "execution_count": 37,
   "metadata": {},
   "outputs": [],
   "source": [
    "xcoord = Data['xcoord'].values\n",
    "ycoord = Data['ycoord'].values"
   ]
  },
  {
   "cell_type": "code",
   "execution_count": 38,
   "metadata": {},
   "outputs": [],
   "source": [
    "joinedinput = np.column_stack((xcoord, ycoord))"
   ]
  },
  {
   "cell_type": "code",
   "execution_count": 39,
   "metadata": {},
   "outputs": [
    {
     "data": {
      "text/plain": [
       "6083"
      ]
     },
     "execution_count": 39,
     "metadata": {},
     "output_type": "execute_result"
    }
   ],
   "source": [
    "N = len(Data)\n",
    "N"
   ]
  },
  {
   "cell_type": "code",
   "execution_count": 40,
   "metadata": {},
   "outputs": [],
   "source": [
    "farm_cost = np.zeros(N)\n",
    "for i in range(0,N):\n",
    "    farm_cost[i] = 150*sheep[i] + 150*cattle[i]\n",
    "\n",
    "Data['cost'] = farm_cost"
   ]
  },
  {
   "cell_type": "code",
   "execution_count": 41,
   "metadata": {},
   "outputs": [],
   "source": [
    "equipment_list = Data['equipment'].values\n",
    "shares_water_list = Data['water'].values\n",
    "shares_grazing_list = Data['grazing'].values\n",
    "shares_milk_list = Data['milk'].values\n",
    "shares_vet_list = Data['vet'].values\n",
    "contact_animal_list = Data['contact_animal'].values\n",
    "contact_human_list = Data['contact_people'].values"
   ]
  },
  {
   "cell_type": "code",
   "execution_count": 42,
   "metadata": {},
   "outputs": [],
   "source": [
    "#parameters\n",
    "#tr = np.random.negative_binomial(1, 1/2, N) #Draw immune periods (1 day)\n",
    "tr = 2*np.ones(N)\n",
    "        \n",
    "psi = 0.00657\n",
    "# psi = 2.5\n",
    "nu = 1.99*(10**(-4.8))\n",
    "xi = 4.65\n",
    "zeta = 2.80\n",
    "chi = 0.403\n",
    "phi = 0.799\n",
    "rho = 0.000863\n",
    "\n",
    "\n",
    "epsilon = np.zeros(N)\n",
    "s = np.random.negative_binomial(50, 50/55, N) #Draw latent periods (5 days)\n",
    "r = np.random.negative_binomial(30, 30/38, N) #Draw infectious periods (8 days)\n",
    "q = np.random.negative_binomial(2*28, 2*28/(4*28), N) #Draw immune periods (2 months)\n",
    "v = np.random.negative_binomial(6*28, 6*28/(12*28))\n",
    "# r = np.random.negative_binomial(8, 8/16, N)"
   ]
  },
  {
   "cell_type": "markdown",
   "metadata": {},
   "source": [
    "### Call sparse matrices for attributes\n",
    "Need to have row, col, data saved in format given in function (`Attributes_sparse_matrices.ipynb`). You either need to run the function `def sparse_matrix(name, sparse_type)` or if you've already done this, just simply load the name.npz file."
   ]
  },
  {
   "cell_type": "code",
   "execution_count": 43,
   "metadata": {},
   "outputs": [
    {
     "ename": "FileNotFoundError",
     "evalue": "[Errno 2] No such file or directory: 'Sparse_Matrices/shares_equipment_sparse_subset.npz'",
     "output_type": "error",
     "traceback": [
      "\u001b[0;31m---------------------------------------------------------------------------\u001b[0m",
      "\u001b[0;31mFileNotFoundError\u001b[0m                         Traceback (most recent call last)",
      "\u001b[0;32m<ipython-input-43-10cb75cf4409>\u001b[0m in \u001b[0;36m<module>\u001b[0;34m()\u001b[0m\n\u001b[1;32m      1\u001b[0m \u001b[0;31m#once saved files\u001b[0m\u001b[0;34m\u001b[0m\u001b[0;34m\u001b[0m\u001b[0m\n\u001b[0;32m----> 2\u001b[0;31m \u001b[0mshares_equipment\u001b[0m \u001b[0;34m=\u001b[0m \u001b[0msparse\u001b[0m\u001b[0;34m.\u001b[0m\u001b[0mload_npz\u001b[0m\u001b[0;34m(\u001b[0m\u001b[0;34m'Sparse_Matrices/shares_equipment_sparse_subset.npz'\u001b[0m\u001b[0;34m)\u001b[0m\u001b[0;34m\u001b[0m\u001b[0m\n\u001b[0m\u001b[1;32m      3\u001b[0m \u001b[0mshares_water\u001b[0m \u001b[0;34m=\u001b[0m \u001b[0msparse\u001b[0m\u001b[0;34m.\u001b[0m\u001b[0mload_npz\u001b[0m\u001b[0;34m(\u001b[0m\u001b[0;34m'Sparse_Matrices/shares_water_sparse_subset.npz'\u001b[0m\u001b[0;34m)\u001b[0m\u001b[0;34m\u001b[0m\u001b[0m\n\u001b[1;32m      4\u001b[0m \u001b[0mshares_grazing\u001b[0m \u001b[0;34m=\u001b[0m \u001b[0msparse\u001b[0m\u001b[0;34m.\u001b[0m\u001b[0mload_npz\u001b[0m\u001b[0;34m(\u001b[0m\u001b[0;34m'Sparse_Matrices/shares_grazing_sparse_subset.npz'\u001b[0m\u001b[0;34m)\u001b[0m\u001b[0;34m\u001b[0m\u001b[0m\n\u001b[1;32m      5\u001b[0m \u001b[0mshares_milk\u001b[0m \u001b[0;34m=\u001b[0m \u001b[0msparse\u001b[0m\u001b[0;34m.\u001b[0m\u001b[0mload_npz\u001b[0m\u001b[0;34m(\u001b[0m\u001b[0;34m'Sparse_Matrices/shares_milk_sparse_subset.npz'\u001b[0m\u001b[0;34m)\u001b[0m\u001b[0;34m\u001b[0m\u001b[0m\n",
      "\u001b[0;32m~/anaconda3/lib/python3.6/site-packages/scipy/sparse/_matrix_io.py\u001b[0m in \u001b[0;36mload_npz\u001b[0;34m(file)\u001b[0m\n\u001b[1;32m    128\u001b[0m     \"\"\"\n\u001b[1;32m    129\u001b[0m \u001b[0;34m\u001b[0m\u001b[0m\n\u001b[0;32m--> 130\u001b[0;31m     \u001b[0;32mwith\u001b[0m \u001b[0mnp\u001b[0m\u001b[0;34m.\u001b[0m\u001b[0mload\u001b[0m\u001b[0;34m(\u001b[0m\u001b[0mfile\u001b[0m\u001b[0;34m,\u001b[0m \u001b[0;34m**\u001b[0m\u001b[0mPICKLE_KWARGS\u001b[0m\u001b[0;34m)\u001b[0m \u001b[0;32mas\u001b[0m \u001b[0mloaded\u001b[0m\u001b[0;34m:\u001b[0m\u001b[0;34m\u001b[0m\u001b[0m\n\u001b[0m\u001b[1;32m    131\u001b[0m         \u001b[0;32mtry\u001b[0m\u001b[0;34m:\u001b[0m\u001b[0;34m\u001b[0m\u001b[0m\n\u001b[1;32m    132\u001b[0m             \u001b[0mmatrix_format\u001b[0m \u001b[0;34m=\u001b[0m \u001b[0mloaded\u001b[0m\u001b[0;34m[\u001b[0m\u001b[0;34m'format'\u001b[0m\u001b[0;34m]\u001b[0m\u001b[0;34m\u001b[0m\u001b[0m\n",
      "\u001b[0;32m~/anaconda3/lib/python3.6/site-packages/numpy/lib/npyio.py\u001b[0m in \u001b[0;36mload\u001b[0;34m(file, mmap_mode, allow_pickle, fix_imports, encoding)\u001b[0m\n\u001b[1;32m    370\u001b[0m     \u001b[0mown_fid\u001b[0m \u001b[0;34m=\u001b[0m \u001b[0;32mFalse\u001b[0m\u001b[0;34m\u001b[0m\u001b[0m\n\u001b[1;32m    371\u001b[0m     \u001b[0;32mif\u001b[0m \u001b[0misinstance\u001b[0m\u001b[0;34m(\u001b[0m\u001b[0mfile\u001b[0m\u001b[0;34m,\u001b[0m \u001b[0mbasestring\u001b[0m\u001b[0;34m)\u001b[0m\u001b[0;34m:\u001b[0m\u001b[0;34m\u001b[0m\u001b[0m\n\u001b[0;32m--> 372\u001b[0;31m         \u001b[0mfid\u001b[0m \u001b[0;34m=\u001b[0m \u001b[0mopen\u001b[0m\u001b[0;34m(\u001b[0m\u001b[0mfile\u001b[0m\u001b[0;34m,\u001b[0m \u001b[0;34m\"rb\"\u001b[0m\u001b[0;34m)\u001b[0m\u001b[0;34m\u001b[0m\u001b[0m\n\u001b[0m\u001b[1;32m    373\u001b[0m         \u001b[0mown_fid\u001b[0m \u001b[0;34m=\u001b[0m \u001b[0;32mTrue\u001b[0m\u001b[0;34m\u001b[0m\u001b[0m\n\u001b[1;32m    374\u001b[0m     \u001b[0;32melif\u001b[0m \u001b[0mis_pathlib_path\u001b[0m\u001b[0;34m(\u001b[0m\u001b[0mfile\u001b[0m\u001b[0;34m)\u001b[0m\u001b[0;34m:\u001b[0m\u001b[0;34m\u001b[0m\u001b[0m\n",
      "\u001b[0;31mFileNotFoundError\u001b[0m: [Errno 2] No such file or directory: 'Sparse_Matrices/shares_equipment_sparse_subset.npz'"
     ]
    }
   ],
   "source": [
    "#once saved files\n",
    "shares_equipment = sparse.load_npz('Main_Notebooks/Sparse_Matrices/shares_equipment_sparse_subset.npz')\n",
    "shares_water = sparse.load_npz('Sparse_Matrices/shares_water_sparse_subset.npz')\n",
    "shares_grazing = sparse.load_npz('Sparse_Matrices/shares_grazing_sparse_subset.npz')\n",
    "shares_milk = sparse.load_npz('Sparse_Matrices/shares_milk_sparse_subset.npz')\n",
    "shares_vet = sparse.load_npz('Sparse_Matrices/shares_vet_sparse_subset.npz')\n",
    "contact_animal = sparse.load_npz('Sparse_Matrices/contact_animal_sparse_subset.npz')\n",
    "contact_human = sparse.load_npz('Sparse_Matrices/contact_human_sparse_subset.npz')"
   ]
  },
  {
   "cell_type": "code",
   "execution_count": 25,
   "metadata": {},
   "outputs": [],
   "source": [
    "distance = sparse.load_npz('Sparse_Matrices/distance_sparse.npz')"
   ]
  },
  {
   "cell_type": "code",
   "execution_count": 12,
   "metadata": {},
   "outputs": [],
   "source": [
    "[a1, a2, a3,a4,a5,a6,a7] = (1/7)*np.ones(7)\n",
    "\n",
    "transmission_matrix = (a1*shares_equipment+\n",
    " a2*shares_water+\n",
    " a3*shares_grazing + \n",
    " a4*shares_milk + \n",
    " a5*shares_vet + \n",
    " a6*contact_animal\n",
    " + a7*contact_human)"
   ]
  },
  {
   "cell_type": "code",
   "execution_count": 13,
   "metadata": {},
   "outputs": [],
   "source": [
    "del shares_equipment\n",
    "del shares_water\n",
    "del shares_grazing\n",
    "del shares_vet\n",
    "del contact_animal\n",
    "del contact_human"
   ]
  },
  {
   "cell_type": "code",
   "execution_count": 14,
   "metadata": {},
   "outputs": [],
   "source": [
    "# transmission_matrix += a4*shares_milk"
   ]
  },
  {
   "cell_type": "code",
   "execution_count": 15,
   "metadata": {},
   "outputs": [],
   "source": [
    "del shares_milk"
   ]
  },
  {
   "cell_type": "code",
   "execution_count": 16,
   "metadata": {},
   "outputs": [
    {
     "data": {
      "text/plain": [
       "0.14285714285714285"
      ]
     },
     "execution_count": 16,
     "metadata": {},
     "output_type": "execute_result"
    }
   ],
   "source": [
    "transmission_matrix[5,6]"
   ]
  },
  {
   "cell_type": "markdown",
   "metadata": {},
   "source": [
    "# Functions\n",
    "##### UNITS: \n",
    "distance units are in km/100!!!\n",
    "\n",
    "So 1km = 0.01"
   ]
  },
  {
   "cell_type": "code",
   "execution_count": 17,
   "metadata": {},
   "outputs": [],
   "source": [
    "def kerneldist(dist):\n",
    "    return psi/(psi**2 + dist**2)"
   ]
  },
  {
   "cell_type": "markdown",
   "metadata": {},
   "source": [
    "### The main code (stochastic discrete-time model):\n",
    "#### matrix A:\n",
    "- `A[:,0]` - index of farm (a farm is only added into the matrix when the farm is infected or if its vaccinated)\n",
    "- `A[:,1]` - time a farm is infected (time unit is days)\n",
    "- `A[:,2] = s` - length of time/period a farm is exposed for  (average 4 days - negative binomial distribution)\n",
    "- `A[:,3]  = r` - length of time/period a farm is infectious for (average 8 days - NB dist)\n",
    "- `A[:,4] = tr` - length of time/period a farm is waiting before triggering vaccines (constant 2 days) \n",
    "- `A[:,5] = q` - length of time/period a farm is naturally immue for (average 2 months - NB dist) \n",
    "- `A[:,6] = end_q` - time at which a farm becomes susceptible again\n",
    "- `A[:,7] = t_vac` - time at which a farm is vaccinated\n",
    "- `A[:,8] = v` - length of time/period a farm is immune for, induced from vaccines (average 6 months - NB dist)\n",
    "- `A[:,9] = end_v` - time at which vaccine immunity ends\n",
    "\n",
    "#### matrix I:\n",
    "- `I == 0` - susceptible farm\n",
    "- `I == 1` - exposed farm\n",
    "- `I == 2` - infectious farm\n",
    "- `I == 3` - vaccinated farm\n",
    "- `I == 4` - immune farm"
   ]
  },
  {
   "cell_type": "code",
   "execution_count": 18,
   "metadata": {},
   "outputs": [
    {
     "data": {
      "text/plain": [
       "array([<3x3 sparse matrix of type '<class 'numpy.float64'>'\n",
       "\twith 5 stored elements in Compressed Sparse Row format>,\n",
       "       <3x3 sparse matrix of type '<class 'numpy.float64'>'\n",
       "\twith 5 stored elements in Compressed Sparse Row format>,\n",
       "       <3x3 sparse matrix of type '<class 'numpy.float64'>'\n",
       "\twith 5 stored elements in Compressed Sparse Row format>], dtype=object)"
      ]
     },
     "execution_count": 18,
     "metadata": {},
     "output_type": "execute_result"
    }
   ],
   "source": [
    "from scipy import sparse\n",
    "A = sparse.csr_matrix([[1, 2, 0], [0, 0, 3], [4, 0, 5]])\n",
    "np.dot(A, np.ones(3))"
   ]
  },
  {
   "cell_type": "code",
   "execution_count": 19,
   "metadata": {},
   "outputs": [],
   "source": [
    "def fmd_model(df, n, tmax, num_initial, Capacity,λ, μ, prob_sheep, s, r, tr, q, trans_M,efficacy, ring_vac, ring_cover, farm_cost):\n",
    "    cattle = copy.deepcopy(df['cattle'].values).astype(int)\n",
    "    sheep = copy.deepcopy(df['sr'].values).astype(int)\n",
    "    t = 0\n",
    "    cost = np.zeros(n)\n",
    "    A = np.zeros(shape = (n, 10))\n",
    "    A[:,0] = -1 \n",
    "    I = np.zeros(n)\n",
    "    vac = np.zeros(n)\n",
    "    \n",
    "    cumInf = np.zeros(tmax)\n",
    "    numInf = np.zeros(tmax)\n",
    "    endemic = 0\n",
    "    \n",
    "    \n",
    "    indent = 1\n",
    "    for k in range(num_initial):\n",
    "        if k ==0:\n",
    "            initial = random.randint(0,n-1)\n",
    "            I[initial] = 1\n",
    "            A[initial, ] = [initial, 0, s[initial], r[initial], tr[initial], q[initial], 0,0,  0,0]\n",
    "        else:\n",
    "            initial2 = (initial + indent)%N\n",
    "            I[initial2] = 1\n",
    "            A[initial2, ] = [initial2, 0, s[initial2], r[initial2], tr[initial2], q[initial2], 0, 0, 0, 0]\n",
    "            indent +=1 \n",
    "            \n",
    "    infect_cow = np.zeros(n)\n",
    "    infect_sheep = np.zeros(n)\n",
    "    \n",
    "    \n",
    "    susceptind = [i for i in range(np.size(I)) if I[i] ==0]\n",
    "    exposedind = [i for i in range(np.size(I)) if I[i] == 1]\n",
    "    infectind = [i for i in range(np.size(I)) if I[i]==2]\n",
    "    vaccineind = [i for i in range(np.size(I)) if I[i]==3]\n",
    "    immuneind = [i for i in range(np.size(I)) if I[i] ==4]\n",
    "    \n",
    "#     time_plot=[0]\n",
    "    Inf=[len(infectind)]\n",
    "    Sus = [len(susceptind)]\n",
    "    Exp = [len(exposedind)]\n",
    "    Imm = [len(immuneind)]\n",
    "    Vac = [len(vaccineind)]\n",
    "    \n",
    "    Dose = []\n",
    "    VAC = []\n",
    "    travelled = []\n",
    "    \n",
    "    while t < tmax:\n",
    "        t = t+1\n",
    "#         print(t)\n",
    "        infNum = 0\n",
    "        \n",
    "        ################################### WITHIN FARM INFECTION ####################################\n",
    "        for farm in infectind:\n",
    "                Num_livestock = infect_cow[farm] + infect_sheep[farm]\n",
    "                inf1 = 1-((1-λ)**Num_livestock) \n",
    "                for animals in range(int(cattle[farm]+sheep[farm])):\n",
    "                    p_beta = np.random.uniform(0,1)\n",
    "                    if (p_beta<inf1) and Num_livestock<=sheep[farm]+cattle[farm]:\n",
    "                        if (random.random() < prob_sheep and sheep[farm]>=1 and infect_sheep[farm]<sheep[farm]):\n",
    "                            infect_sheep[farm] += 1\n",
    "                        elif (cattle[farm]>=1 and infect_cow[farm]<cattle[farm]):\n",
    "                            infect_cow[farm] +=1\n",
    "        \n",
    "        ################################# BETWEEN FARM INFECTION  #####################################\n",
    "\n",
    "        ###############################################################################################\n",
    "        ######################################### ATTRIBUTES ##########################################\n",
    "        ###############################################################################################\n",
    "        Attribute_matrix = trans_M.copy()\n",
    "        beta = np.zeros(n)\n",
    "        beta1 = nu*(xi*(cattle-infect_cow)**chi + (sheep-infect_sheep)**chi)\n",
    "        beta3 = zeta*(infect_cow)**chi + infect_sheep**chi\n",
    "        beta2 = sparse.diags(beta3, shape = (n, n))\n",
    "\n",
    "        Attribute_matrix = sparse.csr_matrix.dot(Attribute_matrix, beta2)\n",
    "#         Attribute_matrix = Attribute_matrix.dot(beta3)\n",
    "        inf_inds = [i for i in range(N) if I[i]==2]\n",
    "        AttMat = Attribute_matrix[:,inf_inds]\n",
    "        for j in range(0,n):\n",
    "            a = AttMat[j,:]\n",
    "            dist = np.array([math.sqrt(sum((joinedinput[j] - i)**2))/(100000) for i in joinedinput[I==2]])\n",
    "\n",
    "            b = kerneldist(dist)\n",
    "        \n",
    "            beta[j] = beta1[j]*sparse.csr_matrix.dot(a,b)\n",
    "\n",
    "        prob_inf = (1 - np.exp(-beta))\n",
    "        unif = np.random.uniform(0, 1, n)\n",
    "        \n",
    "        cattle[I==4] = 0\n",
    "        cattle[I==3] = 0\n",
    "        sheep[I ==4] = 0\n",
    "        sheep[I==3] = 0\n",
    "        prob_inf[I==3] = 0\n",
    "        prob_inf[I==4] =0 \n",
    "        ### immunity ###\n",
    "        for i in range(0,n):\n",
    "            if (unif[i] <= prob_inf[i] and I[i] == 0):\n",
    "                cattle[i] = true_cattle[i]\n",
    "                sheep[i] = true_sheep[i]\n",
    "                I[i] =  1\n",
    "                A[i, ] = [i, t, s[i], r[i], tr[i], q[i], 0, 0,0,0]\n",
    "        \n",
    "        ###################################### EXPOSED TO INFECTIOUS ############################################\n",
    "\n",
    "        inf = A[:,0][A[:,1] + A[:,2] == t]\n",
    "\n",
    "        I[inf.astype(np.int64)] = 2\n",
    "\n",
    "\n",
    "        ####################### UPDATE NUMBER OF INFECTED ANIMALS WITHIN AN INFECTIOUS FARM #####################\n",
    "\n",
    "        for i in inf: \n",
    "            i = int(i)\n",
    "            if (random.random() < (sheep[i]/(sheep[i] +cattle[i])) and sheep[i]>=1 and infect_sheep[i]<sheep[i]):\n",
    "                infect_sheep[i] += 1\n",
    "            elif (cattle[i]>=1 and infect_cow[i]<cattle[i]):\n",
    "                infect_cow[i] +=1\n",
    "        \n",
    "        ########################################### RING VACCINATION ###########################################\n",
    "\n",
    "        trig = A[:,0][A[:,1] + A[:,2] + A[:,4] == t] #trigger vaccines\n",
    "        RingVac = ring_vac/100\n",
    "        for i in trig:\n",
    "            i = int(i)\n",
    "            dist = np.array([math.sqrt(sum((joinedinput[i] - joinedinput[j])**2))/(100000) for j in range(n)])\n",
    "            n_vac = [k for k in range(n) if dist[k] <RingVac]\n",
    "#             index=list(np.where(np.random.uniform(0,1,len(n_vac))<ring_cover*np.ones(len(n_vac)))[0])\n",
    "#             ind_vac=list(np.asarray(n_vac)[index])\n",
    "            ind_vac = [i for i, x in enumerate(np.random.uniform(0,1,len(n_vac))<0.2*np.ones(len(n_vac))) if x]\n",
    "            \n",
    "            for j in ind_vac:\n",
    "                if A[j,7] == 0:\n",
    "                    VAC = np.append(VAC, j)\n",
    "                    \n",
    "        VAC, indices = np.unique(np.array(VAC, dtype=np.int), return_inverse=True)\n",
    "        VAC = VAC[indices]\n",
    "        if len(VAC) > 0:\n",
    "            VAC = VAC.astype(np.int64)\n",
    "        if len(VAC)>Capacity:\n",
    "            cost[VAC[0:Capacity]] += farm_cost[VAC[0:Capacity]]\n",
    "\n",
    "            for j in range(len(VAC[0:Capacity])):\n",
    "                m = VAC[j]\n",
    "                A[m,0] = m\n",
    "                A[m,7] = t\n",
    "                if (I[m] == 0):\n",
    "\n",
    "                    if np.random.uniform(0,1) <efficacy:\n",
    "                        A[m, 8] = np.random.negative_binomial(6*28, 6*28/(12*28))\n",
    "                        A[m,9] = A[m,8] + t\n",
    "                        I[m] = 3\n",
    "                        cattle[m] = 0\n",
    "                        sheep[m] = 0\n",
    "                elif (I[m] == 3):\n",
    "                    if np.random.uniform(0,1) < efficacy:\n",
    "                        immunity = np.random.negative_binomial(6*28, 6*28/(12*28))\n",
    "                        if (A[m,9]) < (immunity+t):\n",
    "                            A[m,8] = immunity\n",
    "                            A[m, 9] = immunity +t\n",
    "                        else:\n",
    "                            A[m,8] = A[m,9] - t\n",
    "                elif (I[m] ==4):\n",
    "                    if np.random.uniform(0,1) < efficacy:\n",
    "                        immunity = np.random.negative_binomial(6*28, 6*28/(12*28))\n",
    "\n",
    "                        if (A[m,6] )< (immunity +t):\n",
    "                            A[m,8] = immunity\n",
    "                            A[m,9] = immunity + t\n",
    "                            I[m] = 3\n",
    "                            A[m,6] = 0\n",
    "                            cattle[m] = 0\n",
    "                            sheep[m] = 0\n",
    "            VAC = np.delete(VAC, range(0, Capacity), None)\n",
    "        else: \n",
    "            cost[0:len(VAC)] += farm_cost[0:len(VAC)]\n",
    "\n",
    "            for j in range(len(VAC)):\n",
    "                m = VAC[j]\n",
    "                A[m, 0] = m\n",
    "                A[m, 7] = t\n",
    "                if (I[m] == 0):\n",
    "                    if np.random.uniform(0,1) <efficacy:\n",
    "                        A[m, 8] = np.random.negative_binomial(6*28, 6*28/(12*28))\n",
    "                        A[m, 9] = A[m, 8] +t\n",
    "                        I[m] = 3\n",
    "                        cattle[m] = 0\n",
    "                        sheep[m] = 0\n",
    "                elif (I[m] == 3):\n",
    "                    if np.random.uniform(0,1) < efficacy:\n",
    "                        immunity = np.random.negative_binomial(6*28, 6*28/(12*28))\n",
    "                        if (A[m,9]) < (immunity +t):\n",
    "                            A[m,8] = immunity\n",
    "                            A[m,9] = immunity +t\n",
    "                        else:\n",
    "                            A[m,8] = A[m,9] - t\n",
    "                elif (I[m] ==4):\n",
    "                    if np.random.uniform(0,1) < efficacy:\n",
    "                        immunity = np.random.negative_binomial(6*28, 6*28/(12*28))\n",
    "                        if (A[m,6] )< (immunity +t):\n",
    "                            A[m,8] = immunity\n",
    "                            A[m,9] = immunity + t\n",
    "                            I[m] = 3\n",
    "                            A[m,6] = 0  \n",
    "                            cattle[m] = 0\n",
    "                            sheep[m] = 0\n",
    "            VAC = np.delete(VAC, range(0, len(VAC)), None)\n",
    "            \n",
    "        ########################################### vaccine wears off ###########################################\n",
    "\n",
    "        new_dose = A[:,0][A[:,7]+6*28 == t] #records when the farmer will get a new vaccine\n",
    "\n",
    "\n",
    "        for j in new_dose:\n",
    "            j = j.astype(np.int64)\n",
    "            if (A[j,8] > 6*28) and (I[j]==3):\n",
    "                A[j, 7] = 0\n",
    "            else: \n",
    "                A[j, 7] = 0\n",
    "                A[j, 8] = 0\n",
    "                A[j,9] = 0\n",
    "                if I[j] == 3:\n",
    "                    I[j] = 0\n",
    "                    cattle[j] = true_cattle[j]\n",
    "                    sheep[j] = true_sheep[j]\n",
    "\n",
    "        vaccinate_ends = A[:,0][A[:,9] == t]\n",
    "\n",
    "        for j in vaccinate_ends:\n",
    "            j = j.astype(np.int64)\n",
    "            if I[j] ==3:\n",
    "                I[j] =0\n",
    "                cattle[j] = true_cattle[j]\n",
    "                sheep[j] = true_sheep[j]\n",
    "        \n",
    "        ######################################### IMMUNITY #######################################################\n",
    "\n",
    "        rem = A[:,0][A[:,1] + A[:,2] + A[:,3] == t] #Move to IM state once infectious period is over\n",
    "        for i in rem:\n",
    "            i = i.astype(np.int64)\n",
    "            if I[i] == 2:\n",
    "                I[i] =4\n",
    "                cattle[i] = 0\n",
    "                sheep[i] = 0\n",
    "                A[i, 6] = A[i, 5] +t\n",
    "                infect_sheep[i] = 0\n",
    "                infect_cow[i] = 0\n",
    "\n",
    "        immune = A[:,0][A[:,1] + A[:,2] + A[:,3] + A[:,5] == t] #Move to S state once immune period is over\n",
    "        I[immune.astype(np.int64)] = 0\n",
    "        A[immune.astype(np.int64), ] = [0, 0, 0, 0, 0, 0, 0, 0, 0, 0]\n",
    "        for k in immune:\n",
    "            k = k.astype(np.int64)\n",
    "            cattle[k] = true_cattle[k]\n",
    "            sheep[k] = true_sheep[k]\n",
    "\n",
    "\n",
    "        #### WITHIN FARM RECOVERY ####\n",
    "        infected = [i for i in range(n) if (infect_cow+infect_sheep)[i]>0]\n",
    "        for farm in infected:\n",
    "            for animals in range(int(infect_sheep[farm]+infect_cow[farm])):\n",
    "                recover = np.random.uniform(0,1)\n",
    "\n",
    "                if recover < μ and (infect_sheep[farm]+infect_cow[farm]) >=1 :\n",
    "\n",
    "                    if (random.random() <(infect_sheep[farm]/(infect_sheep[farm]+infect_cow[farm])) and infect_sheep[farm]>=1 ):\n",
    "                        infect_sheep[farm] -= 1\n",
    "                    elif infect_cow[farm]>=1: \n",
    "                        infect_cow[farm] -=1\n",
    "                    if infect_sheep[farm]+infect_cow[farm] ==0: \n",
    "                        I[farm] = 4\n",
    "                        infect_sheep[farm] = 0\n",
    "                        infect_cow[farm] = 0\n",
    "                        cattle[farm] = 0\n",
    "                        sheep[farm] = 0\n",
    "                        A[farm, 6] = A[farm, 5] +t\n",
    "        ################################### end of each day #########################################\n",
    "        infectind = [i for i in range(np.size(I)) if I[i]==2]\n",
    "        susceptind = [i for i in range(np.size(I)) if I[i]==0]\n",
    "        exposedind = [i for i in range(np.size(I)) if I[i] == 1]\n",
    "        immuneind = [i for i in range(np.size(I)) if I[i] ==4]\n",
    "        vaccineind = [i for i in range(np.size(I)) if I[i]==3]\n",
    "        had_dose = [i for i in range(np.size(I)) if A[i,6]>0]\n",
    "        if t>0:\n",
    "            infNum += len(inf)\n",
    "\n",
    "        numinf2 = len(inf)\n",
    "        Dose.append(len(had_dose))\n",
    "        Inf.append(len(infectind))\n",
    "        Sus.append(len(susceptind))\n",
    "        Exp.append(len(exposedind))\n",
    "        Imm.append(len(immuneind))\n",
    "        Vac.append(len(vaccineind))\n",
    "        cumInf[t] = cumInf[t-1] + infNum\n",
    "        numInf[t] = numinf2\n",
    "\n",
    "        if sum(I == 1) + sum(I == 2) == 0:\n",
    "            a = cumInf[t-1]\n",
    "            cumInf[t:] = a\n",
    "            numInf[t:] = 0 \n",
    "            endemic = 0\n",
    "            total_numinf = cumInf[-1]\n",
    "            break\n",
    "        if t == (tmax-1):\n",
    "            endemic = np.mean(Inf[(tmax-100):])\n",
    "            total_numinf = cumInf[-1]\n",
    "            break\n",
    "    return Inf, endemic, cost, total_numinf, cumInf, numInf"
   ]
  },
  {
   "cell_type": "code",
   "execution_count": 20,
   "metadata": {},
   "outputs": [],
   "source": [
    "#parameters\n",
    "tmax = 100\n",
    "num_initial = 3\n",
    "Capacity = 80\n",
    "λ = 0.1\n",
    "μ = 0.01\n",
    "prob_sheep = 0.5\n",
    "Efficacy = 0.3\n",
    "ring_vac = 3\n",
    "ring_cover = 0.25\n"
   ]
  },
  {
   "cell_type": "code",
   "execution_count": 21,
   "metadata": {},
   "outputs": [
    {
     "name": "stdout",
     "output_type": "stream",
     "text": [
      "*** KeyboardInterrupt exception caught in code being profiled."
     ]
    }
   ],
   "source": [
    "%reload_ext line_profiler\n",
    "%lprun -f fmd_model inf, endemic, cost, totalinf, cuminf, numinf = fmd_model(Data,N, tmax, num_initial, Capacity,λ, μ, prob_sheep, s, r, tr, q, transmission_matrix,Efficacy, ring_vac, ring_cover, farm_cost)"
   ]
  },
  {
   "cell_type": "code",
   "execution_count": 83,
   "metadata": {},
   "outputs": [
    {
     "name": "stdout",
     "output_type": "stream",
     "text": [
      "1\n",
      "2\n",
      "3\n",
      "4\n",
      "5\n",
      "6\n",
      "7\n",
      "8\n",
      "9\n",
      "10\n",
      "11\n",
      "12\n",
      "13\n",
      "14\n",
      "15\n",
      "16\n",
      "17\n",
      "18\n",
      "19\n",
      "20\n",
      "21\n",
      "22\n",
      "23\n",
      "24\n",
      "25\n",
      "26\n",
      "27\n",
      "28\n",
      "29\n",
      "30\n",
      "31\n",
      "32\n",
      "33\n",
      "34\n",
      "35\n",
      "36\n",
      "37\n",
      "38\n",
      "39\n",
      "40\n",
      "41\n",
      "42\n",
      "43\n",
      "44\n",
      "45\n",
      "46\n",
      "47\n",
      "48\n",
      "49\n",
      "50\n",
      "51\n",
      "52\n",
      "53\n",
      "54\n",
      "55\n",
      "56\n",
      "57\n",
      "58\n",
      "59\n",
      "60\n",
      "61\n",
      "62\n",
      "63\n",
      "64\n",
      "65\n",
      "66\n",
      "67\n",
      "68\n",
      "69\n",
      "70\n",
      "71\n",
      "72\n",
      "73\n",
      "74\n",
      "75\n",
      "76\n",
      "77\n",
      "78\n",
      "79\n",
      "80\n",
      "81\n",
      "82\n",
      "83\n",
      "84\n",
      "85\n",
      "86\n",
      "87\n",
      "88\n",
      "89\n",
      "90\n",
      "91\n",
      "92\n",
      "93\n",
      "94\n",
      "95\n",
      "96\n",
      "97\n",
      "98\n",
      "99\n"
     ]
    }
   ],
   "source": [
    "fmd = fmd_model(Data,N, tmax, num_initial, Capacity,λ, μ, prob_sheep, s, r, tr, q, transmission_matrix,Efficacy, ring_vac, ring_cover, farm_cost)\n",
    "\n",
    "# df, n, tmax, num_initial, Capacity,λ, μ, prob_sheep, s, r, tr, q, trans_M,efficacy, ring_vac, ring_cover, farm_cost"
   ]
  },
  {
   "cell_type": "code",
   "execution_count": 84,
   "metadata": {},
   "outputs": [
    {
     "data": {
      "text/plain": [
       "[<matplotlib.lines.Line2D at 0x7fdcc0c61a20>]"
      ]
     },
     "execution_count": 84,
     "metadata": {},
     "output_type": "execute_result"
    },
    {
     "data": {
      "image/png": "[encoded data removed]",
      "text/plain": [
       "<Figure size 432x288 with 1 Axes>"
      ]
     },
     "metadata": {},
     "output_type": "display_data"
    }
   ],
   "source": [
    "plt.plot(range(tmax), fmd[0][:100])"
   ]
  },
  {
   "cell_type": "code",
   "execution_count": 54,
   "metadata": {},
   "outputs": [
    {
     "data": {
      "text/plain": [
       "(160.51,\n",
       " array([38250., 25500., 38250., ...,     0.,     0.,     0.]),\n",
       " 283,\n",
       " array([0.000e+00, 0.000e+00, 2.000e+00, 2.000e+00, 2.000e+00, 4.000e+00,\n",
       "        4.000e+00, 5.000e+00, 7.000e+00, 7.000e+00, 9.000e+00, 1.100e+01,\n",
       "        1.100e+01, 1.200e+01, 1.700e+01, 2.000e+01, 2.400e+01, 3.300e+01,\n",
       "        3.500e+01, 3.800e+01, 4.500e+01, 4.800e+01, 6.000e+01, 6.700e+01,\n",
       "        7.500e+01, 8.100e+01, 9.200e+01, 1.090e+02, 1.240e+02, 1.360e+02,\n",
       "        1.470e+02, 1.670e+02, 1.870e+02, 2.100e+02, 2.260e+02, 2.520e+02,\n",
       "        2.750e+02, 3.000e+02, 3.290e+02, 3.550e+02, 3.830e+02, 4.090e+02,\n",
       "        4.460e+02, 4.740e+02, 4.960e+02, 5.410e+02, 5.720e+02, 6.080e+02,\n",
       "        6.350e+02, 6.770e+02, 7.040e+02, 7.480e+02, 7.870e+02, 8.140e+02,\n",
       "        8.490e+02, 8.830e+02, 9.140e+02, 9.410e+02, 9.780e+02, 1.015e+03,\n",
       "        1.060e+03, 1.082e+03, 1.113e+03, 1.149e+03, 1.185e+03, 1.220e+03,\n",
       "        1.248e+03, 1.282e+03, 1.311e+03, 1.352e+03, 1.388e+03, 1.433e+03,\n",
       "        1.466e+03, 1.500e+03, 1.533e+03, 1.558e+03, 1.584e+03, 1.624e+03,\n",
       "        1.654e+03, 1.680e+03, 1.700e+03, 1.722e+03, 1.754e+03, 1.776e+03,\n",
       "        1.806e+03, 1.832e+03, 1.863e+03, 1.889e+03, 1.917e+03, 1.934e+03,\n",
       "        1.961e+03, 1.986e+03, 2.015e+03, 2.048e+03, 2.067e+03, 2.090e+03,\n",
       "        2.114e+03, 2.141e+03, 2.167e+03, 2.206e+03, 0.000e+00]),\n",
       " array([ 0.,  0.,  2.,  0.,  0.,  2.,  0.,  1.,  2.,  0.,  2.,  2.,  0.,\n",
       "         1.,  5.,  3.,  4.,  9.,  2.,  3.,  7.,  3., 12.,  7.,  8.,  6.,\n",
       "        11., 17., 15., 12., 11., 20., 20., 23., 16., 26., 23., 25., 29.,\n",
       "        26., 28., 26., 37., 28., 22., 45., 31., 36., 27., 42., 27., 44.,\n",
       "        39., 27., 35., 34., 31., 27., 37., 37., 45., 22., 31., 36., 36.,\n",
       "        35., 28., 34., 29., 41., 36., 45., 33., 34., 33., 25., 26., 40.,\n",
       "        30., 26., 20., 22., 32., 22., 30., 26., 31., 26., 28., 17., 27.,\n",
       "        25., 29., 33., 19., 23., 24., 27., 26., 39.,  0.]))"
      ]
     },
     "execution_count": 54,
     "metadata": {},
     "output_type": "execute_result"
    }
   ],
   "source": [
    "fmd"
   ]
  },
  {
   "cell_type": "code",
   "execution_count": null,
   "metadata": {},
   "outputs": [],
   "source": []
  }
 ],
 "metadata": {
  "kernelspec": {
   "display_name": "Python 3",
   "language": "python",
   "name": "python3"
  },
  "language_info": {
   "codemirror_mode": {
    "name": "ipython",
    "version": 3
   },
   "file_extension": ".py",
   "mimetype": "text/x-python",
   "name": "python",
   "nbconvert_exporter": "python",
   "pygments_lexer": "ipython3",
   "version": "3.6.2"
  }
 },
 "nbformat": 4,
 "nbformat_minor": 2
}
