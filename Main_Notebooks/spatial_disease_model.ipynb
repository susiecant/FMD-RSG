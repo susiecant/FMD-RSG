{
 "cells": [
  {
   "cell_type": "code",
   "execution_count": 1,
   "metadata": {},
   "outputs": [],
   "source": [
    "import numpy as np\n",
    "import random as random\n",
    "import matplotlib.pyplot as plt\n",
    "import time\n",
    "import pandas as pd\n",
    "import math\n",
    "from scipy.spatial import distance\n",
    "from scipy.stats import mode\n",
    "from pyproj import Proj,transform\n",
    "import seaborn as sns\n",
    "import copy\n",
    "from scipy import sparse\n",
    "from sklearn.metrics.pairwise import euclidean_distances\n",
    "from sklearn.model_selection import cross_val_score\n",
    "from sklearn.tree import DecisionTreeClassifier\n",
    "v84 = Proj(proj=\"latlong\",towgs84=\"0,0,0\",ellps=\"WGS84\")\n",
    "v36 = Proj(proj=\"latlong\", k=0.9996012717, ellps=\"airy\", towgs84=\"446.448,-125.157,542.060,0.1502,0.2470,0.8421,-20.4894\")\n",
    "vgrid = Proj(init=\"world:bng\")"
   ]
  },
  {
   "cell_type": "code",
   "execution_count": 2,
   "metadata": {},
   "outputs": [
    {
     "name": "stderr",
     "output_type": "stream",
     "text": [
      "/home/emma/.local/lib/python3.5/site-packages/IPython/core/interactiveshell.py:2728: DtypeWarning: Columns (14) have mixed types. Specify dtype option on import or set low_memory=False.\n",
      "  interactivity=interactivity, compiler=compiler, result=result)\n"
     ]
    }
   ],
   "source": [
    "Data=pd.read_csv(\"All_data\",sep = '\\t', header = 0)"
   ]
  },
  {
   "cell_type": "code",
   "execution_count": 3,
   "metadata": {},
   "outputs": [
    {
     "name": "stderr",
     "output_type": "stream",
     "text": [
      "/home/emma/.local/lib/python3.5/site-packages/IPython/core/interactiveshell.py:2728: DtypeWarning: Columns (14) have mixed types. Specify dtype option on import or set low_memory=False.\n",
      "  interactivity=interactivity, compiler=compiler, result=result)\n"
     ]
    }
   ],
   "source": [
    "Copy1 = pd.read_csv('All_data', sep = '\\t', header = 0)"
   ]
  },
  {
   "cell_type": "code",
   "execution_count": 4,
   "metadata": {},
   "outputs": [],
   "source": [
    "copy2 = Copy1.values\n",
    "true_cattle =  copy.deepcopy(copy2[:,3])\n",
    "true_sheep =  copy.deepcopy(copy2[:,13])\n",
    "cattle = copy2[:,3]\n",
    "sheep = copy2[:,13]"
   ]
  },
  {
   "cell_type": "code",
   "execution_count": 5,
   "metadata": {},
   "outputs": [],
   "source": [
    "xcoord = Data['xcoord'].values\n",
    "ycoord = Data['ycoord'].values"
   ]
  },
  {
   "cell_type": "code",
   "execution_count": 6,
   "metadata": {},
   "outputs": [],
   "source": [
    "joinedinput = np.column_stack((xcoord, ycoord))"
   ]
  },
  {
   "cell_type": "code",
   "execution_count": 7,
   "metadata": {},
   "outputs": [],
   "source": [
    "N = len(Data)"
   ]
  },
  {
   "cell_type": "code",
   "execution_count": 8,
   "metadata": {},
   "outputs": [],
   "source": [
    "farm_cost = np.zeros(N)\n",
    "for i in range(0,N):\n",
    "    farm_cost[i] = 150*sheep[i] + 150*cattle[i]\n",
    "\n",
    "Data['cost'] = farm_cost"
   ]
  },
  {
   "cell_type": "code",
   "execution_count": 9,
   "metadata": {},
   "outputs": [],
   "source": [
    "equipment_list = Data['equipment'].values\n",
    "shares_water_list = Data['water'].values\n",
    "shares_grazing_list = Data['grazing'].values\n",
    "shares_milk_list = Data['milk'].values\n",
    "shares_vet_list = Data['vet'].values\n",
    "contact_animal_list = Data['contact_animal'].values\n",
    "contact_human_list = Data['contact_people'].values"
   ]
  },
  {
   "cell_type": "code",
   "execution_count": 10,
   "metadata": {},
   "outputs": [],
   "source": [
    "#parameters\n",
    "#tr = np.random.negative_binomial(1, 1/2, N) #Draw immune periods (1 day)\n",
    "tr = 2*np.ones(N)\n",
    "        \n",
    "psi = 0.00657\n",
    "# psi = 2.5\n",
    "nu = 1.99*(10**(-4.8))\n",
    "xi = 4.65\n",
    "zeta = 2.80\n",
    "chi = 0.403\n",
    "phi = 0.799\n",
    "rho = 0.000863\n",
    "\n",
    "\n",
    "epsilon = np.zeros(N)\n",
    "s = np.random.negative_binomial(50, 50/55, N) #Draw latent periods (5 days)\n",
    "r = np.random.negative_binomial(30, 30/38, N) #Draw infectious periods (8 days)\n",
    "q = np.random.negative_binomial(2*28, 2*28/(4*28), N) #Draw immune periods (2 months)\n",
    "v = np.random.negative_binomial(6*28, 6*28/(12*28))\n",
    "# r = np.random.negative_binomial(8, 8/16, N)"
   ]
  },
  {
   "cell_type": "markdown",
   "metadata": {},
   "source": [
    "### Call sparse matrices for attributes\n",
    "Need to have row, col, data saved in format given in function (`Attributes_sparse_matrices.ipynb`). You either need to run the function `def sparse_matrix(name, sparse_type)` or if you've already done this, just simply load the name.npz file."
   ]
  },
  {
   "cell_type": "code",
   "execution_count": 20,
   "metadata": {},
   "outputs": [],
   "source": [
    "#once saved files\n",
    "shares_equipment = sparse.load_npz('shares_equipment_sparse.npz')\n",
    "# shares_water = sparse.load_npz('shares_water_sparse.npz')\n",
    "# shares_grazing = sparse.load_npz('shares_grazing_sparse.npz')\n",
    "# shares_milk = sparse.load_npz('shares_milk_sparse.npz')\n",
    "# shares_vet = sparse.load_npz('shares_vet_sparse.npz')\n",
    "# contact_animal = sparse.load_npz('contact_animal_sparse.npz')\n",
    "# contact_human = sparse.load_npz('contact_human_sparse.npz')"
   ]
  },
  {
   "cell_type": "code",
   "execution_count": 13,
   "metadata": {},
   "outputs": [],
   "source": [
    "[a1, a2, a3,a4,a5,a6,a7] = (1/7)*np.ones(7)\n",
    "\n",
    "transmission_matrix = (a1*shares_equipment+\n",
    " a2*shares_water+\n",
    " a3*shares_grazing + \n",
    "#  a4*shares_milk + \n",
    " a5*shares_vet + \n",
    " a6*contact_animal\n",
    " + a7*contact_human)"
   ]
  },
  {
   "cell_type": "code",
   "execution_count": 14,
   "metadata": {},
   "outputs": [],
   "source": [
    "del shares_equipment\n",
    "del shares_water\n",
    "del shares_grazing\n",
    "del shares_vet\n",
    "del contact_animal\n",
    "del contact_human"
   ]
  },
  {
   "cell_type": "code",
   "execution_count": 15,
   "metadata": {},
   "outputs": [],
   "source": [
    "transmission_matrix += a4*shares_milk"
   ]
  },
  {
   "cell_type": "code",
   "execution_count": 16,
   "metadata": {},
   "outputs": [],
   "source": [
    "del shares_milk"
   ]
  },
  {
   "cell_type": "markdown",
   "metadata": {},
   "source": [
    "# Functions\n",
    "##### UNITS: \n",
    "distance units are in km/100!!!\n",
    "\n",
    "So 1km = 0.01"
   ]
  },
  {
   "cell_type": "code",
   "execution_count": 17,
   "metadata": {},
   "outputs": [],
   "source": [
    "def kerneldist(dist):\n",
    "    return psi/(psi**2 + dist**2)"
   ]
  },
  {
   "cell_type": "markdown",
   "metadata": {},
   "source": [
    "### The main code (stochastic discrete-time model):\n",
    "#### matrix A:\n",
    "- `A[:,0]` - index of farm (a farm is only added into the matrix when the farm is infected or if its vaccinated)\n",
    "- `A[:,1]` - time a farm is infected (time unit is days)\n",
    "- `A[:,2] = s` - length of time/period a farm is exposed for  (average 4 days - negative binomial distribution)\n",
    "- `A[:,3]  = r` - length of time/period a farm is infectious for (average 8 days - NB dist)\n",
    "- `A[:,4] = tr` - length of time/period a farm is waiting before triggering vaccines (constant 2 days) \n",
    "- `A[:,5] = q` - length of time/period a farm is naturally immue for (average 2 months - NB dist) \n",
    "- `A[:,6] = end_q` - time at which a farm becomes susceptible again\n",
    "- `A[:,7] = t_vac` - time at which a farm is vaccinated\n",
    "- `A[:,8] = v` - length of time/period a farm is immune for, induced from vaccines (average 6 months - NB dist)\n",
    "- `A[:,9] = end_v` - time at which vaccine immunity ends\n",
    "\n",
    "#### matrix I:\n",
    "- `I == 0` - susceptible farm\n",
    "- `I == 1` - exposed farm\n",
    "- `I == 2` - infectious farm\n",
    "- `I == 3` - vaccinated farm\n",
    "- `I == 4` - immune farm"
   ]
  },
  {
   "cell_type": "code",
   "execution_count": 18,
   "metadata": {},
   "outputs": [],
   "source": [
    "def fmd_model(df, n, tmax, num_initial, Capacity,λ, μ, prob_sheep, s, r, tr, q, trans_M,efficacy, ring_vac, ring_cover, farm_cost):\n",
    "    cattle = copy.deepcopy(df['cattle'].values).astype(int)\n",
    "    sheep = copy.deepcopy(df['sr'].values).astype(int)\n",
    "    t = 0\n",
    "    cost = np.zeros(n)\n",
    "    A = np.zeros(shape = (n, 10))\n",
    "    A[:,0] = -1 \n",
    "    I = np.zeros(n)\n",
    "    vac = np.zeros(n)\n",
    "    \n",
    "    cumInf = np.zeros(tmax+1)\n",
    "    numInf = np.zeros(tmax+1)\n",
    "    endemic = 0\n",
    "    \n",
    "    \n",
    "    indent = 1\n",
    "    for k in range(num_initial):\n",
    "        if k ==0:\n",
    "            initial = random.randint(0,n-1)\n",
    "            I[initial] = 1\n",
    "            A[initial, ] = [initial, 0, s[initial], r[initial], tr[initial], q[initial], 0,0,  0,0]\n",
    "        else:\n",
    "            initial2 = (initial + indent)%N\n",
    "            I[initial2] = 1\n",
    "            A[initial2, ] = [initial2, 0, s[initial2], r[initial2], tr[initial2], q[initial2], 0, 0, 0, 0]\n",
    "            indent +=1 \n",
    "            \n",
    "    infect_cow = np.zeros(n)\n",
    "    infect_sheep = np.zeros(n)\n",
    "    \n",
    "    \n",
    "    susceptind = [i for i in range(np.size(I)) if I[i] ==0]\n",
    "    exposedind = [i for i in range(np.size(I)) if I[i] == 1]\n",
    "    infectind = [i for i in range(np.size(I)) if I[i]==2]\n",
    "    vaccineind = [i for i in range(np.size(I)) if I[i]==3]\n",
    "    immuneind = [i for i in range(np.size(I)) if I[i] ==4]\n",
    "    \n",
    "    time_plot=[0]\n",
    "    Inf=[len(infectind)]\n",
    "    Sus = [len(susceptind)]\n",
    "    Exp = [len(exposedind)]\n",
    "    Imm = [len(immuneind)]\n",
    "    Vac = [len(vaccineind)]\n",
    "    \n",
    "    Dose = []\n",
    "    VAC = []\n",
    "    travelled = []\n",
    "    \n",
    "    while t < tmax:\n",
    "        t = t+1\n",
    "        print(t)\n",
    "        infNum = 0\n",
    "        \n",
    "        ################################### WITHIN FARM INFECTION ####################################\n",
    "        for farm in infectind:\n",
    "                Num_livestock = infect_cow[farm] + infect_sheep[farm]\n",
    "                inf = 1-((1-λ)**Num_livestock) \n",
    "                for animals in range(int(cattle[farm]+sheep[farm])):\n",
    "                    p_beta = np.random.uniform(0,1)\n",
    "                    if (p_beta<inf) and (infect_sheep[farm]+infect_cow[farm])<=Num_livestock:\n",
    "                        if (random.random() < prob_sheep and sheep[farm]>=1 and infect_sheep[farm]<sheep[farm]):\n",
    "                            infect_sheep[farm] += 1\n",
    "                        elif (cattle[farm]>=1 and infect_cow[farm]<cattle[farm]):\n",
    "                            infect_cow[farm] +=1\n",
    "        \n",
    "        ################################# BETWEEN FARM INFECTION  #####################################\n",
    "\n",
    "        ###############################################################################################\n",
    "        ######################################### ATTRIBUTES ##########################################\n",
    "        ###############################################################################################\n",
    "        Attribute_matrix = trans_M.copy()\n",
    "        beta = np.zeros(n)\n",
    "        beta1 = nu*(xi*(cattle-infect_cow)**chi + (sheep-infect_sheep)**chi)\n",
    "        beta3 = zeta*(infect_cow)**chi + infect_sheep**chi\n",
    "        beta2 = sparse.diags(beta3, shape = (n, n))\n",
    "        \n",
    "\n",
    "        Attribute_matrix = sparse.csr_matrix.dot(Attribute_matrix, beta2)\n",
    "\n",
    "        for j in range(0,n):\n",
    "            a = Attribute_matrix[j, I ==2]\n",
    "            dist = np.array([math.sqrt(sum((joinedinput[j] - i)**2))/(100000) for i in joinedinput[I==2]])\n",
    "\n",
    "            b = kerneldist(dist)\n",
    "        \n",
    "            beta[j] = beta1[j]*sparse.csr_matrix.dot(a,b)\n",
    "\n",
    "        prob_inf = (1 - np.exp(-beta))\n",
    "        unif = np.random.uniform(0, 1, n)\n",
    "        \n",
    "        ### immunity ###\n",
    "        for i in range(n):\n",
    "            if (I[i] == 4) or (I[i] == 3):\n",
    "                cattle[i] = 0\n",
    "                sheep[i] = 0\n",
    "                prob_inf[i] = 0\n",
    "        for i in range(0,n):\n",
    "            if (unif[i] <= prob_inf[i] and I[i] == 0):\n",
    "                cattle[i] = true_cattle[i]\n",
    "                sheep[i] = true_sheep[i]\n",
    "                I[i] =  1\n",
    "                A[i, ] = [i, t, s[i], r[i], tr[i], q[i], 0, 0,0,0]\n",
    "        \n",
    "        ###################################### EXPOSED TO INFECTIOUS ############################################\n",
    "\n",
    "        inf = A[:,0][A[:,1] + A[:,2] == t]\n",
    "\n",
    "        I[inf.astype(np.int64)] = 2\n",
    "\n",
    "\n",
    "        ####################### UPDATE NUMBER OF INFECTED ANIMALS WITHIN AN INFECTIOUS FARM #####################\n",
    "\n",
    "        for i in inf: \n",
    "            i = int(i)\n",
    "            if (random.random() < (sheep[i]/(sheep[i] +cattle[i])) and sheep[i]>=1 and infect_sheep[i]<sheep[i]):\n",
    "                infect_sheep[i] += 1\n",
    "            elif (cattle[i]>=1 and infect_cow[i]<cattle[i]):\n",
    "                infect_cow[i] +=1\n",
    "        \n",
    "        ########################################### RING VACCINATION ###########################################\n",
    "\n",
    "        trig = A[:,0][A[:,1] + A[:,2] + A[:,4] == t] #trigger vaccines\n",
    "        RingVac = ring_vac/100\n",
    "        for i in trig:\n",
    "            i = int(i)\n",
    "            dist = np.array([math.sqrt(sum((joinedinput[i] - joinedinput[j])**2))/(100000) for j in range(n)])\n",
    "            n_vac = [k for k in range(n) if dist[k] <RingVac]\n",
    "            index=list(np.where(np.random.uniform(0,1,len(n_vac))<ring_cover*np.ones(len(n_vac)))[0])\n",
    "            ind_vac=list(np.asarray(n_vac)[index])\n",
    "            \n",
    "            for j in range(len(ind_vac)):\n",
    "                m = ind_vac[j]\n",
    "                if A[m,7] == 0:\n",
    "                    VAC = np.append(VAC, m)\n",
    "                    travelled.append(dist[m])\n",
    "                    \n",
    "        VAC, indices = np.unique(np.array(VAC, dtype=np.int), return_inverse=True)\n",
    "        VAC = VAC[indices]\n",
    "        if len(VAC) > 0:\n",
    "            VAC = VAC.astype(np.int64)\n",
    "        if len(VAC)>Capacity:\n",
    "            cost[VAC[0:Capacity]] += farm_cost[VAC[0:Capacity]]\n",
    "\n",
    "            for j in range(len(VAC[0:Capacity])):\n",
    "                m = VAC[j]\n",
    "                A[m,0] = m\n",
    "                A[m,7] = t\n",
    "                if (I[m] == 0):\n",
    "\n",
    "                    if np.random.uniform(0,1) <efficacy:\n",
    "                        A[m, 8] = np.random.negative_binomial(6*28, 6*28/(12*28))\n",
    "                        A[m,9] = A[m,8] + t\n",
    "                        I[m] = 3\n",
    "                        cattle[m] = 0\n",
    "                        sheep[m] = 0\n",
    "                elif (I[m] == 3):\n",
    "                    if np.random.uniform(0,1) < efficacy:\n",
    "                        immunity = np.random.negative_binomial(6*28, 6*28/(12*28))\n",
    "                        if (A[m,9]) < (immunity+t):\n",
    "                            A[m,8] = immunity\n",
    "                            A[m, 9] = immunity +t\n",
    "                        else:\n",
    "                            A[m,8] = A[m,9] - t\n",
    "                elif (I[m] ==4):\n",
    "                    if np.random.uniform(0,1) < efficacy:\n",
    "                        if (A[m,6] )< (v +t):\n",
    "                            A[m,8] = v\n",
    "                            A[m,9] = v + t\n",
    "                            I[m] = 3\n",
    "                            A[m,6] = 0\n",
    "                            cattle[m] = 0\n",
    "                            sheep[m] = 0\n",
    "            VAC = np.delete(VAC, range(0, Capacity), None)\n",
    "        else: \n",
    "            cost[0:len(VAC)] += farm_cost[0:len(VAC)]\n",
    "\n",
    "            for j in range(len(VAC)):\n",
    "                m = VAC[j]\n",
    "                A[m, 0] = m\n",
    "                A[m, 7] = t\n",
    "                if (I[m] == 0):\n",
    "                    if np.random.uniform(0,1) <efficacy:\n",
    "                        A[m, 8] = np.random.negative_binomial(6*28, 6*28/(12*28))\n",
    "                        A[m, 9] = A[m, 8] +t\n",
    "                        I[m] = 3\n",
    "                        cattle[m] = 0\n",
    "                        sheep[m] = 0\n",
    "                elif (I[m] == 3):\n",
    "                    if np.random.uniform(0,1) < efficacy:\n",
    "                        immunity = np.random.negative_binomial(6*28, 6*28/(12*28))\n",
    "                        if (A[m,9]) < (immunity +t):\n",
    "                            A[m,8] = immunity\n",
    "                            A[m,9] = immunity +t\n",
    "                        else:\n",
    "                            A[m,8] = A[m,9] - t\n",
    "                elif (I[m] ==4):\n",
    "                    if np.random.uniform(0,1) < efficacy:\n",
    "                        immunity = np.random.negative_binomial(6*28, 6*28/(12*28))\n",
    "                        if (A[m,6] )< (immunity +t):\n",
    "                            A[m,8] = immunity\n",
    "                            A[m,9] = immunity + t\n",
    "                            I[m] = 3\n",
    "                            A[m,6] = 0  \n",
    "                            cattle[m] = 0\n",
    "                            sheep[m] = 0\n",
    "            VAC = np.delete(VAC, range(0, len(VAC)), None)\n",
    "            \n",
    "        ########################################### vaccine wears off ###########################################\n",
    "\n",
    "        new_dose = A[:,0][A[:,7]+6*28 == t] #records when the farmer will get a new vaccine\n",
    "\n",
    "\n",
    "        for j in new_dose:\n",
    "            j = j.astype(np.int64)\n",
    "            if (A[j,8] > 6*28) and (I[j]==3):\n",
    "                A[j, 7] = 0\n",
    "            else: \n",
    "                A[j, 7] = 0\n",
    "                A[j, 8] = 0\n",
    "                A[j,9] = 0\n",
    "                if I[j] == 3:\n",
    "                    I[j] = 0\n",
    "                    cattle[j] = true_cattle[j]\n",
    "                    sheep[j] = true_sheep[j]\n",
    "\n",
    "        vaccinate_ends = A[:,0][A[:,9] == t]\n",
    "\n",
    "        for j in vaccinate_ends:\n",
    "            j = j.astype(np.int64)\n",
    "            if I[j] ==3:\n",
    "                I[j] =0\n",
    "                cattle[j] = true_cattle[j]\n",
    "                sheep[j] = true_sheep[j]\n",
    "        \n",
    "        ######################################### IMMUNITY #######################################################\n",
    "\n",
    "        rem = A[:,0][A[:,1] + A[:,2] + A[:,3] == t] #Move to IM state once infectious period is over\n",
    "        for i in rem:\n",
    "            i = i.astype(np.int64)\n",
    "            if I[i] == 2:\n",
    "                I[i] =4\n",
    "                cattle[i] = 0\n",
    "                sheep[i] = 0\n",
    "                A[i, 6] = A[i, 5] +t\n",
    "                infect_sheep[i] = 0\n",
    "                infect_cow[i] = 0\n",
    "\n",
    "        immune = A[:,0][A[:,1] + A[:,2] + A[:,3] + A[:,5] == t] #Move to S state once immune period is over\n",
    "        I[immune.astype(np.int64)] = 0\n",
    "        A[immune.astype(np.int64), ] = [0, 0, 0, 0, 0, 0, 0, 0, 0, 0]\n",
    "        for k in immune:\n",
    "            k = k.astype(np.int64)\n",
    "            cattle[k] = true_cattle[k]\n",
    "            sheep[k] = true_sheep[k]\n",
    "\n",
    "\n",
    "        #### WITHIN FARM RECOVERY ####\n",
    "        infected = [i for i in range(n) if (infect_cow+infect_sheep)[i]>0]\n",
    "        for farm in infected:\n",
    "            recover = np.random.uniform(0,1)\n",
    "            for animals in range(int(infect_cow[farm]+infect_sheep[farm])):\n",
    "                if recover < μ and (infect_sheep[farm]+infect_cow[farm]) >=1 :\n",
    "                    if (random.random() <(infect_sheep[farm]/(infect_sheep[farm]+infect_cow[farm])) and infect_sheep[farm]>=1 ):\n",
    "                        infect_sheep[farm] -= 1\n",
    "                    elif infect_cow[farm]>=1: \n",
    "                        infect_cow[farm] -=1\n",
    "                    if infect_sheep[farm]+infect_cow[farm] ==0: \n",
    "                        I[farm] = 4\n",
    "                        infect_sheep[farm] = 0\n",
    "                        infect_cow[farm] = 0\n",
    "                        cattle[farm] = 0\n",
    "                        sheep[farm] = 0\n",
    "                        A[farm, 6] = A[farm, 5] +t\n",
    "        ################################### end of each day #########################################\n",
    "        infectind = [i for i in range(np.size(I)) if I[i]==2]\n",
    "        susceptind = [i for i in range(np.size(I)) if I[i]==0]\n",
    "        exposedind = [i for i in range(np.size(I)) if I[i] == 1]\n",
    "        immuneind = [i for i in range(np.size(I)) if I[i] ==4]\n",
    "        vaccineind = [i for i in range(np.size(I)) if I[i]==3]\n",
    "        had_dose = [i for i in range(np.size(I)) if A[i,6]>0]\n",
    "        if t>0:\n",
    "            infNum += len(inf)\n",
    "\n",
    "        numinf2 = len(inf)\n",
    "        Dose.append(len(had_dose))\n",
    "        Inf.append(len(infectind))\n",
    "        Sus.append(len(susceptind))\n",
    "        Exp.append(len(exposedind))\n",
    "        Imm.append(len(immuneind))\n",
    "        Vac.append(len(vaccineind))\n",
    "        time_plot.append(t)\n",
    "        cumInf[t] = cumInf[t-1] + infNum\n",
    "        numInf[t] = numinf2\n",
    "\n",
    "        if sum(I == 1) + sum(I == 2) == 0:\n",
    "            a = cumInf[t-1]\n",
    "            cumInf[t:] = a\n",
    "            numInf[t:] = 0 \n",
    "            endemic = 0\n",
    "            total_numinf = np.max(Inf)\n",
    "            break\n",
    "        if t == (tmax-1):\n",
    "            endemic = np.mean(Inf[(tmax-100):])\n",
    "            total_numinf = np.max(Inf)\n",
    "            break\n",
    "    return endemic, cost, total_numinf, cumInf, numInf"
   ]
  },
  {
   "cell_type": "code",
   "execution_count": 19,
   "metadata": {},
   "outputs": [
    {
     "name": "stdout",
     "output_type": "stream",
     "text": [
      "1\n"
     ]
    },
    {
     "ename": "ValueError",
     "evalue": "dimension mismatch",
     "output_type": "error",
     "traceback": [
      "\u001b[0;31m---------------------------------------------------------------------------\u001b[0m",
      "\u001b[0;31mValueError\u001b[0m                                Traceback (most recent call last)",
      "\u001b[0;32m<ipython-input-19-a863e7eca187>\u001b[0m in \u001b[0;36m<module>\u001b[0;34m()\u001b[0m\n\u001b[0;32m----> 1\u001b[0;31m \u001b[0mfmd\u001b[0m \u001b[0;34m=\u001b[0m \u001b[0mfmd_model\u001b[0m\u001b[0;34m(\u001b[0m\u001b[0mData\u001b[0m\u001b[0;34m,\u001b[0m\u001b[0mN\u001b[0m\u001b[0;34m,\u001b[0m \u001b[0;36m3\u001b[0m\u001b[0;34m,\u001b[0m \u001b[0;36m1\u001b[0m\u001b[0;34m,\u001b[0m \u001b[0;36m80\u001b[0m\u001b[0;34m,\u001b[0m\u001b[0;36m0.1\u001b[0m\u001b[0;34m,\u001b[0m \u001b[0;36m0.01\u001b[0m\u001b[0;34m,\u001b[0m \u001b[0;36m0.5\u001b[0m\u001b[0;34m,\u001b[0m \u001b[0ms\u001b[0m\u001b[0;34m,\u001b[0m \u001b[0mr\u001b[0m\u001b[0;34m,\u001b[0m \u001b[0mtr\u001b[0m\u001b[0;34m,\u001b[0m \u001b[0mq\u001b[0m\u001b[0;34m,\u001b[0m \u001b[0mtransmission_matrix\u001b[0m\u001b[0;34m,\u001b[0m\u001b[0;36m1\u001b[0m\u001b[0;34m,\u001b[0m \u001b[0;36m4\u001b[0m\u001b[0;34m,\u001b[0m \u001b[0;36m1\u001b[0m\u001b[0;34m,\u001b[0m \u001b[0mfarm_cost\u001b[0m\u001b[0;34m)\u001b[0m\u001b[0;34m\u001b[0m\u001b[0m\n\u001b[0m",
      "\u001b[0;32m<ipython-input-18-ef12e76e1202>\u001b[0m in \u001b[0;36mfmd_model\u001b[0;34m(df, n, tmax, num_initial, Capacity, λ, μ, prob_sheep, s, r, tr, q, trans_M, efficacy, ring_vac, ring_cover, farm_cost)\u001b[0m\n\u001b[1;32m     76\u001b[0m \u001b[0;34m\u001b[0m\u001b[0m\n\u001b[1;32m     77\u001b[0m \u001b[0;34m\u001b[0m\u001b[0m\n\u001b[0;32m---> 78\u001b[0;31m         \u001b[0mAttribute_matrix\u001b[0m \u001b[0;34m=\u001b[0m \u001b[0msparse\u001b[0m\u001b[0;34m.\u001b[0m\u001b[0mcsr_matrix\u001b[0m\u001b[0;34m.\u001b[0m\u001b[0mdot\u001b[0m\u001b[0;34m(\u001b[0m\u001b[0mAttribute_matrix\u001b[0m\u001b[0;34m,\u001b[0m \u001b[0mbeta2\u001b[0m\u001b[0;34m)\u001b[0m\u001b[0;34m\u001b[0m\u001b[0m\n\u001b[0m\u001b[1;32m     79\u001b[0m \u001b[0;34m\u001b[0m\u001b[0m\n\u001b[1;32m     80\u001b[0m         \u001b[0;32mfor\u001b[0m \u001b[0mj\u001b[0m \u001b[0;32min\u001b[0m \u001b[0mrange\u001b[0m\u001b[0;34m(\u001b[0m\u001b[0;36m0\u001b[0m\u001b[0;34m,\u001b[0m\u001b[0mn\u001b[0m\u001b[0;34m)\u001b[0m\u001b[0;34m:\u001b[0m\u001b[0;34m\u001b[0m\u001b[0m\n",
      "\u001b[0;32m~/.local/lib/python3.5/site-packages/scipy/sparse/base.py\u001b[0m in \u001b[0;36mdot\u001b[0;34m(self, other)\u001b[0m\n\u001b[1;32m    320\u001b[0m \u001b[0;34m\u001b[0m\u001b[0m\n\u001b[1;32m    321\u001b[0m         \"\"\"\n\u001b[0;32m--> 322\u001b[0;31m         \u001b[0;32mreturn\u001b[0m \u001b[0mself\u001b[0m \u001b[0;34m*\u001b[0m \u001b[0mother\u001b[0m\u001b[0;34m\u001b[0m\u001b[0m\n\u001b[0m\u001b[1;32m    323\u001b[0m \u001b[0;34m\u001b[0m\u001b[0m\n\u001b[1;32m    324\u001b[0m     \u001b[0;32mdef\u001b[0m \u001b[0mpower\u001b[0m\u001b[0;34m(\u001b[0m\u001b[0mself\u001b[0m\u001b[0;34m,\u001b[0m \u001b[0mn\u001b[0m\u001b[0;34m,\u001b[0m \u001b[0mdtype\u001b[0m\u001b[0;34m=\u001b[0m\u001b[0;32mNone\u001b[0m\u001b[0;34m)\u001b[0m\u001b[0;34m:\u001b[0m\u001b[0;34m\u001b[0m\u001b[0m\n",
      "\u001b[0;32m~/.local/lib/python3.5/site-packages/scipy/sparse/base.py\u001b[0m in \u001b[0;36m__mul__\u001b[0;34m(self, other)\u001b[0m\n\u001b[1;32m    437\u001b[0m         \u001b[0;32mif\u001b[0m \u001b[0missparse\u001b[0m\u001b[0;34m(\u001b[0m\u001b[0mother\u001b[0m\u001b[0;34m)\u001b[0m\u001b[0;34m:\u001b[0m\u001b[0;34m\u001b[0m\u001b[0m\n\u001b[1;32m    438\u001b[0m             \u001b[0;32mif\u001b[0m \u001b[0mself\u001b[0m\u001b[0;34m.\u001b[0m\u001b[0mshape\u001b[0m\u001b[0;34m[\u001b[0m\u001b[0;36m1\u001b[0m\u001b[0;34m]\u001b[0m \u001b[0;34m!=\u001b[0m \u001b[0mother\u001b[0m\u001b[0;34m.\u001b[0m\u001b[0mshape\u001b[0m\u001b[0;34m[\u001b[0m\u001b[0;36m0\u001b[0m\u001b[0;34m]\u001b[0m\u001b[0;34m:\u001b[0m\u001b[0;34m\u001b[0m\u001b[0m\n\u001b[0;32m--> 439\u001b[0;31m                 \u001b[0;32mraise\u001b[0m \u001b[0mValueError\u001b[0m\u001b[0;34m(\u001b[0m\u001b[0;34m'dimension mismatch'\u001b[0m\u001b[0;34m)\u001b[0m\u001b[0;34m\u001b[0m\u001b[0m\n\u001b[0m\u001b[1;32m    440\u001b[0m             \u001b[0;32mreturn\u001b[0m \u001b[0mself\u001b[0m\u001b[0;34m.\u001b[0m\u001b[0m_mul_sparse_matrix\u001b[0m\u001b[0;34m(\u001b[0m\u001b[0mother\u001b[0m\u001b[0;34m)\u001b[0m\u001b[0;34m\u001b[0m\u001b[0m\n\u001b[1;32m    441\u001b[0m \u001b[0;34m\u001b[0m\u001b[0m\n",
      "\u001b[0;31mValueError\u001b[0m: dimension mismatch"
     ]
    }
   ],
   "source": [
    "fmd = fmd_model(Data,N, 3, 1, 80,0.1, 0.01, 0.5, s, r, tr, q, transmission_matrix,1, 4, 1, farm_cost)"
   ]
  },
  {
   "cell_type": "code",
   "execution_count": 41,
   "metadata": {},
   "outputs": [],
   "source": [
    "b = [0,0,1]"
   ]
  },
  {
   "cell_type": "code",
   "execution_count": 46,
   "metadata": {},
   "outputs": [
    {
     "data": {
      "text/plain": [
       "(array([2]),)"
      ]
     },
     "execution_count": 46,
     "metadata": {},
     "output_type": "execute_result"
    }
   ],
   "source": [
    "np.nonzero(b)"
   ]
  },
  {
   "cell_type": "code",
   "execution_count": 64,
   "metadata": {},
   "outputs": [
    {
     "data": {
      "text/plain": [
       "85493"
      ]
     },
     "execution_count": 64,
     "metadata": {},
     "output_type": "execute_result"
    }
   ],
   "source": [
    "N"
   ]
  },
  {
   "cell_type": "code",
   "execution_count": 59,
   "metadata": {},
   "outputs": [
    {
     "data": {
      "text/plain": [
       "(85494, 85494)"
      ]
     },
     "execution_count": 59,
     "metadata": {},
     "output_type": "execute_result"
    }
   ],
   "source": [
    "transmission_matrix.shape"
   ]
  },
  {
   "cell_type": "code",
   "execution_count": 77,
   "metadata": {},
   "outputs": [
    {
     "data": {
      "text/plain": [
       "2"
      ]
     },
     "execution_count": 77,
     "metadata": {},
     "output_type": "execute_result"
    }
   ],
   "source": [
    "shares_water[12,11]"
   ]
  },
  {
   "cell_type": "code",
   "execution_count": null,
   "metadata": {},
   "outputs": [],
   "source": []
  }
 ],
 "metadata": {
  "kernelspec": {
   "display_name": "Python 3",
   "language": "python",
   "name": "python3"
  },
  "language_info": {
   "codemirror_mode": {
    "name": "ipython",
    "version": 3
   },
   "file_extension": ".py",
   "mimetype": "text/x-python",
   "name": "python",
   "nbconvert_exporter": "python",
   "pygments_lexer": "ipython3",
   "version": "3.5.2"
  }
 },
 "nbformat": 4,
 "nbformat_minor": 2
}
