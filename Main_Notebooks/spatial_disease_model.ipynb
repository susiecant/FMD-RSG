{
 "cells": [
  {
   "cell_type": "code",
   "execution_count": 1,
   "metadata": {},
   "outputs": [],
   "source": [
    "import numpy as np\n",
    "import random as random\n",
    "import matplotlib.pyplot as plt\n",
    "import time\n",
    "import pandas as pd\n",
    "import math\n",
    "import copy\n",
    "from scipy import sparse"
   ]
  },
  {
   "cell_type": "code",
   "execution_count": 2,
   "metadata": {},
   "outputs": [],
   "source": [
    "# Data=pd.read_csv(\"All_data.txt\",sep = '\\t', header = 0)\n",
    "Data=pd.read_csv(\"All_data.csv\",sep = ',', header = 0)"
   ]
  },
  {
   "cell_type": "code",
   "execution_count": 3,
   "metadata": {},
   "outputs": [],
   "source": [
    "# Copy1 = pd.read_csv('All_data.txt', sep = '\\t', header = 0)\n",
    "Copy1 = pd.read_csv('All_data.csv', sep = ',', header = 0)"
   ]
  },
  {
   "cell_type": "code",
   "execution_count": 4,
   "metadata": {},
   "outputs": [],
   "source": [
    "copy2 = Copy1.values\n",
    "true_cattle =  copy.deepcopy(copy2[:,3])\n",
    "true_sheep =  copy.deepcopy(copy2[:,13])\n",
    "cattle = copy2[:,3]\n",
    "sheep = copy2[:,13]"
   ]
  },
  {
   "cell_type": "code",
   "execution_count": 5,
   "metadata": {},
   "outputs": [],
   "source": [
    "# xcoord = Data['xcoord'].values\n",
    "# ycoord = Data['ycoord'].values"
   ]
  },
  {
   "cell_type": "code",
   "execution_count": 6,
   "metadata": {},
   "outputs": [],
   "source": [
    "# joinedinput = np.column_stack((xcoord, ycoord))"
   ]
  },
  {
   "cell_type": "code",
   "execution_count": 7,
   "metadata": {},
   "outputs": [
    {
     "data": {
      "text/plain": [
       "85493"
      ]
     },
     "execution_count": 7,
     "metadata": {},
     "output_type": "execute_result"
    }
   ],
   "source": [
    "N = len(Data)\n",
    "N"
   ]
  },
  {
   "cell_type": "code",
   "execution_count": 8,
   "metadata": {},
   "outputs": [],
   "source": [
    "farm_cost = np.zeros(N)\n",
    "for i in range(0,N):\n",
    "    farm_cost[i] = 150*sheep[i] + 150*cattle[i]\n",
    "\n",
    "Data['cost'] = farm_cost\n",
    "\n",
    "del Copy1\n",
    "del copy2"
   ]
  },
  {
   "cell_type": "code",
   "execution_count": 9,
   "metadata": {},
   "outputs": [],
   "source": [
    "# equipment_list = Data['equipment'].values\n",
    "# shares_water_list = Data['water'].values\n",
    "# shares_grazing_list = Data['grazing'].values\n",
    "# shares_milk_list = Data['milk'].values\n",
    "# shares_vet_list = Data['vet'].values\n",
    "# contact_animal_list = Data['contact_animal'].values\n",
    "# contact_human_list = Data['contact_people'].values"
   ]
  },
  {
   "cell_type": "code",
   "execution_count": 10,
   "metadata": {},
   "outputs": [],
   "source": [
    "#parameters\n",
    "#tr = np.random.negative_binomial(1, 1/2, N) #Draw immune periods (1 day)\n",
    "tr = 2*np.ones(N)\n",
    "        \n",
    "psi = 0.00657\n",
    "# psi = 2.5\n",
    "nu = 1.99*(10**(-4.8))\n",
    "xi = 4.65\n",
    "zeta = 2.80\n",
    "chi = 0.403\n",
    "phi = 0.799\n",
    "rho = 0.000863\n",
    "\n",
    "\n",
    "epsilon = np.zeros(N)\n",
    "s = np.random.negative_binomial(50, 50/55, N) #Draw latent periods (5 days)\n",
    "r = np.random.negative_binomial(30, 30/38, N) #Draw infectious periods (8 days)\n",
    "q = np.random.negative_binomial(2*28, 2*28/(4*28), N) #Draw immune periods (2 months)\n",
    "v = np.random.negative_binomial(6*28, 6*28/(12*28))\n",
    "# r = np.random.negative_binomial(8, 8/16, N)"
   ]
  },
  {
   "cell_type": "code",
   "execution_count": null,
   "metadata": {},
   "outputs": [],
   "source": []
  },
  {
   "cell_type": "markdown",
   "metadata": {},
   "source": [
    "### Call sparse matrices for attributes\n",
    "Need to have row, col, data saved in format given in function (`Attributes_sparse_matrices.ipynb`). You either need to run the function `def sparse_matrix(name, sparse_type)` or if you've already done this, just simply load the name.npz file."
   ]
  },
  {
   "cell_type": "code",
   "execution_count": 11,
   "metadata": {},
   "outputs": [],
   "source": [
    "#once saved files\n",
    "shares_equipment = sparse.load_npz('Sparse_Matrices/shares_equipment_sparse.npz')\n",
    "shares_water = sparse.load_npz('Sparse_Matrices/shares_water_sparse.npz')\n",
    "shares_grazing = sparse.load_npz('Sparse_Matrices/shares_grazing_sparse.npz')\n",
    "shares_milk = sparse.load_npz('Sparse_Matrices/shares_milk_sparse.npz')\n",
    "shares_vet = sparse.load_npz('Sparse_Matrices/shares_vet_sparse.npz')\n",
    "contact_animal = sparse.load_npz('Sparse_Matrices/contact_animal_sparse.npz')\n",
    "contact_human = sparse.load_npz('Sparse_Matrices/contact_human_sparse.npz')"
   ]
  },
  {
   "cell_type": "code",
   "execution_count": 12,
   "metadata": {},
   "outputs": [],
   "source": [
    "[a1, a2, a3,a4,a5,a6,a7] = (1/7)*np.ones(7)\n",
    "\n",
    "transmission_matrix = (a1*shares_equipment+\n",
    " a2*shares_water+\n",
    " a3*shares_grazing + \n",
    " a4*shares_milk + \n",
    " a5*shares_vet + \n",
    " a6*contact_animal\n",
    " + a7*contact_human)"
   ]
  },
  {
   "cell_type": "code",
   "execution_count": 13,
   "metadata": {},
   "outputs": [],
   "source": [
    "del shares_equipment\n",
    "del shares_water\n",
    "del shares_grazing\n",
    "del shares_vet\n",
    "del contact_animal\n",
    "del contact_human\n",
    "del shares_milk\n",
    "\n",
    "cscTransmissionMatrix = transmission_matrix.tocsr()\n",
    "del transmission_matrix"
   ]
  },
  {
   "cell_type": "code",
   "execution_count": 14,
   "metadata": {},
   "outputs": [
    {
     "name": "stdout",
     "output_type": "stream",
     "text": [
      "1\n",
      "2\n"
     ]
    }
   ],
   "source": [
    "kDistance = sparse.load_npz('Sparse_Matrices/kerneldist_sparse.npz')\n",
    "csrKDistance = kDistance.tocsc()\n",
    "del kDistance\n",
    "print('1')\n",
    "distance = sparse.load_npz('Sparse_Matrices/dist_sparse.npz')\n",
    "csrDistance = distance.tocsr()\n",
    "del distance\n",
    "print('2')"
   ]
  },
  {
   "cell_type": "code",
   "execution_count": 15,
   "metadata": {},
   "outputs": [
    {
     "name": "stdout",
     "output_type": "stream",
     "text": [
      "<class 'scipy.sparse.csr.csr_matrix'>\n",
      "<class 'scipy.sparse.csc.csc_matrix'>\n"
     ]
    }
   ],
   "source": [
    "print(type(csrDistance))\n",
    "print(type(csrKDistance))\n",
    "# print(type(transmission_matrix))\n",
    "# print(type(lildistance))"
   ]
  },
  {
   "cell_type": "markdown",
   "metadata": {},
   "source": [
    "# Functions\n",
    "##### UNITS: \n",
    "distance units are in km/100!!!\n",
    "\n",
    "So 1km = 0.01"
   ]
  },
  {
   "cell_type": "markdown",
   "metadata": {},
   "source": [
    "### The main code (stochastic discrete-time model):\n",
    "#### matrix A:\n",
    "- `A[:,0]` - index of farm (a farm is only added into the matrix when the farm is infected or if its vaccinated)\n",
    "- `A[:,1]` - time a farm is infected (time unit is days)\n",
    "- `A[:,2] = s` - length of time/period a farm is exposed for  (average 4 days - negative binomial distribution)\n",
    "- `A[:,3]  = r` - length of time/period a farm is infectious for (average 8 days - NB dist)\n",
    "- `A[:,4] = tr` - length of time/period a farm is waiting before triggering vaccines (constant 2 days) \n",
    "- `A[:,5] = q` - length of time/period a farm is naturally immue for (average 2 months - NB dist) \n",
    "- `A[:,6] = end_q` - time at which a farm becomes susceptible again\n",
    "- `A[:,7] = t_vac` - time at which a farm is vaccinated\n",
    "- `A[:,8] = v` - length of time/period a farm is immune for, induced from vaccines (average 6 months - NB dist)\n",
    "- `A[:,9] = end_v` - time at which vaccine immunity ends\n",
    "\n",
    "#### matrix I:\n",
    "- `I == 0` - susceptible farm\n",
    "- `I == 1` - exposed farm\n",
    "- `I == 2` - infectious farm\n",
    "- `I == 3` - vaccinated farm\n",
    "- `I == 4` - immune farm"
   ]
  },
  {
   "cell_type": "markdown",
   "metadata": {},
   "source": [
    "### Jewell or Keeling?\n",
    "\n",
    "Infection is transmitted using two dynamics: within and between farms.\n",
    "#### Within Farm:\n",
    "- $\\lambda = 0.1$ \n",
    "- $\\beta_i = 1 - (1-\\lambda)^{(I_{c,i}+I_{s,i})}$\n",
    "\n",
    "#### Between Farm:\n",
    "- $\\nu = 1.99\\times 10^{-4.8}, \\xi = 4.65, \\zeta = 2.8, \\xi = 0.403$\n",
    "- $\\beta_i = \\nu (\\xi S_{c,i}^\\chi + S_{s,i}^\\chi) \\sum_{j \\in \\ \\text{inf}} (\\zeta I_{c,j}^\\chi + I_{s,j}^\\chi ) A_{i,j} K(d_{i,j})$"
   ]
  },
  {
   "cell_type": "code",
   "execution_count": 25,
   "metadata": {},
   "outputs": [],
   "source": [
    "def fmd_model(df, n, tmax, num_initial, Capacity,λ, μ, prob_sheep, s, r, tr, q, trans_M,efficacy, ring_vac, ring_cover, farm_cost):\n",
    "    cattle = copy.deepcopy(df['cattle'].values).astype(int)\n",
    "    sheep = copy.deepcopy(df['sr'].values).astype(int)\n",
    "    t = 0\n",
    "    cost = np.zeros(n)\n",
    "    A = np.zeros(shape = (n, 10))\n",
    "    A[:,0] = -1 \n",
    "    I = np.zeros(n)\n",
    "    vac = np.zeros(n)\n",
    "    \n",
    "    cumInf = np.zeros(tmax)\n",
    "    numInf = np.zeros(tmax)\n",
    "    endemic = 0\n",
    "    \n",
    "    \n",
    "    indent = 1\n",
    "    for k in range(num_initial):\n",
    "        if k ==0:\n",
    "            initial = random.randint(0,n-1)\n",
    "            I[initial] = 1\n",
    "            A[initial, ] = [initial, 0, s[initial], r[initial], tr[initial], q[initial], 0,0,  0,0]\n",
    "        else:\n",
    "            initial2 = (initial + indent)%N\n",
    "            I[initial2] = 1\n",
    "            A[initial2, ] = [initial2, 0, s[initial2], r[initial2], tr[initial2], q[initial2], 0, 0, 0, 0]\n",
    "            indent +=1 \n",
    "            \n",
    "    infect_cow = np.zeros(n)\n",
    "    infect_sheep = np.zeros(n)\n",
    "    \n",
    "    \n",
    "    susceptind = [i for i in range(np.size(I)) if I[i] ==0]\n",
    "    exposedind = [i for i in range(np.size(I)) if I[i] == 1]\n",
    "    infectind = [i for i in range(np.size(I)) if I[i]==2]\n",
    "    vaccineind = [i for i in range(np.size(I)) if I[i]==3]\n",
    "    immuneind = [i for i in range(np.size(I)) if I[i] ==4]\n",
    "    \n",
    "#     time_plot=[0]\n",
    "    Inf=[len(infectind)]\n",
    "    Sus = [len(susceptind)]\n",
    "    Exp = [len(exposedind)]\n",
    "    Imm = [len(immuneind)]\n",
    "    Vac = [len(vaccineind)]\n",
    "    \n",
    "    Dose = []\n",
    "    VAC = []\n",
    "    travelled = []\n",
    "#     print('copy started')\n",
    "    Attribute_matrix = trans_M.copy()\n",
    "#     print('copy finished')\n",
    "    while t < tmax:\n",
    "        t = t+1\n",
    "        print(t)\n",
    "        infNum = 0\n",
    "        \n",
    "        ################################### WITHIN FARM INFECTION ####################################\n",
    "        for farm in infectind:\n",
    "                Num_livestock = infect_cow[farm] + infect_sheep[farm]\n",
    "                inf1 = 1-((1-λ)**Num_livestock) \n",
    "                for animals in range(int(cattle[farm]+sheep[farm])):\n",
    "                    p_beta = np.random.uniform(0,1)\n",
    "                    if (p_beta<inf1) and Num_livestock<=sheep[farm]+cattle[farm]:\n",
    "                        if (random.random() < prob_sheep and sheep[farm]>=1 and infect_sheep[farm]<sheep[farm]):\n",
    "                            infect_sheep[farm] += 1\n",
    "                        elif (cattle[farm]>=1 and infect_cow[farm]<cattle[farm]):\n",
    "                            infect_cow[farm] +=1\n",
    "        \n",
    "        ################################# BETWEEN FARM INFECTION  #####################################\n",
    "\n",
    "        ###############################################################################################\n",
    "        ######################################### ATTRIBUTES ##########################################\n",
    "        ###############################################################################################\n",
    "        beta = np.zeros(n)\n",
    "        inf_inds = [i for i in range(N) if I[i]==2]\n",
    "        if len(inf_inds) > 0:\n",
    "            beta1 = nu*(xi*(cattle-infect_cow)**chi + (sheep-infect_sheep)**chi)\n",
    "            beta3 = zeta*(infect_cow)**chi + infect_sheep**chi\n",
    "            beta2 = sparse.diags(beta3, shape = (n, n))\n",
    "            newBeta1 = sparse.diags(beta1, shape = (n, n))\n",
    "            Attribute_matrix2 = Attribute_matrix.dot(beta2)\n",
    "            AttMat = Attribute_matrix2[:,inf_inds]\n",
    "            kernelDistMat = csrKDistance[inf_inds,:]\n",
    "            B = np.zeros((n,1))\n",
    "            AMatrix = AttMat.multiply(kernelDistMat.transpose())\n",
    "            B = AMatrix.sum(axis=1)\n",
    "            beta = newBeta1.dot(B)\n",
    "            del B, AttMat, kernelDistMat\n",
    "            \n",
    "        prob_inf = (1 - np.exp(-beta))\n",
    "        unif = np.random.uniform(0, 1, n)\n",
    "        \n",
    "        cattle[I==4] = 0\n",
    "        cattle[I==3] = 0\n",
    "        sheep[I ==4] = 0\n",
    "        sheep[I==3] = 0\n",
    "        prob_inf[I==3] = 0\n",
    "        prob_inf[I==4] =0 \n",
    "        ### immunity ###\n",
    "        for i in range(0,n):\n",
    "            if (unif[i] <= prob_inf[i] and I[i] == 0):\n",
    "                cattle[i] = true_cattle[i]\n",
    "                sheep[i] = true_sheep[i]\n",
    "                I[i] =  1\n",
    "                A[i, ] = [i, t, s[i], r[i], tr[i], q[i], 0, 0,0,0]\n",
    "        \n",
    "        ###################################### EXPOSED TO INFECTIOUS ############################################\n",
    "\n",
    "        inf = A[:,0][A[:,1] + A[:,2] == t]\n",
    "\n",
    "        I[inf.astype(np.int64)] = 2\n",
    "\n",
    "\n",
    "        ####################### UPDATE NUMBER OF INFECTED ANIMALS WITHIN AN INFECTIOUS FARM #####################\n",
    "\n",
    "        for i in inf: \n",
    "            i = int(i)\n",
    "            if (random.random() < (sheep[i]/(sheep[i] +cattle[i])) and sheep[i]>=1 and infect_sheep[i]<sheep[i]):\n",
    "                infect_sheep[i] += 1\n",
    "            elif (cattle[i]>=1 and infect_cow[i]<cattle[i]):\n",
    "                infect_cow[i] +=1\n",
    "        \n",
    "        ########################################### RING VACCINATION ###########################################\n",
    "\n",
    "        trig = A[:,0][A[:,1] + A[:,2] + A[:,4] == t] #trigger vaccines\n",
    "        RingVac = ring_vac/100\n",
    "#         lildistance = distance.tolil()\n",
    "        for i in trig:\n",
    "            i = int(i)\n",
    "#             dist = np.array([math.sqrt(sum((joinedinput[i] - joinedinput[j])**2))/(100000) for j in range(n)])\n",
    "#             n_vac = [k for k in range(n) if dist[k] <RingVac]\n",
    "            start, stop = csrDistance.indptr[i], csrDistance.indptr[i+1]\n",
    "            noncopy_row_i = sparse.csr_matrix((csrDistance.data[start:stop],\n",
    "                                         csrDistance.indices[start:stop],\n",
    "                                         np.array([0, stop-start])),\n",
    "                                        shape=(1, csrDistance.shape[1]))\n",
    "            n_vac = noncopy_row_i.nonzero()\n",
    "            del noncopy_row_i\n",
    "            del start, stop\n",
    "            \n",
    "            ind_vac = [i for i, x in enumerate(np.random.uniform(0,1,len(n_vac))<0.2*np.ones(len(n_vac))) if x]\n",
    "            \n",
    "            for j in ind_vac:\n",
    "                if A[j,7] == 0:\n",
    "                    VAC = np.append(VAC, j)\n",
    "                    \n",
    "        VAC, indices = np.unique(np.array(VAC, dtype=np.int), return_inverse=True)\n",
    "        VAC = VAC[indices]\n",
    "        if len(VAC) > 0:\n",
    "            VAC = VAC.astype(np.int64)\n",
    "        if len(VAC)>Capacity:\n",
    "            cost[VAC[0:Capacity]] += farm_cost[VAC[0:Capacity]]\n",
    "\n",
    "            for j in range(len(VAC[0:Capacity])):\n",
    "                m = VAC[j]\n",
    "                A[m,0] = m\n",
    "                A[m,7] = t\n",
    "                if (I[m] == 0):\n",
    "\n",
    "                    if np.random.uniform(0,1) <efficacy:\n",
    "                        A[m, 8] = np.random.negative_binomial(6*28, 6*28/(12*28))\n",
    "                        A[m,9] = A[m,8] + t\n",
    "                        I[m] = 3\n",
    "                        cattle[m] = 0\n",
    "                        sheep[m] = 0\n",
    "                elif (I[m] == 3):\n",
    "                    if np.random.uniform(0,1) < efficacy:\n",
    "                        immunity = np.random.negative_binomial(6*28, 6*28/(12*28))\n",
    "                        if (A[m,9]) < (immunity+t):\n",
    "                            A[m,8] = immunity\n",
    "                            A[m, 9] = immunity +t\n",
    "                        else:\n",
    "                            A[m,8] = A[m,9] - t\n",
    "                elif (I[m] ==4):\n",
    "                    if np.random.uniform(0,1) < efficacy:\n",
    "                        immunity = np.random.negative_binomial(6*28, 6*28/(12*28))\n",
    "\n",
    "                        if (A[m,6] )< (immunity +t):\n",
    "                            A[m,8] = immunity\n",
    "                            A[m,9] = immunity + t\n",
    "                            I[m] = 3\n",
    "                            A[m,6] = 0\n",
    "                            cattle[m] = 0\n",
    "                            sheep[m] = 0\n",
    "            VAC = np.delete(VAC, range(0, Capacity), None)\n",
    "        else: \n",
    "            cost[0:len(VAC)] += farm_cost[0:len(VAC)]\n",
    "\n",
    "            for j in range(len(VAC)):\n",
    "                m = VAC[j]\n",
    "                A[m, 0] = m\n",
    "                A[m, 7] = t\n",
    "                if (I[m] == 0):\n",
    "                    if np.random.uniform(0,1) <efficacy:\n",
    "                        A[m, 8] = np.random.negative_binomial(6*28, 6*28/(12*28))\n",
    "                        A[m, 9] = A[m, 8] +t\n",
    "                        I[m] = 3\n",
    "                        cattle[m] = 0\n",
    "                        sheep[m] = 0\n",
    "                elif (I[m] == 3):\n",
    "                    if np.random.uniform(0,1) < efficacy:\n",
    "                        immunity = np.random.negative_binomial(6*28, 6*28/(12*28))\n",
    "                        if (A[m,9]) < (immunity +t):\n",
    "                            A[m,8] = immunity\n",
    "                            A[m,9] = immunity +t\n",
    "                        else:\n",
    "                            A[m,8] = A[m,9] - t\n",
    "                elif (I[m] ==4):\n",
    "                    if np.random.uniform(0,1) < efficacy:\n",
    "                        immunity = np.random.negative_binomial(6*28, 6*28/(12*28))\n",
    "                        if (A[m,6] )< (immunity +t):\n",
    "                            A[m,8] = immunity\n",
    "                            A[m,9] = immunity + t\n",
    "                            I[m] = 3\n",
    "                            A[m,6] = 0  \n",
    "                            cattle[m] = 0\n",
    "                            sheep[m] = 0\n",
    "            VAC = np.delete(VAC, range(0, len(VAC)), None)\n",
    "            \n",
    "        ########################################### vaccine wears off ###########################################\n",
    "\n",
    "        new_dose = A[:,0][A[:,7]+6*28 == t] #records when the farmer will get a new vaccine\n",
    "\n",
    "\n",
    "        for j in new_dose:\n",
    "            j = j.astype(np.int64)\n",
    "            if (A[j,8] > 6*28) and (I[j]==3):\n",
    "                A[j, 7] = 0\n",
    "            else: \n",
    "                A[j, 7] = 0\n",
    "                A[j, 8] = 0\n",
    "                A[j,9] = 0\n",
    "                if I[j] == 3:\n",
    "                    I[j] = 0\n",
    "                    cattle[j] = true_cattle[j]\n",
    "                    sheep[j] = true_sheep[j]\n",
    "\n",
    "        vaccinate_ends = A[:,0][A[:,9] == t]\n",
    "\n",
    "        for j in vaccinate_ends:\n",
    "            j = j.astype(np.int64)\n",
    "            if I[j] ==3:\n",
    "                I[j] =0\n",
    "                cattle[j] = true_cattle[j]\n",
    "                sheep[j] = true_sheep[j]\n",
    "        \n",
    "        ######################################### IMMUNITY #######################################################\n",
    "\n",
    "        rem = A[:,0][A[:,1] + A[:,2] + A[:,3] == t] #Move to IM state once infectious period is over\n",
    "        for i in rem:\n",
    "            i = i.astype(np.int64)\n",
    "            if I[i] == 2:\n",
    "                I[i] =4\n",
    "                cattle[i] = 0\n",
    "                sheep[i] = 0\n",
    "                A[i, 6] = A[i, 5] +t\n",
    "                infect_sheep[i] = 0\n",
    "                infect_cow[i] = 0\n",
    "\n",
    "        immune = A[:,0][A[:,1] + A[:,2] + A[:,3] + A[:,5] == t] #Move to S state once immune period is over\n",
    "        I[immune.astype(np.int64)] = 0\n",
    "        A[immune.astype(np.int64), ] = [0, 0, 0, 0, 0, 0, 0, 0, 0, 0]\n",
    "        for k in immune:\n",
    "            k = k.astype(np.int64)\n",
    "            cattle[k] = true_cattle[k]\n",
    "            sheep[k] = true_sheep[k]\n",
    "\n",
    "\n",
    "        #### WITHIN FARM RECOVERY ####\n",
    "        tempArr = infect_cow + infect_sheep\n",
    "        infected = [i for i in range(n) if tempArr[i] > 0]\n",
    "#         infected = [i for i in range(n) if (infect_cow+infect_sheep)[i]>0]\n",
    "        for farm in infected:\n",
    "            for animals in range(int(infect_sheep[farm]+infect_cow[farm])):\n",
    "                recover = np.random.uniform(0,1)\n",
    "\n",
    "                if recover < μ and (infect_sheep[farm]+infect_cow[farm]) >=1 :\n",
    "\n",
    "                    if (random.random() <(infect_sheep[farm]/(infect_sheep[farm]+infect_cow[farm])) and infect_sheep[farm]>=1 ):\n",
    "                        infect_sheep[farm] -= 1\n",
    "                    elif infect_cow[farm]>=1: \n",
    "                        infect_cow[farm] -=1\n",
    "                    if infect_sheep[farm]+infect_cow[farm] ==0: \n",
    "                        I[farm] = 4\n",
    "                        infect_sheep[farm] = 0\n",
    "                        infect_cow[farm] = 0\n",
    "                        cattle[farm] = 0\n",
    "                        sheep[farm] = 0\n",
    "                        A[farm, 6] = A[farm, 5] +t\n",
    "        ################################### end of each day #########################################\n",
    "        infectind = [i for i in range(np.size(I)) if I[i]==2]\n",
    "        susceptind = [i for i in range(np.size(I)) if I[i]==0]\n",
    "        exposedind = [i for i in range(np.size(I)) if I[i] == 1]\n",
    "        immuneind = [i for i in range(np.size(I)) if I[i] ==4]\n",
    "        vaccineind = [i for i in range(np.size(I)) if I[i]==3]\n",
    "        had_dose = [i for i in range(np.size(I)) if A[i,6]>0]\n",
    "        if t>0:\n",
    "            infNum += len(inf)\n",
    "\n",
    "        numinf2 = len(inf)\n",
    "        Dose.append(len(had_dose))\n",
    "        Inf.append(len(infectind))\n",
    "        Sus.append(len(susceptind))\n",
    "        Exp.append(len(exposedind))\n",
    "        Imm.append(len(immuneind))\n",
    "        Vac.append(len(vaccineind))\n",
    "        cumInf[t] = cumInf[t-1] + infNum\n",
    "        numInf[t] = numinf2\n",
    "\n",
    "        if sum(I == 1) + sum(I == 2) == 0:\n",
    "            a = cumInf[t-1]\n",
    "            cumInf[t:] = a\n",
    "            numInf[t:] = 0 \n",
    "            endemic = 0\n",
    "            total_numinf = cumInf[-1]\n",
    "            break\n",
    "        if t == (tmax-1):\n",
    "            endemic = np.mean(Inf[(tmax-100):])\n",
    "            total_numinf = cumInf[-1]\n",
    "            break\n",
    "    return Inf, endemic, cost, total_numinf, cumInf, numInf"
   ]
  },
  {
   "cell_type": "code",
   "execution_count": 26,
   "metadata": {},
   "outputs": [],
   "source": [
    "#parameters\n",
    "tmax = 50\n",
    "num_initial = 10\n",
    "Capacity = 80\n",
    "λ = 0.1\n",
    "μ = 0.01\n",
    "prob_sheep = 0.5\n",
    "Efficacy = 0.3\n",
    "ring_vac = 3\n",
    "ring_cover = 0.25\n"
   ]
  },
  {
   "cell_type": "code",
   "execution_count": 27,
   "metadata": {
    "scrolled": false
   },
   "outputs": [
    {
     "name": "stdout",
     "output_type": "stream",
     "text": [
      "1\n",
      "2\n",
      "3\n",
      "4\n",
      "5\n",
      "6\n",
      "7\n",
      "8\n",
      "9\n",
      "10\n",
      "11\n",
      "12\n",
      "13\n",
      "14\n",
      "15\n",
      "16\n",
      "17\n",
      "18\n",
      "19\n",
      "20\n",
      "21\n",
      "22\n",
      "23\n"
     ]
    },
    {
     "name": "stderr",
     "output_type": "stream",
     "text": [
      "/home/alexander/anaconda3/lib/python3.6/site-packages/ipykernel_launcher.py:117: RuntimeWarning: invalid value encountered in long_scalars\n"
     ]
    },
    {
     "name": "stdout",
     "output_type": "stream",
     "text": [
      "24\n",
      "25\n",
      "26\n",
      "27\n",
      "28\n",
      "29\n",
      "30\n",
      "31\n",
      "32\n",
      "33\n",
      "34\n",
      "35\n",
      "36\n",
      "37\n",
      "38\n",
      "39\n",
      "40\n",
      "41\n",
      "42\n",
      "43\n",
      "44\n",
      "45\n",
      "46\n",
      "47\n",
      "48\n",
      "49\n"
     ]
    }
   ],
   "source": [
    "%reload_ext line_profiler\n",
    "%lprun -f fmd_model inf, endemic, cost, totalinf, cuminf, numinf = fmd_model(Data,N, tmax, num_initial, Capacity,λ, μ, prob_sheep, s, r, tr, q, cscTransmissionMatrix, Efficacy, ring_vac, ring_cover, farm_cost)"
   ]
  },
  {
   "cell_type": "code",
   "execution_count": 28,
   "metadata": {},
   "outputs": [
    {
     "data": {
      "text/plain": [
       "[<matplotlib.lines.Line2D at 0x7fd256c6bf28>]"
      ]
     },
     "execution_count": 28,
     "metadata": {},
     "output_type": "execute_result"
    },
    {
     "data": {
      "image/png": "[encoded data removed]",
      "text/plain": [
       "<matplotlib.figure.Figure at 0x7fd49432acf8>"
      ]
     },
     "metadata": {},
     "output_type": "display_data"
    }
   ],
   "source": [
    "tplot = np.linspace(0,50,50)\n",
    "cumInfPlot = cuminf\n",
    "plt.step(tplot, cumInfPlot)\n",
    "plt.step(tplot, numinf)\n",
    "plt.step(tplot, inf)"
   ]
  },
  {
   "cell_type": "code",
   "execution_count": 22,
   "metadata": {},
   "outputs": [
    {
     "name": "stdout",
     "output_type": "stream",
     "text": [
      "Variable                 Type          Data/Info\n",
      "------------------------------------------------\n",
      "Capacity                 int           80\n",
      "Data                     DataFrame            Unnamed: 0  Eastin<...>[85493 rows x 20 columns]\n",
      "DecisionTreeClassifier   ABCMeta       <class 'sklearn.tree.tree<...>.DecisionTreeClassifier'>\n",
      "Efficacy                 float         0.3\n",
      "N                        int           85493\n",
      "Proj                     type          <class 'pyproj.Proj'>\n",
      "a1                       float64       0.14285714285714285\n",
      "a2                       float64       0.14285714285714285\n",
      "a3                       float64       0.14285714285714285\n",
      "a4                       float64       0.14285714285714285\n",
      "a5                       float64       0.14285714285714285\n",
      "a6                       float64       0.14285714285714285\n",
      "a7                       float64       0.14285714285714285\n",
      "cattle                   ndarray       85493: 85493 elems, type `float64`, 683944 bytes (667.9140625 kb)\n",
      "chi                      float         0.403\n",
      "copy                     module        <module 'copy' from '/hom<...>3/lib/python3.6/copy.py'>\n",
      "cross_val_score          function      <function cross_val_score at 0x7f90d9a648c8>\n",
      "csrDistance              csr_matrix    <object with id 140260079556704 (str() failed)>\n",
      "csrKDistance             csr_matrix    <object with id 140260079557264 (str() failed)>\n",
      "csrTransmissionMatrix    csr_matrix    <object with id 140260079556872 (str() failed)>\n",
      "epsilon                  ndarray       85493: 85493 elems, type `float64`, 683944 bytes (667.9140625 kb)\n",
      "euclidean_distances      function      <function euclidean_distances at 0x7f90da542400>\n",
      "farm_cost                ndarray       85493: 85493 elems, type `float64`, 683944 bytes (667.9140625 kb)\n",
      "fmd_model                function      <function fmd_model at 0x7f90d83ad510>\n",
      "i                        int           85492\n",
      "joinedinput              ndarray       85493x2: 170986 elems, type `int64`, 1367888 bytes (1.3045196533203125 Mb)\n",
      "math                     module        <module 'math' from '/hom<...>36m-x86_64-linux-gnu.so'>\n",
      "mode                     function      <function mode at 0x7f90dc6b90d0>\n",
      "np                       module        <module 'numpy' from '/ho<...>kages/numpy/__init__.py'>\n",
      "nu                       float         3.153937452997617e-05\n",
      "num_initial              int           10\n",
      "pd                       module        <module 'pandas' from '/h<...>ages/pandas/__init__.py'>\n",
      "phi                      float         0.799\n",
      "plt                      module        <module 'matplotlib.pyplo<...>es/matplotlib/pyplot.py'>\n",
      "prob_sheep               float         0.5\n",
      "psi                      float         0.00657\n",
      "q                        ndarray       85493: 85493 elems, type `int64`, 683944 bytes (667.9140625 kb)\n",
      "r                        ndarray       85493: 85493 elems, type `int64`, 683944 bytes (667.9140625 kb)\n",
      "random                   module        <module 'random' from '/h<...>lib/python3.6/random.py'>\n",
      "rho                      float         0.000863\n",
      "ring_cover               float         0.25\n",
      "ring_vac                 int           3\n",
      "s                        ndarray       85493: 85493 elems, type `int64`, 683944 bytes (667.9140625 kb)\n",
      "sheep                    ndarray       85493: 85493 elems, type `float64`, 683944 bytes (667.9140625 kb)\n",
      "sns                      module        <module 'seaborn' from '/<...>ges/seaborn/__init__.py'>\n",
      "sparse                   module        <module 'scipy.sparse' fr<...>cipy/sparse/__init__.py'>\n",
      "time                     module        <module 'time' (built-in)>\n",
      "tmax                     int           50\n",
      "tr                       ndarray       85493: 85493 elems, type `float64`, 683944 bytes (667.9140625 kb)\n",
      "transform                function      <function transform at 0x7f90e4cf7ae8>\n",
      "true_cattle              ndarray       85493: 85493 elems, type `float64`, 683944 bytes (667.9140625 kb)\n",
      "true_sheep               ndarray       85493: 85493 elems, type `float64`, 683944 bytes (667.9140625 kb)\n",
      "v                        int           175\n",
      "v36                      Proj          <pyproj.Proj object at 0x7f90d8825888>\n",
      "v84                      Proj          <pyproj.Proj object at 0x7f90d8825828>\n",
      "vgrid                    Proj          <pyproj.Proj object at 0x7f90d88258e8>\n",
      "xcoord                   ndarray       85493: 85493 elems, type `int64`, 683944 bytes (667.9140625 kb)\n",
      "xi                       float         4.65\n",
      "ycoord                   ndarray       85493: 85493 elems, type `int64`, 683944 bytes (667.9140625 kb)\n",
      "zeta                     float         2.8\n",
      "λ                        float         0.1\n",
      "μ                        float         0.01\n"
     ]
    }
   ],
   "source": [
    "whos\n"
   ]
  },
  {
   "cell_type": "code",
   "execution_count": 59,
   "metadata": {},
   "outputs": [
    {
     "data": {
      "text/plain": [
       "array([[ 1,  2,  3,  4,  5,  6,  7],\n",
       "       [30, 28, 22, 16, 22, 16, 30],\n",
       "       [37, 34, 26, 18, 25, 17, 34]])"
      ]
     },
     "execution_count": 59,
     "metadata": {},
     "output_type": "execute_result"
    }
   ],
   "source": [
    "A = [[1,0],[2,4],[2,5]]\n",
    "B = [[1,2,3,4,5,6,7],[7,6,4,2,3,1,4]]\n",
    "np.dot(A,B)"
   ]
  },
  {
   "cell_type": "code",
   "execution_count": null,
   "metadata": {},
   "outputs": [],
   "source": []
  }
 ],
 "metadata": {
  "kernelspec": {
   "display_name": "Python 3",
   "language": "python",
   "name": "python3"
  },
  "language_info": {
   "codemirror_mode": {
    "name": "ipython",
    "version": 3
   },
   "file_extension": ".py",
   "mimetype": "text/x-python",
   "name": "python",
   "nbconvert_exporter": "python",
   "pygments_lexer": "ipython3",
   "version": "3.6.2"
  }
 },
 "nbformat": 4,
 "nbformat_minor": 2
}
