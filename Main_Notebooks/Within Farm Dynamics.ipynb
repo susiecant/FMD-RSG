{
 "cells": [
  {
   "cell_type": "code",
   "execution_count": 38,
   "metadata": {},
   "outputs": [],
   "source": [
    "import numpy as np\n",
    "import random as random\n",
    "import matplotlib.pyplot as plt\n",
    "import time\n",
    "import pandas as pd\n",
    "import math\n",
    "from scipy.spatial import distance\n",
    "from scipy.stats import mode\n",
    "from pyproj import Proj,transform\n",
    "import seaborn as sns\n",
    "import copy"
   ]
  },
  {
   "cell_type": "markdown",
   "metadata": {},
   "source": [
    "# Average Farm Sizes (no. sheep and no. cow)"
   ]
  },
  {
   "cell_type": "code",
   "execution_count": 39,
   "metadata": {},
   "outputs": [],
   "source": [
    "Data=pd.read_csv(\"All_data.txt\",sep = '\\t', header = 0)"
   ]
  },
  {
   "cell_type": "code",
   "execution_count": 40,
   "metadata": {},
   "outputs": [],
   "source": [
    "# cattle = round(np.mean(Data['cattle'].values))\n",
    "# sheep = round(np.mean(Data['sr'].values))\n",
    "cattle = 7\n",
    "sheep = 3\n",
    "NumLivestock = cattle+sheep\n",
    "NumLivestock = int(NumLivestock)"
   ]
  },
  {
   "cell_type": "code",
   "execution_count": 47,
   "metadata": {},
   "outputs": [],
   "source": [
    "psi = 0.00657\n",
    "# psi = 2.5\n",
    "nu = 1.99*(10**(-4.8))\n",
    "xi = 4.65\n",
    "zeta = 2.80\n",
    "chi = 0.403\n",
    "phi = 0.799\n",
    "rho = 0.000863\n",
    "N =1\n",
    "# epsilon = np.zeros(N)\n",
    "s = np.random.negative_binomial(50, 50/55, N) #Draw latent periods (5 days)\n",
    "r = np.random.negative_binomial(30, 30/38, N) #Draw infectious periods (8 days)\n",
    "q = np.random.negative_binomial(2*28, 2*28/(4*28), N) #Draw immune periods (2 months)\n",
    "v = np.random.negative_binomial(6*28, 6*28/(12*28))\n",
    "tr = 2*np.ones(1)\n",
    "M =1000"
   ]
  },
  {
   "cell_type": "code",
   "execution_count": 105,
   "metadata": {},
   "outputs": [],
   "source": [
    "TimeAllInf = np.zeros(M)\n",
    "InfTime = np.zeros((M, tmax))\n",
    "for m in range(M):\n",
    "    t = 0\n",
    "    A = np.zeros(shape = (1, 10))\n",
    "    A[:,0] = -1 \n",
    "    I = 0\n",
    "    vac = 0\n",
    "\n",
    "    #initially one infected\n",
    "    initial = 0\n",
    "    I += 1\n",
    "    A[initial, ] = [initial, 0, s[initial], r[initial], tr[initial], q[initial], 0, 0, 0, 0]\n",
    "\n",
    "    infect_cow = 1\n",
    "    infect_sheep = 0\n",
    "    tmax = 100\n",
    "    λ = 0.1\n",
    "    μ = 0.2\n",
    "    InfectedTime = np.zeros(tmax)\n",
    "    while t < tmax:\n",
    "        t = t+1\n",
    "    #     print(t)\n",
    "        infNum = 0\n",
    "\n",
    "        ################################### WITHIN FARM INFECTION ####################################\n",
    "        Num_livestock = infect_cow + infect_sheep\n",
    "        inf = 1-((1-λ)**Num_livestock)\n",
    "    #     print(inf, (1-λ)**Num_livestock, Num_livestock)\n",
    "        for animals in range(NumLivestock):\n",
    "\n",
    "            p_beta = np.random.uniform(0,1)\n",
    "\n",
    "            if (p_beta<inf) and (infect_sheep+infect_cow)<=NumLivestock:\n",
    "                if (random.random() < 0.5 and sheep>=1 and infect_sheep<sheep):\n",
    "    #                 print('infect sheep')\n",
    "                    infect_sheep += 1\n",
    "                elif (cattle>=1 and infect_cow<cattle):\n",
    "    #                 print('infect cow')\n",
    "                    infect_cow +=1\n",
    "\n",
    "\n",
    "        #### WITHIN FARM RECOVERY ####\n",
    "        infected = infect_cow+infect_sheep\n",
    "        InfTime[m, t] = infected\n",
    "\n",
    "        for animals in range(int(infect_cow+infect_sheep)):\n",
    "            recover = np.random.uniform(0,1)\n",
    "#             print(recover, μ )\n",
    "            if recover < μ and (infect_sheep+infect_cow) >=1:\n",
    "                \n",
    "                if (random.random() <(infect_sheep/(infect_sheep+infect_cow)) and infect_sheep>=1 ):\n",
    "    #                 print('recover sheep')\n",
    "                    infect_sheep -= 1\n",
    "                elif infect_cow>=1: \n",
    "    #                 print('recover cow', infect_cow)\n",
    "                    infect_cow -=1\n",
    "                if infect_sheep+infect_cow ==0: \n",
    "                    I = 4\n",
    "                    infect_sheep= 0\n",
    "                    infect_cow= 0\n",
    "                    A[0, 6] = A[0, 5] +t\n",
    "        ################################### end of each day #########################################\n",
    "        first_time = tmax\n",
    "# #         print(first_time, t)\n",
    "#         if Num_livestock == NumLivestock and first_time > (t+1):\n",
    "#             TimeAllInf[m] = t\n",
    "#             break\n",
    "        if I == 4:\n",
    "            InfTime[m, t+1] = 0\n",
    "            break\n",
    "        if t == (tmax-1):\n",
    "            InfTime[m, t] = infect_cow + infect_sheep\n",
    "            break\n"
   ]
  },
  {
   "cell_type": "code",
   "execution_count": 106,
   "metadata": {},
   "outputs": [
    {
     "data": {
      "image/png": "[encoded data removed]",
      "text/plain": [
       "<Figure size 432x288 with 1 Axes>"
      ]
     },
     "metadata": {},
     "output_type": "display_data"
    }
   ],
   "source": [
    "plt.plot(range(tmax), np.mean(InfTime, axis = 0))\n",
    "plt.fill_between(range(tmax), np.mean(InfTime, axis = 0)+np.std(InfTime, axis = 0), np.mean(InfTime, axis = 0)-np.std(InfTime, axis = 0), alpha = 0.1)\n",
    "plt.xlim([0,15])\n",
    "plt.xlabel('time, days')\n",
    "plt.ylabel('No. infected')\n",
    "plt.savefig('7 cows, 3 sheep, within farm dynamics')"
   ]
  },
  {
   "cell_type": "code",
   "execution_count": 107,
   "metadata": {},
   "outputs": [
    {
     "data": {
      "text/plain": [
       "8.209068965517242"
      ]
     },
     "execution_count": 107,
     "metadata": {},
     "output_type": "execute_result"
    }
   ],
   "source": [
    "np.mean(np.mean(InfTime[:,12:-1], axis =0))"
   ]
  },
  {
   "cell_type": "code",
   "execution_count": 101,
   "metadata": {},
   "outputs": [
    {
     "data": {
      "text/plain": [
       "5.531"
      ]
     },
     "execution_count": 101,
     "metadata": {},
     "output_type": "execute_result"
    }
   ],
   "source": [
    "np.mean(TimeAllInf)"
   ]
  },
  {
   "cell_type": "code",
   "execution_count": null,
   "metadata": {},
   "outputs": [],
   "source": []
  }
 ],
 "metadata": {
  "kernelspec": {
   "display_name": "Python 3",
   "language": "python",
   "name": "python3"
  },
  "language_info": {
   "codemirror_mode": {
    "name": "ipython",
    "version": 3
   },
   "file_extension": ".py",
   "mimetype": "text/x-python",
   "name": "python",
   "nbconvert_exporter": "python",
   "pygments_lexer": "ipython3",
   "version": "3.5.2"
  }
 },
 "nbformat": 4,
 "nbformat_minor": 2
}
