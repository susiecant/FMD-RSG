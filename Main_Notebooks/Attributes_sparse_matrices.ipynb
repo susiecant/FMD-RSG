{
 "cells": [
  {
   "cell_type": "code",
   "execution_count": 2,
   "metadata": {},
   "outputs": [],
   "source": [
    "import numpy as np\n",
    "import random as random\n",
    "import matplotlib.pyplot as plt\n",
    "import time\n",
    "import pandas as pd\n",
    "import math\n",
    "from scipy.spatial import distance\n",
    "from scipy.stats import mode\n",
    "from pyproj import Proj,transform\n",
    "import seaborn as sns\n",
    "import copy\n",
    "from scipy import sparse\n",
    "from sklearn.metrics.pairwise import euclidean_distances\n",
    "from sklearn.model_selection import cross_val_score\n",
    "from sklearn.tree import DecisionTreeClassifier\n",
    "v84 = Proj(proj=\"latlong\",towgs84=\"0,0,0\",ellps=\"WGS84\")\n",
    "v36 = Proj(proj=\"latlong\", k=0.9996012717, ellps=\"airy\", towgs84=\"446.448,-125.157,542.060,0.1502,0.2470,0.8421,-20.4894\")\n",
    "vgrid = Proj(init=\"world:bng\")\n",
    "#Calculate Euclidean distances using H"
   ]
  },
  {
   "cell_type": "markdown",
   "metadata": {},
   "source": [
    "# Make yourself the 'All_data' file, this only needs to be run once ever\n",
    "It is commented out for me, uncomment this if it's your first time\n",
    "\n",
    "- CompleteData: data set given from EuFMD, length = 342\n",
    "- ImputedData: data set imputed from Livestock map of the world, length = 85,151\n",
    "- Data: data set of both, length = 85,493"
   ]
  },
  {
   "cell_type": "code",
   "execution_count": 3,
   "metadata": {},
   "outputs": [],
   "source": [
    "# def dfLLtoEN(df):\n",
    "#     \"\"\"Returns easting, northing tuple\n",
    "#     \"\"\"\n",
    "#     vlon36, vlat36 = transform(v84,v36,df[\"long\"].values,df[\"lat\"].values)\n",
    "#     result = vgrid(vlon36,vlat36)\n",
    "\n",
    "#     # Transform the output to a Dataframe\n",
    "#     eastnorth = pd.DataFrame(index=df.index)\n",
    "#     for i in result:\n",
    "#         eastnorth[\"Easting\"] = result[0]\n",
    "#         eastnorth[\"Northing\"] = result[1]\n",
    "\n",
    "#     return round(eastnorth)"
   ]
  },
  {
   "cell_type": "code",
   "execution_count": 4,
   "metadata": {},
   "outputs": [],
   "source": [
    "# Path = '../StudyGroup/'\n",
    "# CompleteData=pd.read_csv(Path+\"completeData2.csv\",header = 0) \n",
    "# CompleteData = CompleteData.drop(columns = 'Unnamed: 0')"
   ]
  },
  {
   "cell_type": "code",
   "execution_count": 5,
   "metadata": {},
   "outputs": [],
   "source": [
    "# CompleteData[['Easting', 'Northing']] = dfLLtoEN(CompleteData[['lat', 'long']])"
   ]
  },
  {
   "cell_type": "code",
   "execution_count": 6,
   "metadata": {},
   "outputs": [],
   "source": [
    "# CompleteData = CompleteData.rename(index=str, columns={'X__1': \"study\"})"
   ]
  },
  {
   "cell_type": "code",
   "execution_count": 7,
   "metadata": {},
   "outputs": [],
   "source": [
    "# CompleteData.columns.values"
   ]
  },
  {
   "cell_type": "code",
   "execution_count": 8,
   "metadata": {},
   "outputs": [],
   "source": [
    "# ImputedData = pd.read_csv('imputed_farm.txt', header = 0, sep = '\\t')\n",
    "# ImputedData = ImputedData.rename(index=str, columns={'Unnamed: 0': \"study\"})"
   ]
  },
  {
   "cell_type": "code",
   "execution_count": 9,
   "metadata": {},
   "outputs": [],
   "source": [
    "# ImputedData[['Easting', 'Northing']] = dfLLtoEN(ImputedData[['lat', 'long']])"
   ]
  },
  {
   "cell_type": "code",
   "execution_count": 10,
   "metadata": {},
   "outputs": [],
   "source": [
    "# ImputedData['sr'] = ImputedData['ruminant']"
   ]
  },
  {
   "cell_type": "code",
   "execution_count": 11,
   "metadata": {},
   "outputs": [],
   "source": [
    "# Data = pd.concat([CompleteData, ImputedData], ignore_index=True)"
   ]
  },
  {
   "cell_type": "code",
   "execution_count": 12,
   "metadata": {},
   "outputs": [],
   "source": [
    "# xmax = np.max(Data['Easting'].values)\n",
    "# xmin = np.min(Data['Easting'].values)\n",
    "# ymax = np.max(Data['Northing'].values)\n",
    "# ymin = np.min(Data['Northing'].values)\n",
    "# sizex = xmax-xmin\n",
    "# sizey = ymax-ymin\n",
    "# Data['xcoord'] = Data['Easting'] - xmin\n",
    "# Data['ycoord'] = Data['Northing'] - ymin"
   ]
  },
  {
   "cell_type": "code",
   "execution_count": 13,
   "metadata": {},
   "outputs": [],
   "source": [
    "# Data.to_csv('All_data', sep='\\t')"
   ]
  },
  {
   "cell_type": "markdown",
   "metadata": {},
   "source": [
    "# Below, can be run once you have made 'All_data'"
   ]
  },
  {
   "cell_type": "code",
   "execution_count": 17,
   "metadata": {},
   "outputs": [],
   "source": [
    "Data=pd.read_csv(\"All_data.txt\",sep = '\\t', header = 0)"
   ]
  },
  {
   "cell_type": "code",
   "execution_count": 18,
   "metadata": {},
   "outputs": [],
   "source": [
    "Copy1 = pd.read_csv('All_data.txt', sep = '\\t', header = 0)"
   ]
  },
  {
   "cell_type": "code",
   "execution_count": 19,
   "metadata": {},
   "outputs": [],
   "source": [
    "copy2 = Copy1.values\n",
    "true_cattle =  copy.deepcopy(copy2[:,3])\n",
    "true_sheep =  copy.deepcopy(copy2[:,13])\n",
    "cattle = copy2[:,3]\n",
    "sheep = copy2[:,13]"
   ]
  },
  {
   "cell_type": "code",
   "execution_count": 20,
   "metadata": {},
   "outputs": [
    {
     "name": "stdout",
     "output_type": "stream",
     "text": [
      "mean number sheep: \n",
      " 3.357553838566497\n",
      "mode number: \n",
      " 0.0\n",
      "max, min: \n",
      " 180.0 0.0\n",
      "\n",
      " mean number cattle: \n",
      " 6.714614499424626\n",
      "mode number: \n",
      " 0\n",
      "max, min: \n",
      " 132 0\n"
     ]
    }
   ],
   "source": [
    "#sheep\n",
    "print('mean number sheep: \\n', np.mean(sheep))\n",
    "print('mode number: \\n', mode(sheep)[0][0])\n",
    "print('max, min: \\n', np.max(sheep), np.min(sheep))\n",
    "\n",
    "#cows\n",
    "print('\\n mean number cattle: \\n', np.mean(cattle))\n",
    "print('mode number: \\n', mode(cattle)[0][0])\n",
    "print('max, min: \\n', np.max(cattle), np.min(cattle))"
   ]
  },
  {
   "cell_type": "code",
   "execution_count": 21,
   "metadata": {},
   "outputs": [],
   "source": [
    "xcoord = Data['xcoord'].values\n",
    "ycoord = Data['ycoord'].values"
   ]
  },
  {
   "cell_type": "code",
   "execution_count": 22,
   "metadata": {},
   "outputs": [],
   "source": [
    "joinedinput = np.column_stack((xcoord, ycoord))"
   ]
  },
  {
   "cell_type": "code",
   "execution_count": 27,
   "metadata": {},
   "outputs": [
    {
     "data": {
      "text/plain": [
       "6083"
      ]
     },
     "execution_count": 27,
     "metadata": {},
     "output_type": "execute_result"
    }
   ],
   "source": [
    "N = len(Data)\n",
    "N"
   ]
  },
  {
   "cell_type": "markdown",
   "metadata": {},
   "source": [
    "## Memory Issues\n",
    "\n",
    "Cannot store a distance matrix containing between every farm (especially as it is not sparse)"
   ]
  },
  {
   "cell_type": "code",
   "execution_count": 12,
   "metadata": {},
   "outputs": [],
   "source": [
    "equipment_list = Data['equipment'].values\n",
    "shares_water_list = Data['water'].values\n",
    "shares_grazing_list = Data['grazing'].values\n",
    "shares_milk_list = Data['milk'].values\n",
    "shares_vet_list = Data['vet'].values\n",
    "contact_animal_list = Data['contact_animal'].values\n",
    "contact_human_list = Data['contact_people'].values"
   ]
  },
  {
   "cell_type": "markdown",
   "metadata": {},
   "source": [
    "## Create Sparse matrices\n",
    "\n",
    "Individual matrices for:\n",
    "- shares_milk_list\n",
    "- shares_water_list\n",
    "- shares_grazing_list\n",
    "- shares_equipment_list\n",
    "- shares_vet_list\n",
    "- contact_animal_list (**no cap?**)\n",
    "- contact_human_list (**no cap?**)\n",
    "\n",
    "Initially start with a 10km cap, look at policies that would reduce this.\n",
    "\n",
    "**Benchmark**: for `attributes_matrix(shares_water, 10, N= 85,493)` it takes 21570.181146383286 seconds"
   ]
  },
  {
   "cell_type": "code",
   "execution_count": 29,
   "metadata": {},
   "outputs": [],
   "source": [
    "# This takes quite a while to run, sit back and have a cuppa\n",
    "# once this has run, you won't need to run it again unless your kernel restarts\n",
    "\n",
    "def attributes_matrix(arr, cap, n, name_str):\n",
    "#     start = time.time()\n",
    "    row_ind = []\n",
    "    col_ind = []\n",
    "    data_arr = []\n",
    "    for i in range(n):\n",
    "        for j in range(i+1):\n",
    "            if i != j:\n",
    "                dist = np.linalg.norm(joinedinput[i]-joinedinput[j])\n",
    "                dist = dist/100000\n",
    "                if dist <= cap/100:\n",
    "                    if (arr[i] + arr[j] == 2):\n",
    "                        row_ind.append(i)\n",
    "                        col_ind.append(j)\n",
    "                        data_arr.append(1)\n",
    "#     end = time.time()\n",
    "#     print(end-start)\n",
    "    np.save('{}_rows'.format(name_str), row_ind)\n",
    "    np.save('{}_cols'.format(name_str), col_ind)\n",
    "    np.save('{}_data'.format(name_str), data_arr)\n",
    "    return row_ind, col_ind, data_arr"
   ]
  },
  {
   "cell_type": "markdown",
   "metadata": {},
   "source": [
    "# Example"
   ]
  },
  {
   "cell_type": "code",
   "execution_count": null,
   "metadata": {},
   "outputs": [],
   "source": [
    "psi = 0.00657\n",
    "row_ind = []\n",
    "col_ind = []\n",
    "data_arr = []\n",
    "for i in range(N):\n",
    "    for j in range(i+1):\n",
    "        if i != j:\n",
    "            dist = np.linalg.norm(joinedinput[i]-joinedinput[j])\n",
    "            dist = dist/100000\n",
    "            if dist <= 10/100:\n",
    "                row_ind.append(i)\n",
    "                col_ind.append(j)\n",
    "                data_arr.append((psi)/(psi**2 + dist**2))\n",
    "#     end = time.time()\n",
    "#     print(end-start)\n",
    "np.save('distance_rows', row_ind)\n",
    "np.save('distance_cols', col_ind)\n",
    "np.save('distance_data', data_arr)"
   ]
  },
  {
   "cell_type": "code",
   "execution_count": 34,
   "metadata": {},
   "outputs": [
    {
     "data": {
      "text/plain": [
       "173"
      ]
     },
     "execution_count": 34,
     "metadata": {},
     "output_type": "execute_result"
    }
   ],
   "source": [
    "row_ind[5000]\n",
    "col_ind[5000]"
   ]
  },
  {
   "cell_type": "code",
   "execution_count": 38,
   "metadata": {},
   "outputs": [],
   "source": [
    "# np.save('water_rows', rows)\n",
    "# np.save('water_cols', cols)\n",
    "# np.save('water_data', water)"
   ]
  },
  {
   "cell_type": "code",
   "execution_count": 43,
   "metadata": {},
   "outputs": [],
   "source": [
    "rows = np.array(rows)\n",
    "cols = np.array(cols)\n",
    "water = np.array(water)"
   ]
  },
  {
   "cell_type": "code",
   "execution_count": 44,
   "metadata": {},
   "outputs": [],
   "source": [
    "mat_coo = sparse.coo_matrix((water, (rows, cols)))"
   ]
  },
  {
   "cell_type": "markdown",
   "metadata": {},
   "source": [
    "# Create a npz file for all attributes"
   ]
  },
  {
   "cell_type": "code",
   "execution_count": 117,
   "metadata": {},
   "outputs": [],
   "source": [
    "names = ['shares_equipment', 'shares_water', 'shares_grazing', 'shares_milk', 'shares_vet', 'contact_animal', 'contact_human']"
   ]
  },
  {
   "cell_type": "code",
   "execution_count": 46,
   "metadata": {},
   "outputs": [],
   "source": [
    "def sparse_matrix(name, sparse_type):\n",
    "    row = np.load('{}_rows.npy'.format(name))\n",
    "    col = np.load('{}_cols.npy'.format(name))\n",
    "    data = np.load('{}_data.npy'.format(name))\n",
    "    row_col = np.concatenate((row, col), axis = None) #do this because symmetric matrix (stored upper triangular)\n",
    "    col_row = np.concatenate((col, row), axis = None)\n",
    "    data = np.concatenate((data, data), axis = None)\n",
    "    mat = sparse_type((data, (row_col, col_row)))\n",
    "    sparse.save_npz('{}_sparse'.format(name), mat)\n",
    "    return mat"
   ]
  },
  {
   "cell_type": "code",
   "execution_count": null,
   "metadata": {},
   "outputs": [],
   "source": [
    "#first time running it\n",
    "shares_equipment = sparse_matrix('shares_equipment', sparse.csc_matrix)\n",
    "shares_water = sparse_matrix('shares_water', sparse.csc_matrix)\n",
    "shares_grazing = sparse_matrix('shares_grazing', sparse.csc_matrix)\n",
    "shares_milk = sparse_matrix('shares_milk', sparse.csc_matrix)\n",
    "shares_vet = sparse_matrix('shares_vet', sparse.csc_matrix)\n",
    "contact_animal = sparse_matrix('contact_animal', sparse.csc_matrix)\n",
    "contact_human = sparse_matrix('contact_human', sparse.csc_matrix)"
   ]
  },
  {
   "cell_type": "code",
   "execution_count": null,
   "metadata": {},
   "outputs": [],
   "source": [
    "dist_mat = sparse_matrix('distance', sparse.csc_matrix)"
   ]
  },
  {
   "cell_type": "code",
   "execution_count": 50,
   "metadata": {},
   "outputs": [],
   "source": [
    "import scipy.sparse as sp"
   ]
  },
  {
   "cell_type": "code",
   "execution_count": 51,
   "metadata": {},
   "outputs": [
    {
     "name": "stderr",
     "output_type": "stream",
     "text": [
      "/home/emma/.local/lib/python3.5/site-packages/scipy/sparse/compressed.py:274: SparseEfficiencyWarning: Comparing a sparse matrix with a scalar greater than zero using <= is inefficient, try using > instead.\n",
      "  warn(bad_scalar_msg, SparseEfficiencyWarning)\n"
     ]
    },
    {
     "ename": "KeyboardInterrupt",
     "evalue": "",
     "output_type": "error",
     "traceback": [
      "\u001b[0;31m---------------------------------------------------------------------------\u001b[0m",
      "\u001b[0;31mKeyboardInterrupt\u001b[0m                         Traceback (most recent call last)",
      "\u001b[0;32m<ipython-input-51-98870c098347>\u001b[0m in \u001b[0;36m<module>\u001b[0;34m\u001b[0m\n\u001b[0;32m----> 1\u001b[0;31m \u001b[0msp\u001b[0m\u001b[0;34m.\u001b[0m\u001b[0mfind\u001b[0m\u001b[0;34m(\u001b[0m\u001b[0mdist_mat\u001b[0m\u001b[0;34m<=\u001b[0m \u001b[0;36m10\u001b[0m\u001b[0;34m/\u001b[0m\u001b[0;36m100\u001b[0m\u001b[0;34m)\u001b[0m\u001b[0;34m\u001b[0m\u001b[0m\n\u001b[0m",
      "\u001b[0;32m~/.local/lib/python3.5/site-packages/scipy/sparse/extract.py\u001b[0m in \u001b[0;36mfind\u001b[0;34m(A)\u001b[0m\n\u001b[1;32m     37\u001b[0m \u001b[0;34m\u001b[0m\u001b[0m\n\u001b[1;32m     38\u001b[0m     \u001b[0mA\u001b[0m \u001b[0;34m=\u001b[0m \u001b[0mcoo_matrix\u001b[0m\u001b[0;34m(\u001b[0m\u001b[0mA\u001b[0m\u001b[0;34m,\u001b[0m \u001b[0mcopy\u001b[0m\u001b[0;34m=\u001b[0m\u001b[0;32mTrue\u001b[0m\u001b[0;34m)\u001b[0m\u001b[0;34m\u001b[0m\u001b[0m\n\u001b[0;32m---> 39\u001b[0;31m     \u001b[0mA\u001b[0m\u001b[0;34m.\u001b[0m\u001b[0msum_duplicates\u001b[0m\u001b[0;34m(\u001b[0m\u001b[0;34m)\u001b[0m\u001b[0;34m\u001b[0m\u001b[0m\n\u001b[0m\u001b[1;32m     40\u001b[0m     \u001b[0;31m# remove explicit zeros\u001b[0m\u001b[0;34m\u001b[0m\u001b[0;34m\u001b[0m\u001b[0m\n\u001b[1;32m     41\u001b[0m     \u001b[0mnz_mask\u001b[0m \u001b[0;34m=\u001b[0m \u001b[0mA\u001b[0m\u001b[0;34m.\u001b[0m\u001b[0mdata\u001b[0m \u001b[0;34m!=\u001b[0m \u001b[0;36m0\u001b[0m\u001b[0;34m\u001b[0m\u001b[0m\n",
      "\u001b[0;32m~/.local/lib/python3.5/site-packages/scipy/sparse/coo.py\u001b[0m in \u001b[0;36msum_duplicates\u001b[0;34m(self)\u001b[0m\n\u001b[1;32m    469\u001b[0m         \u001b[0;32mif\u001b[0m \u001b[0mself\u001b[0m\u001b[0;34m.\u001b[0m\u001b[0mhas_canonical_format\u001b[0m\u001b[0;34m:\u001b[0m\u001b[0;34m\u001b[0m\u001b[0m\n\u001b[1;32m    470\u001b[0m             \u001b[0;32mreturn\u001b[0m\u001b[0;34m\u001b[0m\u001b[0m\n\u001b[0;32m--> 471\u001b[0;31m         \u001b[0msummed\u001b[0m \u001b[0;34m=\u001b[0m \u001b[0mself\u001b[0m\u001b[0;34m.\u001b[0m\u001b[0m_sum_duplicates\u001b[0m\u001b[0;34m(\u001b[0m\u001b[0mself\u001b[0m\u001b[0;34m.\u001b[0m\u001b[0mrow\u001b[0m\u001b[0;34m,\u001b[0m \u001b[0mself\u001b[0m\u001b[0;34m.\u001b[0m\u001b[0mcol\u001b[0m\u001b[0;34m,\u001b[0m \u001b[0mself\u001b[0m\u001b[0;34m.\u001b[0m\u001b[0mdata\u001b[0m\u001b[0;34m)\u001b[0m\u001b[0;34m\u001b[0m\u001b[0m\n\u001b[0m\u001b[1;32m    472\u001b[0m         \u001b[0mself\u001b[0m\u001b[0;34m.\u001b[0m\u001b[0mrow\u001b[0m\u001b[0;34m,\u001b[0m \u001b[0mself\u001b[0m\u001b[0;34m.\u001b[0m\u001b[0mcol\u001b[0m\u001b[0;34m,\u001b[0m \u001b[0mself\u001b[0m\u001b[0;34m.\u001b[0m\u001b[0mdata\u001b[0m \u001b[0;34m=\u001b[0m \u001b[0msummed\u001b[0m\u001b[0;34m\u001b[0m\u001b[0m\n\u001b[1;32m    473\u001b[0m         \u001b[0mself\u001b[0m\u001b[0;34m.\u001b[0m\u001b[0mhas_canonical_format\u001b[0m \u001b[0;34m=\u001b[0m \u001b[0;32mTrue\u001b[0m\u001b[0;34m\u001b[0m\u001b[0m\n",
      "\u001b[0;32m~/.local/lib/python3.5/site-packages/scipy/sparse/coo.py\u001b[0m in \u001b[0;36m_sum_duplicates\u001b[0;34m(self, row, col, data)\u001b[0m\n\u001b[1;32m    477\u001b[0m         \u001b[0;32mif\u001b[0m \u001b[0mlen\u001b[0m\u001b[0;34m(\u001b[0m\u001b[0mdata\u001b[0m\u001b[0;34m)\u001b[0m \u001b[0;34m==\u001b[0m \u001b[0;36m0\u001b[0m\u001b[0;34m:\u001b[0m\u001b[0;34m\u001b[0m\u001b[0m\n\u001b[1;32m    478\u001b[0m             \u001b[0;32mreturn\u001b[0m \u001b[0mrow\u001b[0m\u001b[0;34m,\u001b[0m \u001b[0mcol\u001b[0m\u001b[0;34m,\u001b[0m \u001b[0mdata\u001b[0m\u001b[0;34m\u001b[0m\u001b[0m\n\u001b[0;32m--> 479\u001b[0;31m         \u001b[0morder\u001b[0m \u001b[0;34m=\u001b[0m \u001b[0mnp\u001b[0m\u001b[0;34m.\u001b[0m\u001b[0mlexsort\u001b[0m\u001b[0;34m(\u001b[0m\u001b[0;34m(\u001b[0m\u001b[0mrow\u001b[0m\u001b[0;34m,\u001b[0m \u001b[0mcol\u001b[0m\u001b[0;34m)\u001b[0m\u001b[0;34m)\u001b[0m\u001b[0;34m\u001b[0m\u001b[0m\n\u001b[0m\u001b[1;32m    480\u001b[0m         \u001b[0mrow\u001b[0m \u001b[0;34m=\u001b[0m \u001b[0mrow\u001b[0m\u001b[0;34m[\u001b[0m\u001b[0morder\u001b[0m\u001b[0;34m]\u001b[0m\u001b[0;34m\u001b[0m\u001b[0m\n\u001b[1;32m    481\u001b[0m         \u001b[0mcol\u001b[0m \u001b[0;34m=\u001b[0m \u001b[0mcol\u001b[0m\u001b[0;34m[\u001b[0m\u001b[0morder\u001b[0m\u001b[0;34m]\u001b[0m\u001b[0;34m\u001b[0m\u001b[0m\n",
      "\u001b[0;31mKeyboardInterrupt\u001b[0m: "
     ]
    }
   ],
   "source": [
    "sp.find(dist_mat<= 10/100)"
   ]
  },
  {
   "cell_type": "code",
   "execution_count": null,
   "metadata": {},
   "outputs": [],
   "source": []
  }
 ],
 "metadata": {
  "kernelspec": {
   "display_name": "Python 2",
   "language": "python",
   "name": "python2"
  },
  "language_info": {
   "codemirror_mode": {
    "name": "ipython",
    "version": 3
   },
   "file_extension": ".py",
   "mimetype": "text/x-python",
   "name": "python",
   "nbconvert_exporter": "python",
   "pygments_lexer": "ipython3",
   "version": "3.5.2"
  }
 },
 "nbformat": 4,
 "nbformat_minor": 2
}
