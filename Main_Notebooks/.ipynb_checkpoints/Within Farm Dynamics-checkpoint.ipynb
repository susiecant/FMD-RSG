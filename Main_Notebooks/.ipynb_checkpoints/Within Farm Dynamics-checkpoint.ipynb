{
 "cells": [
  {
   "cell_type": "code",
   "execution_count": 8,
   "metadata": {},
   "outputs": [],
   "source": [
    "import numpy as np\n",
    "import random as random\n",
    "import matplotlib.pyplot as plt\n",
    "import time\n",
    "import pandas as pd\n",
    "import math\n",
    "from scipy.spatial import distance\n",
    "from scipy.stats import mode\n",
    "from pyproj import Proj,transform\n",
    "import seaborn as sns\n",
    "import copy"
   ]
  },
  {
   "cell_type": "markdown",
   "metadata": {},
   "source": [
    "# Average Farm Sizes (no. sheep and no. cow)"
   ]
  },
  {
   "cell_type": "code",
   "execution_count": 12,
   "metadata": {},
   "outputs": [],
   "source": [
    "Data=pd.read_csv(\"All_data.txt\",sep = '\\t', header = 0)"
   ]
  },
  {
   "cell_type": "code",
   "execution_count": 28,
   "metadata": {},
   "outputs": [],
   "source": [
    "# cattle = round(np.mean(Data['cattle'].values))\n",
    "# sheep = round(np.mean(Data['sr'].values))\n",
    "cattle = 7\n",
    "sheep = 3\n",
    "NumLivestock = cattle+sheep\n",
    "NumLivestock = int(NumLivestock)"
   ]
  },
  {
   "cell_type": "code",
   "execution_count": 29,
   "metadata": {},
   "outputs": [],
   "source": [
    "psi = 0.00657\n",
    "# psi = 2.5\n",
    "nu = 1.99*(10**(-4.8))\n",
    "xi = 4.65\n",
    "zeta = 2.80\n",
    "chi = 0.403\n",
    "phi = 0.799\n",
    "rho = 0.000863\n",
    "N =1\n",
    "# epsilon = np.zeros(N)\n",
    "s = np.random.negative_binomial(50, 50/55, N) #Draw latent periods (5 days)\n",
    "r = np.random.negative_binomial(30, 30/38, N) #Draw infectious periods (8 days)\n",
    "q = np.random.negative_binomial(2*28, 2*28/(4*28), N) #Draw immune periods (2 months)\n",
    "v = np.random.negative_binomial(6*28, 6*28/(12*28))\n",
    "tr = 2*np.ones(1)\n",
    "M =100"
   ]
  },
  {
   "cell_type": "code",
   "execution_count": 37,
   "metadata": {},
   "outputs": [
    {
     "ename": "SyntaxError",
     "evalue": "invalid syntax (<ipython-input-37-efe7d510287b>, line 20)",
     "output_type": "error",
     "traceback": [
      "\u001b[0;36m  File \u001b[0;32m\"<ipython-input-37-efe7d510287b>\"\u001b[0;36m, line \u001b[0;32m20\u001b[0m\n\u001b[0;31m    TimeAllInf = np.\u001b[0m\n\u001b[0m                    ^\u001b[0m\n\u001b[0;31mSyntaxError\u001b[0m\u001b[0;31m:\u001b[0m invalid syntax\n"
     ]
    }
   ],
   "source": [
    "TimeAllInf = np.zeros(M)\n",
    "for m in range(M):\n",
    "    t = 0\n",
    "    A = np.zeros(shape = (1, 10))\n",
    "    A[:,0] = -1 \n",
    "    I = 0\n",
    "    vac = 0\n",
    "\n",
    "    #initially one infected\n",
    "    initial = 0\n",
    "    I += 1\n",
    "    A[initial, ] = [initial, 0, s[initial], r[initial], tr[initial], q[initial], 0, 0, 0, 0]\n",
    "\n",
    "    infect_cow = 1\n",
    "    infect_sheep = 0\n",
    "    tmax = 100\n",
    "    λ = 0.1\n",
    "    μ = 0.01\n",
    "    InfectedTime = np.zeros(tmax)\n",
    "    TimeAllInf = np.\n",
    "    while t < tmax:\n",
    "        t = t+1\n",
    "    #     print(t)\n",
    "        infNum = 0\n",
    "\n",
    "        ################################### WITHIN FARM INFECTION ####################################\n",
    "        Num_livestock = infect_cow + infect_sheep\n",
    "        inf = 1-((1-λ)**Num_livestock)\n",
    "    #     print(inf, (1-λ)**Num_livestock, Num_livestock)\n",
    "        for animals in range(NumLivestock):\n",
    "\n",
    "            p_beta = np.random.uniform(0,1)\n",
    "\n",
    "            if (p_beta<inf) and (infect_sheep+infect_cow)<=NumLivestock:\n",
    "                if (random.random() < 0.5 and sheep>=1 and infect_sheep<sheep):\n",
    "    #                 print('infect sheep')\n",
    "                    infect_sheep += 1\n",
    "                elif (cattle>=1 and infect_cow<cattle):\n",
    "    #                 print('infect cow')\n",
    "                    infect_cow +=1\n",
    "\n",
    "\n",
    "        #### WITHIN FARM RECOVERY ####\n",
    "        infected = infect_cow+infect_sheep\n",
    "        InfectedTime[t] = infected\n",
    "\n",
    "        for animals in range(int(infect_cow+infect_sheep)):\n",
    "            recover = np.random.uniform(0,1)\n",
    "\n",
    "            if recover < μ and (infect_sheep+infect_cow) >=1 :\n",
    "                if (random.random() <(infect_sheep/(infect_sheep+infect_cow)) and infect_sheep>=1 ):\n",
    "    #                 print('recover sheep')\n",
    "                    infect_sheep -= 1\n",
    "                elif infect_cow>=1: \n",
    "    #                 print('recover cow', infect_cow)\n",
    "                    infect_cow -=1\n",
    "                if infect_sheep+infect_cow ==0: \n",
    "                    I = 4\n",
    "                    infect_sheep= 0\n",
    "                    infect_cow= 0\n",
    "                    A[0, 6] = A[0, 5] +t\n",
    "        ################################### end of each day #########################################\n",
    "        if Num_livestock == NumLivestock:\n",
    "            TimeAllInf[m] = t\n",
    "            break\n",
    "        if I == 4:\n",
    "            InfectedTime[t+1] = 0\n",
    "            break\n",
    "        if t == (tmax-1):\n",
    "            InfectedTime[t] = infect_cow + infect_sheep\n",
    "            break\n"
   ]
  },
  {
   "cell_type": "code",
   "execution_count": 34,
   "metadata": {},
   "outputs": [
    {
     "data": {
      "text/plain": [
       "(0, 15)"
      ]
     },
     "execution_count": 34,
     "metadata": {},
     "output_type": "execute_result"
    },
    {
     "data": {
      "image/png": "[encoded data removed]",
      "text/plain": [
       "<Figure size 432x288 with 1 Axes>"
      ]
     },
     "metadata": {},
     "output_type": "display_data"
    }
   ],
   "source": [
    "plt.plot(range(tmax), InfectedTime)\n",
    "plt.xlim([0,15])"
   ]
  },
  {
   "cell_type": "code",
   "execution_count": null,
   "metadata": {},
   "outputs": [],
   "source": []
  },
  {
   "cell_type": "code",
   "execution_count": null,
   "metadata": {},
   "outputs": [],
   "source": []
  }
 ],
 "metadata": {
  "kernelspec": {
   "display_name": "Python 3",
   "language": "python",
   "name": "python3"
  },
  "language_info": {
   "codemirror_mode": {
    "name": "ipython",
    "version": 3
   },
   "file_extension": ".py",
   "mimetype": "text/x-python",
   "name": "python",
   "nbconvert_exporter": "python",
   "pygments_lexer": "ipython3",
   "version": "3.5.2"
  }
 },
 "nbformat": 4,
 "nbformat_minor": 2
}
