{
 "cells": [
  {
   "cell_type": "code",
   "execution_count": 1,
   "metadata": {},
   "outputs": [],
   "source": [
    "import numpy as np\n",
    "import random as random\n",
    "import matplotlib.pyplot as plt\n",
    "import time\n",
    "import pandas as pd\n",
    "import math\n",
    "from scipy.spatial import distance#\n",
    "from pyproj import Proj,transform\n",
    "import seaborn as sns\n",
    "import copy\n",
    "from multiprocessing import Pool\n",
    "from sklearn.model_selection import cross_val_score\n",
    "from sklearn.tree import DecisionTreeClassifier\n",
    "v84 = Proj(proj=\"latlong\",towgs84=\"0,0,0\",ellps=\"WGS84\")\n",
    "v36 = Proj(proj=\"latlong\", k=0.9996012717, ellps=\"airy\", towgs84=\"446.448,-125.157,542.060,0.1502,0.2470,0.8421,-20.4894\")\n",
    "vgrid = Proj(init=\"world:bng\")\n",
    "#Calculate Euclidean distances using H"
   ]
  },
  {
   "cell_type": "markdown",
   "metadata": {},
   "source": [
    "# Below, can be run once you have made 'All_data'"
   ]
  },
  {
   "cell_type": "code",
   "execution_count": 2,
   "metadata": {},
   "outputs": [],
   "source": [
    "Data=pd.read_csv(\"All_data.txt\",sep = '\\t', header = 0)"
   ]
  },
  {
   "cell_type": "code",
   "execution_count": 3,
   "metadata": {},
   "outputs": [],
   "source": [
    "Copy1 = pd.read_csv('All_data.txt', sep = '\\t', header = 0)"
   ]
  },
  {
   "cell_type": "code",
   "execution_count": 4,
   "metadata": {},
   "outputs": [],
   "source": [
    "copy2 = Copy1.values\n",
    "true_cattle =  copy.deepcopy(copy2[:,3])\n",
    "true_sheep =  copy.deepcopy(copy2[:,13])\n",
    "cattle = copy2[:,3]\n",
    "sheep = copy2[:,13]"
   ]
  },
  {
   "cell_type": "code",
   "execution_count": 5,
   "metadata": {},
   "outputs": [],
   "source": [
    "xcoord = Data['xcoord'].values\n",
    "ycoord = Data['ycoord'].values"
   ]
  },
  {
   "cell_type": "code",
   "execution_count": 6,
   "metadata": {},
   "outputs": [],
   "source": [
    "joinedinput = np.column_stack((xcoord, ycoord))"
   ]
  },
  {
   "cell_type": "code",
   "execution_count": 12,
   "metadata": {},
   "outputs": [
    {
     "data": {
      "text/plain": [
       "10.833333333333334"
      ]
     },
     "execution_count": 12,
     "metadata": {},
     "output_type": "execute_result"
    }
   ],
   "source": [
    "N = len(Data)\n",
    "# N\n",
    "(13*50)/60"
   ]
  },
  {
   "cell_type": "code",
   "execution_count": 13,
   "metadata": {},
   "outputs": [],
   "source": [
    "dist = distance.cdist(joinedinput, joinedinput, 'euclidean')\n",
    "dist = dist/100000"
   ]
  },
  {
   "cell_type": "code",
   "execution_count": 14,
   "metadata": {},
   "outputs": [],
   "source": [
    "equipment_list = Data['equipment'].values\n",
    "shares_water_list = Data['water'].values\n",
    "shares_grazing_list = Data['grazing'].values\n",
    "shares_milk_list = Data['milk'].values\n",
    "shares_vet_list = Data['vet'].values\n",
    "contact_animal_list = Data['contact_animal'].values\n",
    "contact_human_list = Data['contact_people'].values"
   ]
  },
  {
   "cell_type": "code",
   "execution_count": 15,
   "metadata": {},
   "outputs": [
    {
     "name": "stdout",
     "output_type": "stream",
     "text": [
      "2.0\n"
     ]
    },
    {
     "data": {
      "text/plain": [
       "7"
      ]
     },
     "execution_count": 15,
     "metadata": {},
     "output_type": "execute_result"
    }
   ],
   "source": [
    "# tr = np.random.negative_binomial(1, 1/2, N) #Draw immune periods (1 day)\n",
    "tr = 2*np.ones(N)\n",
    "print(np.mean(tr))\n",
    "        \n",
    "psi = 0.00657\n",
    "# psi = 2.5\n",
    "nu = 1.99*(10**(-4.8))\n",
    "xi = 4.65\n",
    "zeta = 2.80\n",
    "chi = 0.403\n",
    "phi = 0.799\n",
    "rho = 0.000863\n",
    "\n",
    "\n",
    "epsilon = np.zeros(N)\n",
    "s = np.random.negative_binomial(50, 50/55, N) #Draw latent periods (5 days)\n",
    "r = np.random.negative_binomial(30, 30/38, N) #Draw infectious periods (8 days)\n",
    "# r = np.random.negative_binomial(8, 8/16, N)\n",
    "sum(r==0)\n"
   ]
  },
  {
   "cell_type": "code",
   "execution_count": 16,
   "metadata": {},
   "outputs": [
    {
     "data": {
      "text/plain": [
       "1.3401452351517724"
      ]
     },
     "execution_count": 16,
     "metadata": {},
     "output_type": "execute_result"
    }
   ],
   "source": [
    "np.max(dist)"
   ]
  },
  {
   "cell_type": "code",
   "execution_count": 17,
   "metadata": {},
   "outputs": [],
   "source": [
    "# kerneldist =(10e4*psi)/((10e2*psi)**2 + dist**2)   # This is without a cap\n",
    "kerneldist = (psi)/(psi**2 + dist**2)\n",
    "# kerneldist = np.zeros(shape=(N,N))\n",
    "# for i in range(len(dist)):\n",
    "#     for j in range(len(dist)):\n",
    "#         if dist[i,j] <= 60:\n",
    "#             kerneldist[i,j] = (psi)/((psi)**2 + dist[i,j]**2)"
   ]
  },
  {
   "cell_type": "code",
   "execution_count": 18,
   "metadata": {
    "scrolled": true
   },
   "outputs": [],
   "source": [
    "# This takes quite a while to run, sit back and have a cuppa\n",
    "# once this has run, you won't need to run it again unless your kernel restarts\n",
    "\n",
    "shares_equipment = np.zeros(shape = (N,N)) #cap at 10km\n",
    "shares_water = np.zeros(shape = (N,N)) #cap at 10km\n",
    "shares_grazing = np.zeros(shape=(N,N)) #cap at 10km\n",
    "shares_milk = np.zeros(shape = (N,N)) #cap at 10km\n",
    "shares_vet = np.zeros(shape = (N,N)) #cap at 10km\n",
    "contactanimal = np.zeros(shape = (N,N))\n",
    "contacthuman = np.zeros(shape = (N,N)) \n",
    "\n",
    "for i in range(N):\n",
    "    for j in range(N):\n",
    "        if i != j:\n",
    "            if dist[i,j] <= 10/100:\n",
    "                if (shares_milk_list[i]==1 and shares_milk_list[j] ==1):\n",
    "                    shares_milk[i,j] = 1\n",
    "                if (shares_water_list[i]==1 and shares_water_list[j] ==1):\n",
    "                    shares_water[i,j] =1\n",
    "                if (shares_grazing_list[i] ==1 and shares_grazing_list[j] ==1):\n",
    "                    shares_grazing[i,j] =1\n",
    "                if (equipment_list[i]==1 and equipment_list[j] ==1):\n",
    "                    shares_equipment[i,j] =1\n",
    "                if (shares_vet_list[i]==1 and shares_vet_list[j] ==1):\n",
    "                    shares_vet[i,j] = 1\n",
    "            if dist[i,j] <= 60/100:\n",
    "                if (contact_animal_list[i]==1 and contact_animal_list[j] ==1):\n",
    "                    contactanimal[i,j] = 1\n",
    "                if (contact_human_list[i]==1 and contact_human_list[j] ==1):\n",
    "                    contacthuman[i,j] = 1"
   ]
  },
  {
   "cell_type": "code",
   "execution_count": 25,
   "metadata": {},
   "outputs": [
    {
     "data": {
      "text/plain": [
       "array([[0., 0., 0., ..., 0., 0., 0.],\n",
       "       [0., 0., 0., ..., 0., 0., 0.],\n",
       "       [0., 0., 0., ..., 0., 0., 0.],\n",
       "       ...,\n",
       "       [0., 0., 0., ..., 0., 1., 1.],\n",
       "       [0., 0., 0., ..., 1., 0., 1.],\n",
       "       [0., 0., 0., ..., 1., 1., 0.]])"
      ]
     },
     "execution_count": 25,
     "metadata": {},
     "output_type": "execute_result"
    }
   ],
   "source": [
    "contacthuman"
   ]
  },
  {
   "cell_type": "code",
   "execution_count": 26,
   "metadata": {},
   "outputs": [
    {
     "data": {
      "text/plain": [
       "55.7530823606773"
      ]
     },
     "execution_count": 26,
     "metadata": {},
     "output_type": "execute_result"
    }
   ],
   "source": [
    "q = np.random.negative_binomial(2*28, 2*28/(4*28), N) #Draw immune periods (2 months)\n",
    "np.mean(q)\n"
   ]
  },
  {
   "cell_type": "code",
   "execution_count": 27,
   "metadata": {},
   "outputs": [],
   "source": [
    "# [a1, a2, a3,a4,a5,a6,a7] = [0.16964086, 0.16230848, 0.1756672,  0.06334324, 0.13775076, 0.13500596,0.15628351]\n",
    "[a1, a2, a3,a4,a5,a6,a7] = (1/7)*np.ones(7)\n",
    "\n",
    "transmission_matrix = (\n",
    "a1*shares_equipment+\n",
    " a2*shares_water+\n",
    " a3*shares_grazing + \n",
    " a4*shares_milk + \n",
    " a5*shares_vet + \n",
    " a6*contactanimal + \n",
    " a7*contacthuman)"
   ]
  },
  {
   "cell_type": "code",
   "execution_count": 28,
   "metadata": {},
   "outputs": [],
   "source": [
    "T = copy.deepcopy(transmission_matrix)"
   ]
  },
  {
   "cell_type": "code",
   "execution_count": 29,
   "metadata": {},
   "outputs": [
    {
     "data": {
      "text/plain": [
       "0.14285714285714285"
      ]
     },
     "execution_count": 29,
     "metadata": {},
     "output_type": "execute_result"
    }
   ],
   "source": [
    "transmission_matrix[5,6]\n",
    "T[5,6]"
   ]
  },
  {
   "cell_type": "code",
   "execution_count": 30,
   "metadata": {},
   "outputs": [],
   "source": [
    "farm_cost = np.zeros(N)\n",
    "for i in range(0,N):\n",
    "    farm_cost[i] = 150*sheep[i] + 150*cattle[i]\n",
    "\n",
    "Data['cost'] = farm_cost"
   ]
  },
  {
   "cell_type": "code",
   "execution_count": 31,
   "metadata": {},
   "outputs": [
    {
     "data": {
      "text/plain": [
       "0.02915958717086779"
      ]
     },
     "execution_count": 31,
     "metadata": {},
     "output_type": "execute_result"
    }
   ],
   "source": [
    "kerneldist[50,200]"
   ]
  },
  {
   "cell_type": "markdown",
   "metadata": {},
   "source": [
    "# Below is the main code.\n",
    "- A[:,0] - index of farm (only added into the code when farm is infected or if its vaccinated)\n",
    "- A[:,1] - time a farm is infected\n",
    "- A[:,2] = s - length of time/period a farm is exposed for  (4 days)\n",
    "- A[:,3]  =r - length of time/period a farm is infectious for (8 days)\n",
    "- A[:,4] = tr - length of time/period a farm is waiting before triggering vaccines (1 day) - maybe we should delete this completely\n",
    "- A[:,5] = q - length of time/period a farm is naturally immue for (2 months) \n",
    "- A[:,6] = end_q - time at which a farm becomes susceptible again\n",
    "- A[:,7] = t_vac - time at which a farm is vaccinated\n",
    "- A[:,8]=v - length of time/period a farm is immune for, induced from vaccines (6 months)\n",
    "- A[:,9] =end_v - time at which vaccine immunity ends"
   ]
  },
  {
   "cell_type": "code",
   "execution_count": 32,
   "metadata": {},
   "outputs": [
    {
     "name": "stdout",
     "output_type": "stream",
     "text": [
      "(8, 600)\n"
     ]
    }
   ],
   "source": [
    "eff = 0.3\n",
    "ring_vac = 3\n",
    "T = copy.deepcopy(transmission_matrix)\n",
    "tmax = 600\n",
    "results = np.zeros((8,tmax))\n",
    "print(results.shape)"
   ]
  },
  {
   "cell_type": "code",
   "execution_count": 35,
   "metadata": {
    "scrolled": true
   },
   "outputs": [],
   "source": [
    "def kenyaFMD(input1):\n",
    "    for i in range(1):\n",
    "        start_time = time.time()\n",
    "\n",
    "        cattle = copy.deepcopy(Data['cattle'].values).astype(int)\n",
    "        sheep = copy.deepcopy(Data['sr'].values).astype(int)\n",
    "        t = 0\n",
    "        cost = np.zeros(N)\n",
    "        A = np.zeros(shape=(N,10))     \n",
    "        A[:,0] = -1 \n",
    "        vac = np.zeros(N)\n",
    "        cumInf = np.zeros(tmax)\n",
    "        numInf = np.zeros(tmax)\n",
    "\n",
    "        initial1 = random.randint(0,N-1)\n",
    "        initial2 = (initial1+1)%N\n",
    "        initial3 = (initial2+1)%N\n",
    "\n",
    "        infect_cow = np.zeros(N)\n",
    "        infect_sheep = np.zeros(N)\n",
    "        I = np.zeros(N)\n",
    "\n",
    "        I[initial1] = 1\n",
    "        I[initial2] = 1\n",
    "        I[initial3] = 1\n",
    "\n",
    "        A[initial1, ] = [initial1, 0, s[initial1], r[initial1], tr[initial1], q[initial1], 0,0,  0,0]\n",
    "        A[initial2, ] = [initial2, 0, s[initial2], r[initial2], tr[initial2], q[initial2], 0,0, 0,0]\n",
    "        A[initial3, ] = [initial3, 0, s[initial3], r[initial3], tr[initial3], q[initial1], 0,0, 0,0]\n",
    "\n",
    "        infectind = [i for i in range(np.size(I)) if I[i]==2]\n",
    "        susceptind = [i for i in range(np.size(I)) if I[i] ==0]\n",
    "        exposedind = [i for i in range(np.size(I)) if I[i] == 1]\n",
    "        immuneind = [i for i in range(np.size(I)) if I[i] ==4]\n",
    "        vaccineind = [i for i in range(np.size(I)) if I[i]==3]\n",
    "\n",
    "        Inf=[len(infectind)]\n",
    "        Sus = [len(susceptind)]\n",
    "        Exp = [len(exposedind)]\n",
    "        Imm = [len(immuneind)]\n",
    "        Vac = [len(vaccineind)]\n",
    "\n",
    "        time_plot=[0]\n",
    "        %matplotlib notebook\n",
    "        start_time = time.time()\n",
    "    #         fig = plt.figure(figsize = (10,4))\n",
    "    #         ax = fig.add_subplot(121)\n",
    "    #         ax1 = fig.add_subplot(122)\n",
    "    #         plt.ion\n",
    "\n",
    "    #         fig.show()\n",
    "    #         fig.canvas.draw()\n",
    "        Dose = []\n",
    "        VAC = []\n",
    "        travelled = []\n",
    "        Capacity = 80\n",
    "        Coverage = 0.25\n",
    "\n",
    "        while t<tmax:\n",
    "            infNum = 0\n",
    "            t = t+1\n",
    "            \n",
    "            if t >(tmax/2):\n",
    "                Capacity = 160\n",
    "#                 Coverage = 1\n",
    "#                 eff = np.random.beta(8,2)\n",
    "            else:\n",
    "                Capacity = 80\n",
    "#                 Coverage = 0.25\n",
    "#                 eff = np.random.beta(2,8)\n",
    "#             print(t)\n",
    "\n",
    "            ################################### WITHIN FARM INFECTION ####################################\n",
    "            for farm in infectind:\n",
    "                Num_livestock = infect_cow[farm] + infect_sheep[farm]\n",
    "                λ = 0.1\n",
    "                inf1 = 1-((1-λ)**Num_livestock) \n",
    "                for animals in range(int(cattle[farm]+sheep[farm])):\n",
    "                    p_beta = np.random.uniform(0,1)\n",
    "                    if (p_beta<inf1) and Num_livestock<=(sheep[farm]+cattle[farm]):\n",
    "                        if (random.random() < 0.5 and sheep[farm]>=1 and infect_sheep[farm]<sheep[farm]):\n",
    "                            infect_sheep[farm] += 1\n",
    "                        elif (cattle[farm]>=1 and infect_cow[farm]<cattle[farm]):\n",
    "                            infect_cow[farm] +=1\n",
    "\n",
    "            ################################# BETWEEN FARM INFECTION  #####################################\n",
    "\n",
    "            ###############################################################################################\n",
    "            ######################################### ATTRIBUTES ##########################################\n",
    "        #         ###############################################################################################\n",
    "        #         transmission_matrix = (a1*shares_equipment+ #need to clear and update this everytime\n",
    "        #         a2*shares_water+\n",
    "        #         a3*shares_grazing + \n",
    "        #         a4*shares_milk + \n",
    "        #         a5*shares_vet + \n",
    "        #         a6*contactanimal + \n",
    "        #         a7*contacthuman)\n",
    "    #             attribute_matrix = copy.deepcopy(transmission_matrix)\n",
    "        #         print(attribute_matrix[6,5], transmission_matrix[6,5])\n",
    "\n",
    "            beta = np.zeros(N)\n",
    "            beta1 = nu*(xi*(cattle-infect_cow)**chi + (sheep-infect_sheep)**chi)\n",
    "            beta3 = zeta*(infect_cow)**chi + infect_sheep**chi\n",
    "\n",
    "            attribute_matrix = transmission_matrix * beta3\n",
    "            c = np.einsum('ij,ji->i', attribute_matrix[:,I==2], kerneldist[I==2,:])\n",
    "            beta = beta1*c\n",
    "\n",
    "            prob_inf = (1 - np.exp(-beta))\n",
    "            unif = np.random.uniform(0, 1, N)\n",
    "            ### immunity ###\n",
    "            cattle[I ==4] = 0\n",
    "            cattle[I ==3] = 0\n",
    "            sheep[I==4] = 0\n",
    "            sheep[I==3] = 0\n",
    "            prob_inf[I==3] = 0\n",
    "            prob_inf[I==4] = 0\n",
    "            \n",
    "\n",
    "            for i in range(0,N):\n",
    "\n",
    "                if (unif[i] <= prob_inf[i] and I[i] == 0):\n",
    "                    cattle[i] = true_cattle[i]\n",
    "                    sheep[i] = true_sheep[i]\n",
    "                    I[i] =  1\n",
    "                    A[i, ] = [i, t, s[i], r[i], tr[i], q[i], 0, 0,0,0]\n",
    "\n",
    "            #########################################################################################################\n",
    "            ######################################## UPDATE STATES ##################################################\n",
    "            #########################################################################################################\n",
    "\n",
    "            ###################################### EXPOSED TO INFECTIOUS ############################################\n",
    "\n",
    "            inf = A[:,0][A[:,1] + A[:,2] == t]\n",
    "\n",
    "            I[inf.astype(np.int64)] = 2\n",
    "\n",
    "\n",
    "            ####################### UPDATE NUMBER OF INFECTED ANIMALS WITHIN AN INFECTIOUS FARM #####################\n",
    "\n",
    "            for i in inf: \n",
    "                i = int(i)\n",
    "                if (random.random() < (sheep[i]/(sheep[i] +cattle[i])) and sheep[i]>=1 and infect_sheep[i]<sheep[i]):\n",
    "                    infect_sheep[i] += 1\n",
    "                elif (cattle[i]>=1 and infect_cow[i]<cattle[i]):\n",
    "                    infect_cow[i] +=1\n",
    "\n",
    "\n",
    "        ########################################### 25% RING VACCINATION ###########################################\n",
    "        #         eff = efficac\n",
    "            trig = A[:,0][A[:,1] + A[:,2] + A[:,4] == t] #trigger vaccines\n",
    "            RingVac = 1.0*(ring_vac/100)\n",
    "            lenI = len(I)\n",
    "            for i in range(len(trig)):\n",
    "                trigi = trig[i].astype(np.int64)\n",
    "                n2 = [k for k in range(lenI) if dist[trigi, k] <RingVac]\n",
    "                index=list(np.where(np.random.uniform(0,1,len(n2))<Coverage*np.ones(len(n2)))[0])\n",
    "                n=list(np.asarray(n2)[index])\n",
    "\n",
    "                for j in range(len(n)):\n",
    "                    m = n[j]\n",
    "                    if A[m,7] == 0:\n",
    "                        VAC = np.append(VAC, m)\n",
    "                        travelled.append(dist[trig[i].astype(np.int64), m])\n",
    "            VAC, indices = np.unique(np.array(VAC, dtype=np.int), return_inverse=True)\n",
    "            VAC = VAC[indices]\n",
    "            if len(VAC) > 0:\n",
    "                VAC = VAC.astype(np.int64)\n",
    "            if len(VAC)>Capacity:\n",
    "                cost[VAC[0:Capacity]] += farm_cost[VAC[0:Capacity]]\n",
    "\n",
    "                for j in range(len(VAC[0:Capacity])):\n",
    "                    m = VAC[j]\n",
    "                    A[m,0] = m\n",
    "                    A[m,7] = t\n",
    "                    if (I[m] == 0):\n",
    "\n",
    "                        if np.random.uniform(0,1) <eff:\n",
    "                            A[m, 8] = np.random.negative_binomial(6*28, 6*28/(12*28))\n",
    "                            A[m,9] = A[m,8] + t\n",
    "                            I[m] = 3\n",
    "                            cattle[m] = 0\n",
    "                            sheep[m] = 0\n",
    "                    elif (I[m] == 3):\n",
    "                        if np.random.uniform(0,1) < eff:\n",
    "                            immunity = np.random.negative_binomial(6*28, 6*28/(12*28))\n",
    "\n",
    "                            if (A[m,9]) < (immunity+t):\n",
    "                                A[m,8] = immunity\n",
    "                                A[m, 9] = immunity +t\n",
    "                            else:\n",
    "                                A[m,8] = A[m,9] - t\n",
    "                    elif (I[m] ==4):\n",
    "                        if np.random.uniform(0,1) < eff:\n",
    "                            immunity = np.random.negative_binomial(6*28, 6*28/(12*28))\n",
    "                            if (A[m,6] )< (immunity +t):\n",
    "                                A[m,8] = immunity\n",
    "                                A[m,9] = immunity + t\n",
    "                                I[m] = 3\n",
    "                                A[m,6] = 0\n",
    "                                cattle[m] = 0\n",
    "                                sheep[m] = 0\n",
    "                VAC = np.delete(VAC, range(0, Capacity), None)\n",
    "            else: \n",
    "                cost[0:len(VAC)] += farm_cost[0:len(VAC)]\n",
    "\n",
    "                for j in range(len(VAC)):\n",
    "                    m = VAC[j]\n",
    "                    A[m, 0] = m\n",
    "                    A[m, 7] = t\n",
    "                    if (I[m] == 0):\n",
    "                        if np.random.uniform(0,1) <eff:\n",
    "                            A[m, 8] = np.random.negative_binomial(6*28, 6*28/(12*28))\n",
    "                            A[m, 9] = A[m, 8] +t\n",
    "                            I[m] = 3\n",
    "                            cattle[m] = 0\n",
    "                            sheep[m] = 0\n",
    "                    elif (I[m] == 3):\n",
    "                        if np.random.uniform(0,1) < eff:\n",
    "                            immunity = np.random.negative_binomial(6*28, 6*28/(12*28))\n",
    "                            if (A[m,9]) < (immunity +t):\n",
    "                                A[m,8] = immunity\n",
    "                                A[m,9] = immunity +t\n",
    "                            else:\n",
    "                                A[m,8] = A[m,9] - t\n",
    "                    elif (I[m] ==4):\n",
    "                        if np.random.uniform(0,1) < eff:\n",
    "                            immunity = np.random.negative_binomial(6*28, 6*28/(12*28))\n",
    "                            if (A[m,6] )< (immunity +t):\n",
    "                                A[m,8] = immunity\n",
    "                                A[m,9] = immunity + t\n",
    "                                I[m] = 3\n",
    "                                A[m,6] = 0  \n",
    "                                cattle[m] = 0\n",
    "                                sheep[m] = 0\n",
    "                VAC = np.delete(VAC, range(0, len(VAC)), None)\n",
    "\n",
    "\n",
    "            ########################################### vaccine wears off ###########################################\n",
    "\n",
    "            new_dose = A[:,0][A[:,7]+6*28 == t] #records when the farmer will get a new vaccine\n",
    "\n",
    "\n",
    "            for j in new_dose:\n",
    "                j = j.astype(np.int64)\n",
    "                if (A[j,8] > 6*28) and (I[j]==3):\n",
    "                    A[j, 7] = 0\n",
    "                else: \n",
    "                    A[j, 7] = 0\n",
    "                    A[j, 8] = 0\n",
    "                    A[j,9] = 0\n",
    "                    if I[j] == 3:\n",
    "                        I[j] = 0\n",
    "                        cattle[j] = true_cattle[j]\n",
    "                        sheep[j] = true_sheep[j]\n",
    "\n",
    "            vaccinate_ends = A[:,0][A[:,9] == t]\n",
    "\n",
    "            for j in vaccinate_ends:\n",
    "                j = j.astype(np.int64)\n",
    "                if I[j] ==3:\n",
    "                    I[j] =0\n",
    "                    cattle[j] = true_cattle[j]\n",
    "                    sheep[j] = true_sheep[j]\n",
    "\n",
    "            ######################################### IMMUNITY #######################################################\n",
    "\n",
    "            rem = A[:,0][A[:,1] + A[:,2] + A[:,3] == t] #Move to IM state once infectious period is over\n",
    "            for i in rem:\n",
    "                i = i.astype(np.int64)\n",
    "                if I[i] == 2:\n",
    "                    I[i] =4\n",
    "                    cattle[i] = 0\n",
    "                    sheep[i] = 0\n",
    "                    A[i, 6] = A[i, 5] +t\n",
    "                    infect_sheep[i] = 0\n",
    "                    infect_cow[i] = 0\n",
    "\n",
    "            immune = A[:,0][A[:,1] + A[:,2] + A[:,3] + A[:,5] == t] #Move to S state once immune period is over\n",
    "            I[immune.astype(np.int64)] = 0\n",
    "            A[immune.astype(np.int64), ] = [0, 0, 0, 0, 0, 0, 0, 0, 0, 0]\n",
    "            for k in immune:\n",
    "                k = k.astype(np.int64)\n",
    "                cattle[k] = true_cattle[k]\n",
    "                sheep[k] = true_sheep[k]\n",
    "\n",
    "\n",
    "            #### WITHIN FARM RECOVERY ####\n",
    "            infected = [i for i in range(N) if (infect_cow+infect_sheep)[i]>0]\n",
    "            for farm in infected:\n",
    "                mu = 0.01\n",
    "                for animals in range(int(infect_cow[farm]+infect_sheep[farm])):\n",
    "                    recover = np.random.uniform(0,1)\n",
    "\n",
    "                    if recover < mu and (infect_sheep[farm]+infect_cow[farm]) >=1 :\n",
    "                        if (random.random() <(infect_sheep[farm]/(infect_sheep[farm]+infect_cow[farm])) and infect_sheep[farm]>=1 ):\n",
    "                            infect_sheep[farm] -= 1\n",
    "                        elif infect_cow[farm]>=1: \n",
    "                            infect_cow[farm] -=1\n",
    "                        if infect_sheep[farm]+infect_cow[farm] ==0: \n",
    "                            I[farm] = 4\n",
    "                            infect_sheep[farm] = 0\n",
    "                            infect_cow[farm] = 0\n",
    "                            cattle[farm] = 0\n",
    "                            sheep[farm] = 0\n",
    "                            A[farm, 6] = A[farm, 5] +t\n",
    "\n",
    "            ############################################### PLOTS #####################################################\n",
    "\n",
    "            infectind = [i for i in range(np.size(I)) if I[i]==2]\n",
    "            susceptind = [i for i in range(np.size(I)) if I[i]==0]\n",
    "            exposedind = [i for i in range(np.size(I)) if I[i] == 1]\n",
    "            immuneind = [i for i in range(np.size(I)) if I[i] ==4]\n",
    "            vaccineind = [i for i in range(np.size(I)) if I[i]==3]\n",
    "            had_dose = [i for i in range(np.size(I)) if A[i,6]>0]\n",
    "            if t>0:\n",
    "                infNum += len(inf)\n",
    "\n",
    "            numinf2 = len(inf)\n",
    "            Dose.append(len(had_dose))\n",
    "            Inf.append(len(infectind))\n",
    "            Sus.append(len(susceptind))\n",
    "            Exp.append(len(exposedind))\n",
    "            Imm.append(len(immuneind))\n",
    "            Vac.append(len(vaccineind))\n",
    "            time_plot.append(t)\n",
    "\n",
    "\n",
    "\n",
    "            xinfectplot = xcoord[infectind]\n",
    "            yinfectplot = ycoord[infectind]\n",
    "            xsusceptplot = xcoord[susceptind]\n",
    "            ysusceptplot = ycoord[susceptind]\n",
    "            xexposeplot = xcoord[exposedind]\n",
    "            yexposeplot = ycoord[exposedind]\n",
    "            ximmuneplot = xcoord[immuneind]\n",
    "            yimmuneplot = ycoord[immuneind]\n",
    "            xvaccineplot = xcoord[vaccineind]\n",
    "            yvaccineplot = ycoord[vaccineind]\n",
    "    #             ax.clear()\n",
    "\n",
    "    #             ax1.clear()\n",
    "\n",
    "\n",
    "        #         ax1.plot(time_plot,Sus,label='Susceptible', c='yellowgreen')\n",
    "    #             ax1.plot(time_plot,Inf,label='Infectious', c='r')\n",
    "        #         ax1.plot(time_plot, Imm, label = 'immune', c='b')\n",
    "        #         ax1.plot(time_plot, Vac, label = 'vaccine', c='g')\n",
    "    #             plt.xlabel('time')\n",
    "    #             plt.ylabel('Number of Farms')\n",
    "\n",
    "\n",
    "    #             ax.scatter(xsusceptplot, ysusceptplot, c='yellowgreen', marker='o', s=6, label='Susceptible')\n",
    "    #             ax.set_xticks([])\n",
    "    #             ax.set_yticks([])\n",
    "    #             ax.scatter(xinfectplot, yinfectplot, c='r', marker='o', s=10, label='Infectious')\n",
    "    #             ax.scatter(ximmuneplot, yimmuneplot, c='b', marker='o', s=6, label='Immune')\n",
    "    #             ax.scatter(xvaccineplot, yvaccineplot, c='g', marker = 'o', s = 6, label = 'vaccine')\n",
    "    #             ax.axis([0, np.max(xcoord), 0, np.max(ycoord)])\n",
    "\n",
    "\n",
    "    #             plt.title('Day {}, Infected: {}, Vaccine functional: {}'.format(t, np.size(xinfectplot), np.size(xvaccineplot)),fontsize = 12)\n",
    "    #             ax.axis('scaled')\n",
    "    #             ax.legend(loc = 'upper left', fontsize = 10.8,  markerscale= 3)\n",
    "\n",
    "            cumInf[t] = cumInf[t-1] + infNum\n",
    "\n",
    "            numInf[t] = numinf2\n",
    "\n",
    "            if sum(I == 1) + sum(I == 2) == 0:\n",
    "                a = cumInf[t-1]\n",
    "                cumInf[t:] = a\n",
    "                numInf[t:] = 0\n",
    "                endemic = 0\n",
    "                total_numinf = cumInf[-1]\n",
    "                break\n",
    "            if t == (tmax-1):\n",
    "                endemic = np.mean(Inf[(tmax-100):])\n",
    "                total_numinf = cumInf[-1]\n",
    "                break\n",
    "\n",
    "            \n",
    "    return time_plot, Inf, cumInf, numInf, total_numinf, endemic, results\n",
    "\n"
   ]
  },
  {
   "cell_type": "code",
   "execution_count": 36,
   "metadata": {
    "scrolled": true
   },
   "outputs": [],
   "source": [
    "# %reload_ext line_profiler\n",
    "# %lprun -f kenyaFMD tp, inf, cuminf, numinf, totalinf, endemic = kenyaFMD()\n"
   ]
  },
  {
   "cell_type": "code",
   "execution_count": 37,
   "metadata": {
    "scrolled": true
   },
   "outputs": [],
   "source": [
    "data = range(10)\n",
    "num_threads=8\n",
    "with Pool(num_threads) as pool:\n",
    "    start=time.time()\n",
    "    results2 = pool.map(kenyaFMD, data)\n",
    "    end=time.time()"
   ]
  },
  {
   "cell_type": "code",
   "execution_count": 39,
   "metadata": {},
   "outputs": [],
   "source": [
    "realisations = 10\n",
    "Infections = np.zeros(shape = (realisations, tmax))\n",
    "TotalInfections = np.zeros(realisations)\n",
    "EndemicLevel = np.zeros(realisations)\n",
    "for i in range(realisations):\n",
    "    if len(results2[i][1]) < tmax:\n",
    "        Infections[i,:] = np.concatenate((results2[i][1], np.zeros(600-len(results2[i][1]))))\n",
    "    else:\n",
    "        Infections[i,:] = results2[i][1]\n",
    "    TotalInfections[i] = results2[i][4]\n",
    "    EndemicLevel[i] = results2[i][5]"
   ]
  },
  {
   "cell_type": "raw",
   "metadata": {},
   "source": []
  },
  {
   "cell_type": "code",
   "execution_count": 40,
   "metadata": {},
   "outputs": [
    {
     "data": {
      "text/plain": [
       "[<matplotlib.lines.Line2D at 0x7f910d0db668>]"
      ]
     },
     "execution_count": 40,
     "metadata": {},
     "output_type": "execute_result"
    },
    {
     "data": {
      "image/png": "[encoded data removed]",
      "text/plain": [
       "<Figure size 432x288 with 1 Axes>"
      ]
     },
     "metadata": {},
     "output_type": "display_data"
    }
   ],
   "source": [
    "plt.plot(range(tmax), np.mean(Infections, axis = 0))"
   ]
  },
  {
   "cell_type": "code",
   "execution_count": null,
   "metadata": {},
   "outputs": [],
   "source": [
    "# np.save('Infections_Capacity', Infections)\n",
    "# np.save('Endemic_Capacity', EndemicLevel)\n",
    "# np.save('Size_Capacity', TotalInfections)"
   ]
  },
  {
   "cell_type": "code",
   "execution_count": null,
   "metadata": {},
   "outputs": [],
   "source": [
    "np.mean(EndemicLevel)"
   ]
  },
  {
   "cell_type": "code",
   "execution_count": 22,
   "metadata": {},
   "outputs": [],
   "source": [
    "infection = np.load('Infections_All_attributes.npy')"
   ]
  },
  {
   "cell_type": "code",
   "execution_count": 41,
   "metadata": {},
   "outputs": [
    {
     "ename": "NameError",
     "evalue": "name 'infection' is not defined",
     "output_type": "error",
     "traceback": [
      "\u001b[0;31m---------------------------------------------------------------------------\u001b[0m",
      "\u001b[0;31mNameError\u001b[0m                                 Traceback (most recent call last)",
      "\u001b[0;32m<ipython-input-41-1d6f912fedf4>\u001b[0m in \u001b[0;36m<module>\u001b[0;34m\u001b[0m\n\u001b[0;32m----> 1\u001b[0;31m \u001b[0mplt\u001b[0m\u001b[0;34m.\u001b[0m\u001b[0mplot\u001b[0m\u001b[0;34m(\u001b[0m\u001b[0mrange\u001b[0m\u001b[0;34m(\u001b[0m\u001b[0mtmax\u001b[0m\u001b[0;34m)\u001b[0m\u001b[0;34m,\u001b[0m \u001b[0mnp\u001b[0m\u001b[0;34m.\u001b[0m\u001b[0mmean\u001b[0m\u001b[0;34m(\u001b[0m\u001b[0minfection\u001b[0m\u001b[0;34m,\u001b[0m \u001b[0maxis\u001b[0m \u001b[0;34m=\u001b[0m \u001b[0;36m0\u001b[0m\u001b[0;34m)\u001b[0m\u001b[0;34m)\u001b[0m\u001b[0;34m\u001b[0m\u001b[0m\n\u001b[0m",
      "\u001b[0;31mNameError\u001b[0m: name 'infection' is not defined"
     ]
    }
   ],
   "source": [
    "plt.plot(range(tmax), np.mean(infection, axis = 0))"
   ]
  },
  {
   "cell_type": "code",
   "execution_count": 26,
   "metadata": {},
   "outputs": [],
   "source": [
    "endemic = np.load('Endemic_All_attributes.npy')"
   ]
  },
  {
   "cell_type": "code",
   "execution_count": 27,
   "metadata": {},
   "outputs": [
    {
     "data": {
      "text/plain": [
       "214.36419999999998"
      ]
     },
     "execution_count": 27,
     "metadata": {},
     "output_type": "execute_result"
    }
   ],
   "source": [
    "np.mean(endemic)"
   ]
  },
  {
   "cell_type": "code",
   "execution_count": null,
   "metadata": {},
   "outputs": [],
   "source": []
  }
 ],
 "metadata": {
  "kernelspec": {
   "display_name": "Python 3",
   "language": "python",
   "name": "python3"
  },
  "language_info": {
   "codemirror_mode": {
    "name": "ipython",
    "version": 3
   },
   "file_extension": ".py",
   "mimetype": "text/x-python",
   "name": "python",
   "nbconvert_exporter": "python",
   "pygments_lexer": "ipython3",
   "version": "3.5.2"
  }
 },
 "nbformat": 4,
 "nbformat_minor": 2
}
