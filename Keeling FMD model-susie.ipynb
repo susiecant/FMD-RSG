{
 "cells": [
  {
   "cell_type": "code",
   "execution_count": 1,
   "metadata": {},
   "outputs": [],
   "source": [
    "from numpy  import *\n",
    "import numpy as np\n",
    "import matplotlib.pyplot as plt"
   ]
  },
  {
   "cell_type": "code",
   "execution_count": 2,
   "metadata": {},
   "outputs": [],
   "source": [
    "import random as random\n",
    "random.seed(102)"
   ]
  },
  {
   "cell_type": "code",
   "execution_count": 193,
   "metadata": {},
   "outputs": [],
   "source": [
    "def WhichGrid(x,y,XRange,YRange,XNum,YNum):\n",
    "    G=floor(x*XNum/XRange)*YNum + floor(y*YNum/YRange)+1\n",
    "    return G\n",
    "#Calculates which grid a particular location is in\n"
   ]
  },
  {
   "cell_type": "code",
   "execution_count": 192,
   "metadata": {},
   "outputs": [],
   "source": [
    "def Kernel(dist_squared):\n",
    "    P=[-9.2123e-5,9.5628e-4,3.3966e-3,-3.3687e-2,-1.30519e-1, -0.609262, -3.231772]\n",
    "    K=np.exp(np.polyval(P,dist_squared))\n",
    "    if (dist_squared<0.0138):\n",
    "        K=0.3093\n",
    "    if (dist_squared>60*60):\n",
    "        K=0\n",
    "    return K"
   ]
  },
  {
   "cell_type": "code",
   "execution_count": 304,
   "metadata": {},
   "outputs": [],
   "source": [
    "#Iteration Space\n",
    "def Iterate(Status, x, y, Suscept, Transmiss, RingCull, grid, first_in_grid, last_in_grid, Num, MaxRate):\n",
    "\n",
    "    Event=0*Status;\n",
    "\n",
    "    [INF]=np.where((Status>5) & (Status<12));  NI=len(INF); #Note reported farms still infectious\n",
    "    IGrids=grid[INF];\n",
    "\n",
    "    for i in range(NI):\n",
    "        INFi=INF[i];\n",
    "        MaxProb=1-np.exp(-Transmiss[INFi]*Num*MaxRate[int(IGrids[i]),:]);\n",
    "        [m]=np.where(MaxProb-np.random.rand(int(max(grid)))>0);  #these are grids that need further consideration\n",
    "\n",
    "        for n in range(len(m)):\n",
    "            s=1;\n",
    "            M=m[n];\n",
    "            PAB=1-np.exp(-Transmiss[INFi]*MaxRate[int(IGrids[i]),M]);\n",
    "            if (PAB==1):\n",
    "                ind=np.arange(first_in_grid[M],last_in_grid[M])\n",
    "                Q=1-np.exp(-Transmiss[INFi]*Suscept[ind]*Kernel((x[INFi]-x[ind])**2+(y[INFi]-y[ind])**2));\n",
    "                Event[ind[(np.random.rand(np.size(Q))-Q<0) & (Status[ind]==0)]]=1;\n",
    "            else:\n",
    "                for j in range(int(Num[M])):\n",
    "                    ind=first_in_grid[M]+j-1;\n",
    "                    P=1-s*(1-PAB)**(Num[M]+1-j);\n",
    "                    R=np.random.rand(1);\n",
    "                    if (R<PAB/P):\n",
    "                        s=0;\n",
    "                        Q=1-np.exp(-Transmiss[INFi]*Suscept[ind]*Kernel((x[INFi]-x[ind])**2+(y[INFi]-y[ind])**2));\n",
    "                        if (R<Q/P and Status[ind]==0):\n",
    "                            Event[ind]=1;\n",
    "\n",
    "    [m]=np.where(Status>0);\n",
    "    Status[m]=Status[m]+1;\n",
    "    Status=Status+Event;\n",
    "\n",
    "    [m]=np.where(Status==13); #Initiate Ring Culling Around Reported Farm\n",
    "    for i in range(len(m)):\n",
    "        Status[m[i]]=-1;\n",
    "        D=(x[m[i]]-x[:])**2+(y[m[i]]-y[:])**2;\n",
    "        [n]=np.where(D<RingCull**2);\n",
    "        Status[n]=-1;\n",
    "        \n",
    "    return Status\n"
   ]
  },
  {
   "cell_type": "code",
   "execution_count": 220,
   "metadata": {},
   "outputs": [],
   "source": [
    "N=4000;\n",
    "Size=20;\n",
    "Y0=1;\n",
    "RingCull=0;\n",
    "MaxTime=1000;\n",
    "#may need to check these are valid parameters"
   ]
  },
  {
   "cell_type": "code",
   "execution_count": 287,
   "metadata": {},
   "outputs": [],
   "source": [
    "x=Size*np.random.rand(N)\n",
    "y=Size*np.random.rand(N)\n",
    "Status=np.zeros(N)\n",
    "#Status[0:Y0-1]=1\n",
    "Status[0]=1\n",
    "R=np.random.rand(N)\n",
    "Cows=np.zeros(N)\n",
    "Sheep=np.zeros(N)\n",
    "[n]=np.where(R<0.73)\n",
    "[m]=np.where((R<0.46) | (R>0.73))\n",
    "while (len(m)+len(n)>0):\n",
    "    Sheep[m]=350*np.exp(np.random.rand(len(m)));\n",
    "    Cows[n]=70*np.exp(np.random.rand(len(n)));\n",
    "    m=m[(Sheep[m]<1) | (Sheep[m]>30000)];\n",
    "    n=n[(Cows[n]<1) | (Cows[n]>5000)];\n",
    "\n",
    "Suscept=Sheep+10.5*Cows; Transmiss=5.1e-7*Sheep + 7.7e-7*Cows"
   ]
  },
  {
   "cell_type": "code",
   "execution_count": 288,
   "metadata": {},
   "outputs": [],
   "source": [
    "grid=WhichGrid(x,y,Size,Size,10,10)\n",
    "tmp=np.sort(grid)\n",
    "i=np.argsort(grid)\n",
    "x=x[i]\n",
    "y=y[i]\n",
    "Status=Status[i]\n",
    "grid=grid[i]\n",
    "Xgrid=np.zeros(int(max(grid)));Ygrid=np.zeros(int(max(grid)))\n",
    "Num=np.zeros(int(max(grid)));first_in_grid=np.zeros(int(max(grid)))\n",
    "last_in_grid=np.zeros(int(max(grid)));Max_Sus_grid=np.zeros(int(max(grid)))\n",
    "\n",
    "for i in range(int(max(grid))):\n",
    "    Xgrid[i]=floor((i-1)/10)\n",
    "    Ygrid[i]=mod((i-1),10)\n",
    "    [m]=np.where(grid==i)\n",
    "    Num[i]=len(m)\n",
    "    if (Num[i]>0):\n",
    "        first_in_grid[i]=min(m)\n",
    "        last_in_grid[i]=max(m)\n",
    "        Max_Sus_grid[i]=max(Suscept[m])\n",
    "    else:\n",
    "        first_in_grid[i]=0\n",
    "        last_in_grid[i]=-1\n",
    "        Max_Sus_grid[i]=0\n"
   ]
  },
  {
   "cell_type": "code",
   "execution_count": 289,
   "metadata": {},
   "outputs": [],
   "source": [
    "#Work out grid to maximum grid transmission probabilities\n",
    "max_grid=int(max(grid))\n",
    "MaxRate=np.zeros((max_grid,max_grid))\n",
    "Distsq=[]\n",
    "for i in range(max_grid):\n",
    "    for j in range(max_grid):\n",
    "        if ((i==j) | (Num[i]==0) | (Num[j]==0)):\n",
    "            MaxRate[i,j]=inf;\n",
    "        else:\n",
    "            \n",
    "            #Dist2=(Size*(abs(Xgrid[i]-Xgrid[j])/10))**2 + (Size*(abs(Ygrid[i]-Ygrid[j])/10))**2\n",
    "            \n",
    "            Dist2=(Size*max([0,(abs(Xgrid[i]-Xgrid[j])-1)])/10)**2 + (Size*max([0,(abs(Ygrid[i]-Ygrid[j])-1)])/10)**2\n",
    "            Distsq.append(Dist2)\n",
    "            MaxRate[i,j]=np.multiply(Max_Sus_grid[j],Kernel(Dist2))"
   ]
  },
  {
   "cell_type": "code",
   "execution_count": 305,
   "metadata": {},
   "outputs": [
    {
     "name": "stderr",
     "output_type": "stream",
     "text": [
      "/usr/local/lib/python3.5/dist-packages/ipykernel_launcher.py:11: RuntimeWarning: invalid value encountered in multiply\n",
      "  # This is added back by InteractiveShellApp.init_path()\n",
      "/usr/local/lib/python3.5/dist-packages/ipykernel_launcher.py:12: RuntimeWarning: invalid value encountered in greater\n",
      "  if sys.path[0] == '':\n"
     ]
    },
    {
     "ename": "IndexError",
     "evalue": "only integers, slices (`:`), ellipsis (`...`), numpy.newaxis (`None`) and integer or boolean arrays are valid indices",
     "output_type": "error",
     "traceback": [
      "\u001b[0;31m---------------------------------------------------------------------------\u001b[0m",
      "\u001b[0;31mIndexError\u001b[0m                                Traceback (most recent call last)",
      "\u001b[0;32m<ipython-input-305-e7bad93e4948>\u001b[0m in \u001b[0;36m<module>\u001b[0;34m()\u001b[0m\n\u001b[1;32m     19\u001b[0m \u001b[0mIterateFlag\u001b[0m\u001b[0;34m=\u001b[0m\u001b[0;36m1\u001b[0m\u001b[0;34m\u001b[0m\u001b[0m\n\u001b[1;32m     20\u001b[0m \u001b[0;32mwhile\u001b[0m \u001b[0;34m(\u001b[0m\u001b[0;34m(\u001b[0m\u001b[0mtime\u001b[0m\u001b[0;34m<\u001b[0m\u001b[0mMaxTime\u001b[0m\u001b[0;34m)\u001b[0m \u001b[0;32mand\u001b[0m \u001b[0;34m(\u001b[0m\u001b[0mIterateFlag\u001b[0m\u001b[0;34m==\u001b[0m\u001b[0;36m1\u001b[0m\u001b[0;34m)\u001b[0m\u001b[0;34m)\u001b[0m\u001b[0;34m:\u001b[0m\u001b[0;34m\u001b[0m\u001b[0m\n\u001b[0;32m---> 21\u001b[0;31m     \u001b[0mStatus\u001b[0m\u001b[0;34m=\u001b[0m\u001b[0mIterate\u001b[0m\u001b[0;34m(\u001b[0m\u001b[0mStatus\u001b[0m\u001b[0;34m,\u001b[0m \u001b[0mx\u001b[0m\u001b[0;34m,\u001b[0m \u001b[0my\u001b[0m\u001b[0;34m,\u001b[0m \u001b[0mSuscept\u001b[0m\u001b[0;34m,\u001b[0m \u001b[0mTransmiss\u001b[0m\u001b[0;34m,\u001b[0m \u001b[0mRingCull\u001b[0m\u001b[0;34m,\u001b[0m \u001b[0mgrid\u001b[0m\u001b[0;34m,\u001b[0m \u001b[0mfirst_in_grid\u001b[0m\u001b[0;34m,\u001b[0m \u001b[0mlast_in_grid\u001b[0m\u001b[0;34m,\u001b[0m \u001b[0mNum\u001b[0m\u001b[0;34m,\u001b[0m \u001b[0mMaxRate\u001b[0m\u001b[0;34m)\u001b[0m\u001b[0;34m\u001b[0m\u001b[0m\n\u001b[0m\u001b[1;32m     22\u001b[0m     \u001b[0;34m[\u001b[0m\u001b[0mSus\u001b[0m\u001b[0;34m]\u001b[0m\u001b[0;34m=\u001b[0m\u001b[0mnp\u001b[0m\u001b[0;34m.\u001b[0m\u001b[0mwhere\u001b[0m\u001b[0;34m(\u001b[0m\u001b[0mStatus\u001b[0m\u001b[0;34m==\u001b[0m\u001b[0;36m0\u001b[0m\u001b[0;34m)\u001b[0m\u001b[0;34m\u001b[0m\u001b[0m\n\u001b[1;32m     23\u001b[0m     \u001b[0;34m[\u001b[0m\u001b[0mExp\u001b[0m\u001b[0;34m]\u001b[0m\u001b[0;34m=\u001b[0m\u001b[0mnp\u001b[0m\u001b[0;34m.\u001b[0m\u001b[0mwhere\u001b[0m\u001b[0;34m(\u001b[0m\u001b[0;34m(\u001b[0m\u001b[0mStatus\u001b[0m\u001b[0;34m>\u001b[0m\u001b[0;36m0\u001b[0m\u001b[0;34m)\u001b[0m \u001b[0;34m&\u001b[0m \u001b[0;34m(\u001b[0m\u001b[0mStatus\u001b[0m\u001b[0;34m<=\u001b[0m\u001b[0;36m5\u001b[0m\u001b[0;34m)\u001b[0m\u001b[0;34m)\u001b[0m\u001b[0;34m\u001b[0m\u001b[0m\n",
      "\u001b[0;32m<ipython-input-304-6b80baf82d90>\u001b[0m in \u001b[0;36mIterate\u001b[0;34m(Status, x, y, Suscept, Transmiss, RingCull, grid, first_in_grid, last_in_grid, Num, MaxRate)\u001b[0m\n\u001b[1;32m     27\u001b[0m                     \u001b[0;32mif\u001b[0m \u001b[0;34m(\u001b[0m\u001b[0mR\u001b[0m\u001b[0;34m<\u001b[0m\u001b[0mPAB\u001b[0m\u001b[0;34m/\u001b[0m\u001b[0mP\u001b[0m\u001b[0;34m)\u001b[0m\u001b[0;34m:\u001b[0m\u001b[0;34m\u001b[0m\u001b[0m\n\u001b[1;32m     28\u001b[0m                         \u001b[0ms\u001b[0m\u001b[0;34m=\u001b[0m\u001b[0;36m0\u001b[0m\u001b[0;34m;\u001b[0m\u001b[0;34m\u001b[0m\u001b[0m\n\u001b[0;32m---> 29\u001b[0;31m                         \u001b[0mQ\u001b[0m\u001b[0;34m=\u001b[0m\u001b[0;36m1\u001b[0m\u001b[0;34m-\u001b[0m\u001b[0mnp\u001b[0m\u001b[0;34m.\u001b[0m\u001b[0mexp\u001b[0m\u001b[0;34m(\u001b[0m\u001b[0;34m-\u001b[0m\u001b[0mTransmiss\u001b[0m\u001b[0;34m[\u001b[0m\u001b[0mint\u001b[0m\u001b[0;34m(\u001b[0m\u001b[0mINFi\u001b[0m\u001b[0;34m)\u001b[0m\u001b[0;34m]\u001b[0m\u001b[0;34m*\u001b[0m\u001b[0mSuscept\u001b[0m\u001b[0;34m[\u001b[0m\u001b[0mind\u001b[0m\u001b[0;34m]\u001b[0m\u001b[0;34m*\u001b[0m\u001b[0mKernel\u001b[0m\u001b[0;34m(\u001b[0m\u001b[0;34m(\u001b[0m\u001b[0mx\u001b[0m\u001b[0;34m[\u001b[0m\u001b[0mINFi\u001b[0m\u001b[0;34m]\u001b[0m\u001b[0;34m-\u001b[0m\u001b[0mx\u001b[0m\u001b[0;34m[\u001b[0m\u001b[0mind\u001b[0m\u001b[0;34m]\u001b[0m\u001b[0;34m)\u001b[0m\u001b[0;34m**\u001b[0m\u001b[0;36m2\u001b[0m\u001b[0;34m+\u001b[0m\u001b[0;34m(\u001b[0m\u001b[0my\u001b[0m\u001b[0;34m[\u001b[0m\u001b[0mINFi\u001b[0m\u001b[0;34m]\u001b[0m\u001b[0;34m-\u001b[0m\u001b[0my\u001b[0m\u001b[0;34m[\u001b[0m\u001b[0mind\u001b[0m\u001b[0;34m]\u001b[0m\u001b[0;34m)\u001b[0m\u001b[0;34m**\u001b[0m\u001b[0;36m2\u001b[0m\u001b[0;34m)\u001b[0m\u001b[0;34m)\u001b[0m\u001b[0;34m;\u001b[0m\u001b[0;34m\u001b[0m\u001b[0m\n\u001b[0m\u001b[1;32m     30\u001b[0m                         \u001b[0;32mif\u001b[0m \u001b[0;34m(\u001b[0m\u001b[0mR\u001b[0m\u001b[0;34m<\u001b[0m\u001b[0mQ\u001b[0m\u001b[0;34m/\u001b[0m\u001b[0mP\u001b[0m \u001b[0;32mand\u001b[0m \u001b[0mStatus\u001b[0m\u001b[0;34m[\u001b[0m\u001b[0mind\u001b[0m\u001b[0;34m]\u001b[0m\u001b[0;34m==\u001b[0m\u001b[0;36m0\u001b[0m\u001b[0;34m)\u001b[0m\u001b[0;34m:\u001b[0m\u001b[0;34m\u001b[0m\u001b[0m\n\u001b[1;32m     31\u001b[0m                             \u001b[0mEvent\u001b[0m\u001b[0;34m[\u001b[0m\u001b[0mind\u001b[0m\u001b[0;34m]\u001b[0m\u001b[0;34m=\u001b[0m\u001b[0;36m1\u001b[0m\u001b[0;34m;\u001b[0m\u001b[0;34m\u001b[0m\u001b[0m\n",
      "\u001b[0;31mIndexError\u001b[0m: only integers, slices (`:`), ellipsis (`...`), numpy.newaxis (`None`) and integer or boolean arrays are valid indices"
     ]
    }
   ],
   "source": [
    "i=0;t = np.zeros(MaxTime+100);t[i]=0;\n",
    "S = np.zeros(MaxTime+100)\n",
    "E = np.zeros(MaxTime+100)\n",
    "I = np.zeros(MaxTime+100)\n",
    "R = np.zeros(MaxTime+100)\n",
    "R2 = np.zeros(MaxTime+100)\n",
    "CullSheep = np.zeros(MaxTime+100)\n",
    "CullCattle = np.zeros(MaxTime+100)\n",
    "\n",
    "\n",
    "S[i]=len(Status[Status==0]);time=0\n",
    "E[i]=len(Status[(Status>0)& (Status<=5)])\n",
    "I[i]=len(Status[(Status>5)& (Status<=9)])\n",
    "R[i]=len(Status[Status==10])\n",
    "R2[i]=len(Status[Status>9])\n",
    "CullSheep[i]=0\n",
    "CullCattle[i]=0\n",
    "i=i+1\n",
    "IterateFlag=1\n",
    "while ((time<MaxTime) and (IterateFlag==1)):\n",
    "    Status=Iterate(Status, x, y, Suscept, Transmiss, RingCull, grid, first_in_grid, last_in_grid, Num, MaxRate)\n",
    "    [Sus]=np.where(Status==0)\n",
    "    [Exp]=np.where((Status>0) & (Status<=5))\n",
    "    [Inf]=np.where((Status>5) & (Status<=9))\n",
    "    [Rep]=np.where(Status>9)\n",
    "    [Culled]=np.where(Status<0)\n",
    "    S[i]=len(Sus); E[i]=len(Exp); I[i]=len(Inf);\n",
    "    R[i]=len(Status[Status==10])\n",
    "    R2[i]=len(Rep)\n",
    "    CullSheep[i]=sum(Sheep[Culled]);CullCattle[i]=sum(Cows[Culled])\n",
    "    t[i]=t[i-1]+1;i=i+1\n",
    "    time+=1\n",
    "    if (t[-1]>5):\n",
    "        if (E[-4]+I[-4]+R2[-4]==0):\n",
    "            IterateFlag=0\n",
    "            \n",
    "    xculledplot = [x[i] for i in Culled]\n",
    "    xsusplot = [x[i] for i in Sus]\n",
    "    xexpplot = [x[i] for i in Exp]\n",
    "    xinfplot = [x[i] for i in Inf]\n",
    "    xrepplot = [x[i] for i in Rep]\n",
    "    \n",
    "    yculledplot = [y[i] for i in Culled]\n",
    "    ysusplot = [y[i] for i in Sus]\n",
    "    yexpplot = [y[i] for i in Exp]\n",
    "    yinfplot = [y[i] for i in Inf]\n",
    "    yrepplot = [y[i] for i in Rep]\n",
    "    \n",
    "    plt.scatter(xculledplot, yculledplot)\n",
    "    plt.scatter(xsusplot, ysusplot)\n",
    "    plt.scatter(xexpplot, yexpplot)\n",
    "    plt.scatter(xinfplot, yinfplot)\n",
    "    plt.scatter(xrepplot, yrepplot)\n",
    "    plt.pause(0.05)"
   ]
  },
  {
   "cell_type": "code",
   "execution_count": 307,
   "metadata": {},
   "outputs": [
    {
     "ename": "NameError",
     "evalue": "name 'ind' is not defined",
     "output_type": "error",
     "traceback": [
      "\u001b[0;31m---------------------------------------------------------------------------\u001b[0m",
      "\u001b[0;31mNameError\u001b[0m                                 Traceback (most recent call last)",
      "\u001b[0;32m<ipython-input-307-950cb90295dd>\u001b[0m in \u001b[0;36m<module>\u001b[0;34m()\u001b[0m\n\u001b[0;32m----> 1\u001b[0;31m \u001b[0mind\u001b[0m\u001b[0;34m\u001b[0m\u001b[0m\n\u001b[0m",
      "\u001b[0;31mNameError\u001b[0m: name 'ind' is not defined"
     ]
    }
   ],
   "source": []
  },
  {
   "cell_type": "code",
   "execution_count": 61,
   "metadata": {},
   "outputs": [],
   "source": [
    "import pandas as pd"
   ]
  },
  {
   "cell_type": "code",
   "execution_count": 233,
   "metadata": {},
   "outputs": [
    {
     "data": {
      "text/plain": [
       "(array([3726]),)"
      ]
     },
     "execution_count": 233,
     "metadata": {},
     "output_type": "execute_result"
    }
   ],
   "source": [
    "np.where(Status==1)"
   ]
  },
  {
   "cell_type": "code",
   "execution_count": 218,
   "metadata": {},
   "outputs": [],
   "source": [
    "#pd.read_csv(\"movements_unique\")"
   ]
  },
  {
   "cell_type": "code",
   "execution_count": 68,
   "metadata": {},
   "outputs": [],
   "source": [
    "data=pd.read_csv(\"Farms_2010_RSG\",header=None, delim_whitespace=True)"
   ]
  },
  {
   "cell_type": "code",
   "execution_count": 71,
   "metadata": {},
   "outputs": [
    {
     "data": {
      "text/plain": [
       "array([  1.,   1.,   1., ...,  98.,  98.,  98.])"
      ]
     },
     "execution_count": 71,
     "metadata": {},
     "output_type": "execute_result"
    }
   ],
   "source": [
    "data.values[:,0]"
   ]
  },
  {
   "cell_type": "code",
   "execution_count": 72,
   "metadata": {},
   "outputs": [],
   "source": [
    "movement_data=pd.read_csv(\"movements_unique\",header=None, delim_whitespace=True)"
   ]
  },
  {
   "cell_type": "code",
   "execution_count": 74,
   "metadata": {},
   "outputs": [],
   "source": [
    "farmnum_from=movement_data.values[:,0]\n",
    "farmnum_to=movement_data.values[:,1]\n",
    "weight_link=movement_data.values[:,2]"
   ]
  },
  {
   "cell_type": "code",
   "execution_count": 77,
   "metadata": {},
   "outputs": [],
   "source": [
    "G=nx.read_weighted_edgelist(\"movements_unique\")"
   ]
  },
  {
   "cell_type": "code",
   "execution_count": 76,
   "metadata": {},
   "outputs": [],
   "source": [
    "import networkx as nx"
   ]
  },
  {
   "cell_type": "code",
   "execution_count": 121,
   "metadata": {},
   "outputs": [],
   "source": [
    "a=np.random.randint(0,10,8)"
   ]
  }
 ],
 "metadata": {
  "kernelspec": {
   "display_name": "Python 3",
   "language": "python",
   "name": "python3"
  },
  "language_info": {
   "codemirror_mode": {
    "name": "ipython",
    "version": 3
   },
   "file_extension": ".py",
   "mimetype": "text/x-python",
   "name": "python",
   "nbconvert_exporter": "python",
   "pygments_lexer": "ipython3",
   "version": "3.5.2"
  }
 },
 "nbformat": 4,
 "nbformat_minor": 2
}
