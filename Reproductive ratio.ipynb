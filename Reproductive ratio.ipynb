{
 "cells": [
  {
   "cell_type": "markdown",
   "metadata": {},
   "source": [
    "# Reproductive ratio of initial farm $R_i$\n",
    "\n",
    "- Matt/Mike (2009) farm level reproductive ratio $R_i$ is  $$R_i = \\sum_{j \\neq i} \\text{Prob}_{ij} = \\sum_{j \\neq i} 1 - \\exp(-\\text{Rate}_{ij} P). $$\n",
    "    Where P is the length of infectious period (they assumed to be fixed) and $\\text{Prob}_{ij}$ is the probability that farm i infects j over its entire infectious period. "
   ]
  },
  {
   "cell_type": "markdown",
   "metadata": {},
   "source": [
    "- Ferguson (2007) defined the relative risk of transmission an infectious farm i would pose to all susceptible farms in the country to be, $$ r_i = \\sum_{j \\neq i} \\text{Rate}_{ij} = (I_c n_{cj} + I_s n_{sj}) \\left( \\sum_{i \\neq j} (\\frac{s_c}{s_s} n_{ci} + n_{si})K(d_{ij}) \\right) .$$ Then he defined the reproduction number of farm i, $R_{0i}$ to be $r_i$ multiplied by the average duration of the infectiousness of a farm.\n",
    "\n",
    "\n"
   ]
  },
  {
   "cell_type": "markdown",
   "metadata": {},
   "source": [
    "\n",
    "- Using Jewell's (2007) rate, which is the rate of transmission to a susceptible farm j, $$ \\beta_{j,t} = \\nu ( \\xi (n_{cj}^\\chi + (n_{sj})^\\chi ) \\left( \\sum_{i \\in I_t} ( \\zeta (n_{ci})^\\chi + (n_{si})^\\chi ) K(d_{ij}) \\right). $$\n",
    "Then initially (under the assumption only one farm is infectious (farm i)),\n",
    "$$ \\text{Rate}_{ij} = \\nu \\ ( \\ \\xi \\ (n_{cj}^\\chi + (n_{sj})^\\chi ) ( \\ \\zeta \\ (n_{ci})^\\chi + (n_{si})^\\chi ) \\  K(d_{ij})$$"
   ]
  },
  {
   "cell_type": "code",
   "execution_count": 2,
   "metadata": {},
   "outputs": [],
   "source": [
    "import numpy as np\n",
    "import random as random\n",
    "import matplotlib.pyplot as plt\n",
    "import time\n",
    "import pandas as pd\n",
    "import multiprocessing\n",
    "import itertools\n",
    "from scipy.spatial import distance\n",
    "from matplotlib import animation\n",
    "\n",
    "PATH = '../StudyGroup/'"
   ]
  },
  {
   "cell_type": "code",
   "execution_count": 3,
   "metadata": {},
   "outputs": [],
   "source": [
    "farmData = pd.read_csv(PATH +'Farms_2010_RSG', sep = '\\s+', header = None, names = ['County Number', 'Parish Number', 'Holding Number',\n",
    "                                                                              'X Coordinate', 'Y Coordinate', 'Number of Cattle', \n",
    "                                                                              'Number of Sheep'])\n",
    "cumbData = farmData[farmData['County Number'] == 8]\n",
    "cumbData = cumbData.reset_index(drop=True)\n",
    "xCumb = cumbData['X Coordinate']/100000\n",
    "yCumb = cumbData['Y Coordinate']/100000\n",
    "xmax = np.max(xCumb)\n",
    "xmin = np.min(xCumb)\n",
    "ymax = np.max(yCumb)\n",
    "ymin = np.min(yCumb)\n",
    "sizex = xmax-xmin\n",
    "sizey = ymax-ymin\n",
    "cattleFrame = cumbData['Number of Cattle']\n",
    "sheepFrame = cumbData['Number of Sheep']\n",
    "xcoord = xCumb - xmin #Shift to start from (0, 0)\n",
    "ycoord = yCumb - ymin #Shift to start from (0, 0)\n",
    "N=np.size(xcoord)"
   ]
  },
  {
   "cell_type": "code",
   "execution_count": 4,
   "metadata": {},
   "outputs": [],
   "source": [
    "xinput = xcoord.values\n",
    "yinput = ycoord.values\n",
    "joinedinput = np.column_stack((xinput, yinput))\n",
    "dist = distance.cdist(joinedinput, joinedinput, 'euclidean')"
   ]
  },
  {
   "cell_type": "code",
   "execution_count": 5,
   "metadata": {},
   "outputs": [],
   "source": [
    "psi = 0.00657\n",
    "nu = 1.99*(10**(-7))\n",
    "xi = 2.65\n",
    "zeta = 1.80\n",
    "chi = 0.403\n",
    "s = np.random.negative_binomial(50, 50/55, N) #Draw latent periods\n",
    "r = np.random.negative_binomial(30, 30/39, N) #Draw infectious periods\n",
    "\n",
    "t = 0\n",
    "A = np.zeros(shape=(N,4))\n",
    "output = np.zeros(shape=(N,6))\n",
    "mycolumns = ['Farm Number', 'Status', 'Time of Exposure', 'Time of Culling',\n",
    "                                       'Latent Period', 'Infectious Period', 'X coordinate', 'Y coordinate']\n",
    "InfectedFarms  = pd.DataFrame(columns =mycolumns)"
   ]
  },
  {
   "cell_type": "code",
   "execution_count": 6,
   "metadata": {},
   "outputs": [],
   "source": [
    "InfectedFarms['Farm Number']= cumbData.index                                                                                               \n",
    "InfectedFarms['Status' ] = np.zeros(N)\n",
    "InfectedFarms['Latent Period'] = s\n",
    "InfectedFarms['Infectious Period'] = r\n",
    "InfectedFarms['X coordinate'] = xinput\n",
    "InfectedFarms['Y coordinate'] = yinput\n",
    "InfectedFarms[['Time of Exposure', 'Time of Culling']]=[-100,-100]"
   ]
  },
  {
   "cell_type": "code",
   "execution_count": 31,
   "metadata": {},
   "outputs": [],
   "source": [
    "cattle = abs(cattleFrame.values)\n",
    "sheep = abs(sheepFrame.values)\n",
    "K = psi/(psi**2 + dist**2)\n",
    "\n",
    "K[np.where(dist > 0.2)] = 0\n",
    "\n",
    "beta1 = np.zeros(N)\n",
    "beta2 = np.zeros(N)\n",
    "beta1 = nu*(xi*(cattle)**chi + (sheep)**chi) #susceptible farm\n",
    "beta2 = zeta*(cattle)**chi + (sheep)**chi"
   ]
  },
  {
   "cell_type": "code",
   "execution_count": 32,
   "metadata": {},
   "outputs": [],
   "source": [
    "rate_matrix = np.zeros((N, N))"
   ]
  },
  {
   "cell_type": "code",
   "execution_count": 35,
   "metadata": {},
   "outputs": [],
   "source": [
    "for j in range(N):\n",
    "    for i in range(N):\n",
    "        rate_matrix[i,j] = beta2[i]*beta2[j]*K[i,j]"
   ]
  },
  {
   "cell_type": "code",
   "execution_count": 62,
   "metadata": {},
   "outputs": [],
   "source": [
    "A = np.sum(np.ones((N,N))-np.exp(-rate_matrix), axis = 1)"
   ]
  },
  {
   "cell_type": "code",
   "execution_count": null,
   "metadata": {},
   "outputs": [],
   "source": []
  }
 ],
 "metadata": {
  "kernelspec": {
   "display_name": "Python 3",
   "language": "python",
   "name": "python3"
  },
  "language_info": {
   "codemirror_mode": {
    "name": "ipython",
    "version": 3
   },
   "file_extension": ".py",
   "mimetype": "text/x-python",
   "name": "python",
   "nbconvert_exporter": "python",
   "pygments_lexer": "ipython3",
   "version": "3.5.2"
  }
 },
 "nbformat": 4,
 "nbformat_minor": 2
}
